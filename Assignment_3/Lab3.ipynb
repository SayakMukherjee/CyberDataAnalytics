{
 "cells": [
  {
   "cell_type": "markdown",
   "metadata": {
    "id": "vy8MLIQT49j2"
   },
   "source": [
    "# CS4035 - Cyber Data Analytics\n",
    "## Lab 3 "
   ]
  },
  {
   "cell_type": "markdown",
   "metadata": {
    "id": "Sd-fjKTP49j5"
   },
   "source": [
    "### Submit on brightspace (zip file with the name Group_xx.zip)\n",
    "(i) This jupyter file completed with code, plots, figures and report for each question. Additional plots and figures can be created for explanation before the end of each main question. Lab 3 contains 4 main questions + 1 bonus. Write the code or explanation below each sub question. For the explantions, include what you would normally include in the report for this lab assignment, for example data pre-processing, hypothesis tested, approach, results, etc.\n",
    "(ii) A PDF or a Word report for the assignment. Create a report from the plots, figures, tables and the write-up that you provide in this jupyter file. The report will be used as a proof for page limit. \n",
    "(iii) The libraries needed to run this file. \n",
    "\n",
    "Your peers should be able to use the readme section for instructions and be able to run this file. "
   ]
  },
  {
   "cell_type": "markdown",
   "metadata": {
    "id": "602L8q2749j6"
   },
   "source": [
    "## Group Number :"
   ]
  },
  {
   "cell_type": "markdown",
   "metadata": {
    "id": "_rfcAy4549j6"
   },
   "source": [
    "## Student 1 \n",
    "### Name : Vishruty Mittal\n",
    "### ID : 5584825"
   ]
  },
  {
   "cell_type": "markdown",
   "metadata": {
    "id": "lREvTqMX49j7"
   },
   "source": [
    "## Student 2\n",
    "### Name : Sayak Mukherjee\n",
    "### ID : 5222273"
   ]
  },
  {
   "cell_type": "markdown",
   "metadata": {
    "id": "5IzgafmV49j8"
   },
   "source": [
    "## Readme - Provide instructions - libraries used, location of the data file, etc. Keep it short. Remember your peers will not debug your code and should be able to reproduce the exact output you provide."
   ]
  },
  {
   "cell_type": "code",
   "execution_count": 78,
   "metadata": {
    "id": "IgWxfkweKLD_"
   },
   "outputs": [],
   "source": [
    "import pandas as pd\n",
    "import numpy as np\n",
    "import mmh3\n",
    "import os, json\n",
    "import seaborn as sns\n",
    "import matplotlib.pyplot as plt\n",
    "\n",
    "from sklearn.preprocessing import KBinsDiscretizer\n",
    "from sklearn.preprocessing import quantile_transform\n",
    "from sklearn.preprocessing import LabelEncoder\n",
    "from sklearn.neighbors import NearestNeighbors\n",
    "from sklearn.metrics import confusion_matrix\n",
    "from sklearn.cluster import KMeans\n",
    "from yellowbrick.cluster import KElbowVisualizer\n",
    "from nltk import ngrams\n",
    "from collections import defaultdict\n",
    "from functools import reduce\n",
    "from itertools import permutations\n",
    "from tqdm import tqdm\n",
    "from flexfringe import FlexFringe"
   ]
  },
  {
   "cell_type": "code",
   "execution_count": 2,
   "metadata": {},
   "outputs": [],
   "source": [
    "import warnings\n",
    "warnings.filterwarnings('ignore')"
   ]
  },
  {
   "cell_type": "code",
   "execution_count": 3,
   "metadata": {
    "colab": {
     "base_uri": "https://localhost:8080/"
    },
    "id": "4LPfJxNh49j9",
    "outputId": "d4f0e0cd-248f-46d3-f60c-a8cb40d27c97"
   },
   "outputs": [],
   "source": [
    "#Uncomment for colab\n",
    "\n",
    "# from google.colab import drive\n",
    "# drive.mount('/content/drive')"
   ]
  },
  {
   "cell_type": "code",
   "execution_count": 4,
   "metadata": {
    "colab": {
     "base_uri": "https://localhost:8080/"
    },
    "id": "wzWMHpj47Yef",
    "outputId": "78292b0a-068b-49d1-f15e-4b5832c788ca"
   },
   "outputs": [],
   "source": [
    "# !mkdir data\n",
    "\n",
    "# !cp '/content/drive/MyDrive/Colab Notebooks/CDA/dataset_lab3.zip' 'data/' # Location of data zipped file\n",
    "# %cd data/\n",
    "# !unzip dataset_lab3.zip\n",
    "# %cd .."
   ]
  },
  {
   "cell_type": "code",
   "execution_count": 5,
   "metadata": {
    "id": "VjBqv6a9KDyq"
   },
   "outputs": [],
   "source": [
    "data = pd.read_csv(\"data/dataset_10/capture20110818.binetflow\")"
   ]
  },
  {
   "cell_type": "code",
   "execution_count": 6,
   "metadata": {
    "colab": {
     "base_uri": "https://localhost:8080/"
    },
    "id": "YRAM1eqfKSk8",
    "outputId": "488e4474-0e9b-4006-e389-77e8b5f3d080"
   },
   "outputs": [
    {
     "data": {
      "text/html": [
       "<div>\n",
       "<style scoped>\n",
       "    .dataframe tbody tr th:only-of-type {\n",
       "        vertical-align: middle;\n",
       "    }\n",
       "\n",
       "    .dataframe tbody tr th {\n",
       "        vertical-align: top;\n",
       "    }\n",
       "\n",
       "    .dataframe thead th {\n",
       "        text-align: right;\n",
       "    }\n",
       "</style>\n",
       "<table border=\"1\" class=\"dataframe\">\n",
       "  <thead>\n",
       "    <tr style=\"text-align: right;\">\n",
       "      <th></th>\n",
       "      <th>StartTime</th>\n",
       "      <th>Dur</th>\n",
       "      <th>Proto</th>\n",
       "      <th>SrcAddr</th>\n",
       "      <th>Sport</th>\n",
       "      <th>Dir</th>\n",
       "      <th>DstAddr</th>\n",
       "      <th>Dport</th>\n",
       "      <th>State</th>\n",
       "      <th>sTos</th>\n",
       "      <th>dTos</th>\n",
       "      <th>TotPkts</th>\n",
       "      <th>TotBytes</th>\n",
       "      <th>SrcBytes</th>\n",
       "      <th>Label</th>\n",
       "    </tr>\n",
       "  </thead>\n",
       "  <tbody>\n",
       "    <tr>\n",
       "      <th>0</th>\n",
       "      <td>2011/08/18 10:21:46.633335</td>\n",
       "      <td>1.060248</td>\n",
       "      <td>tcp</td>\n",
       "      <td>93.45.239.29</td>\n",
       "      <td>1611</td>\n",
       "      <td>-&gt;</td>\n",
       "      <td>147.32.84.118</td>\n",
       "      <td>6881</td>\n",
       "      <td>S_RA</td>\n",
       "      <td>0.0</td>\n",
       "      <td>0.0</td>\n",
       "      <td>4</td>\n",
       "      <td>252</td>\n",
       "      <td>132</td>\n",
       "      <td>flow=Background-TCP-Attempt</td>\n",
       "    </tr>\n",
       "    <tr>\n",
       "      <th>1</th>\n",
       "      <td>2011/08/18 10:19:49.027650</td>\n",
       "      <td>279.349152</td>\n",
       "      <td>tcp</td>\n",
       "      <td>62.240.166.118</td>\n",
       "      <td>1031</td>\n",
       "      <td>&lt;?&gt;</td>\n",
       "      <td>147.32.84.229</td>\n",
       "      <td>13363</td>\n",
       "      <td>SRPA_PA</td>\n",
       "      <td>0.0</td>\n",
       "      <td>0.0</td>\n",
       "      <td>15</td>\n",
       "      <td>1318</td>\n",
       "      <td>955</td>\n",
       "      <td>flow=Background-TCP-Attempt</td>\n",
       "    </tr>\n",
       "    <tr>\n",
       "      <th>2</th>\n",
       "      <td>2011/08/18 10:22:07.160628</td>\n",
       "      <td>166.390015</td>\n",
       "      <td>tcp</td>\n",
       "      <td>147.32.86.148</td>\n",
       "      <td>58067</td>\n",
       "      <td>-&gt;</td>\n",
       "      <td>66.235.132.232</td>\n",
       "      <td>80</td>\n",
       "      <td>SR_SA</td>\n",
       "      <td>0.0</td>\n",
       "      <td>0.0</td>\n",
       "      <td>3</td>\n",
       "      <td>212</td>\n",
       "      <td>134</td>\n",
       "      <td>flow=Background-TCP-Established</td>\n",
       "    </tr>\n",
       "    <tr>\n",
       "      <th>3</th>\n",
       "      <td>2011/08/18 10:26:02.052163</td>\n",
       "      <td>1.187083</td>\n",
       "      <td>tcp</td>\n",
       "      <td>147.32.3.51</td>\n",
       "      <td>3130</td>\n",
       "      <td>-&gt;</td>\n",
       "      <td>147.32.84.46</td>\n",
       "      <td>10010</td>\n",
       "      <td>S_RA</td>\n",
       "      <td>0.0</td>\n",
       "      <td>0.0</td>\n",
       "      <td>4</td>\n",
       "      <td>244</td>\n",
       "      <td>124</td>\n",
       "      <td>flow=Background-TCP-Attempt</td>\n",
       "    </tr>\n",
       "    <tr>\n",
       "      <th>4</th>\n",
       "      <td>2011/08/18 10:26:52.226748</td>\n",
       "      <td>0.980571</td>\n",
       "      <td>tcp</td>\n",
       "      <td>88.212.37.169</td>\n",
       "      <td>3134</td>\n",
       "      <td>-&gt;</td>\n",
       "      <td>147.32.84.118</td>\n",
       "      <td>6881</td>\n",
       "      <td>S_RA</td>\n",
       "      <td>0.0</td>\n",
       "      <td>0.0</td>\n",
       "      <td>4</td>\n",
       "      <td>244</td>\n",
       "      <td>124</td>\n",
       "      <td>flow=Background-TCP-Attempt</td>\n",
       "    </tr>\n",
       "  </tbody>\n",
       "</table>\n",
       "</div>"
      ],
      "text/plain": [
       "                    StartTime         Dur Proto         SrcAddr  Sport    Dir  \\\n",
       "0  2011/08/18 10:21:46.633335    1.060248   tcp    93.45.239.29   1611     ->   \n",
       "1  2011/08/18 10:19:49.027650  279.349152   tcp  62.240.166.118   1031    <?>   \n",
       "2  2011/08/18 10:22:07.160628  166.390015   tcp   147.32.86.148  58067     ->   \n",
       "3  2011/08/18 10:26:02.052163    1.187083   tcp     147.32.3.51   3130     ->   \n",
       "4  2011/08/18 10:26:52.226748    0.980571   tcp   88.212.37.169   3134     ->   \n",
       "\n",
       "          DstAddr  Dport    State  sTos  dTos  TotPkts  TotBytes  SrcBytes  \\\n",
       "0   147.32.84.118   6881     S_RA   0.0   0.0        4       252       132   \n",
       "1   147.32.84.229  13363  SRPA_PA   0.0   0.0       15      1318       955   \n",
       "2  66.235.132.232     80    SR_SA   0.0   0.0        3       212       134   \n",
       "3    147.32.84.46  10010     S_RA   0.0   0.0        4       244       124   \n",
       "4   147.32.84.118   6881     S_RA   0.0   0.0        4       244       124   \n",
       "\n",
       "                             Label  \n",
       "0      flow=Background-TCP-Attempt  \n",
       "1      flow=Background-TCP-Attempt  \n",
       "2  flow=Background-TCP-Established  \n",
       "3      flow=Background-TCP-Attempt  \n",
       "4      flow=Background-TCP-Attempt  "
      ]
     },
     "execution_count": 6,
     "metadata": {},
     "output_type": "execute_result"
    }
   ],
   "source": [
    "data.head()"
   ]
  },
  {
   "cell_type": "markdown",
   "metadata": {
    "id": "A0QfuF3E49j9"
   },
   "source": [
    "## 1. Familiarization and discretization task – 1 A4 (5 Points)"
   ]
  },
  {
   "cell_type": "code",
   "execution_count": 7,
   "metadata": {},
   "outputs": [],
   "source": [
    "def encode_data(dataframe, label_only=False, background_label = \"2\"):\n",
    "    \n",
    "    # normal traffic\n",
    "    dataframe.loc[\n",
    "        (dataframe[\"Label\"].str.startswith(\"flow=From-Normal\"))\n",
    "        | (dataframe[\"Label\"].str.startswith(\"flow=To-Normal\"))\n",
    "        | (dataframe[\"Label\"].str.startswith(\"flow=Normal\")),\n",
    "        \"Label\",\n",
    "    ] = \"0\"\n",
    "\n",
    "    # background traffic\n",
    "    dataframe.loc[\n",
    "        (dataframe[\"Label\"].str.startswith(\"flow=Background\"))\n",
    "        | (dataframe[\"Label\"].str.startswith(\"flow=To-Background\"))\n",
    "        | (dataframe[\"Label\"].str.startswith(\"flow=From-Background\")),\n",
    "        \"Label\",\n",
    "    ] = background_label\n",
    "\n",
    "    # botnet traffic\n",
    "    dataframe.loc[dataframe[\"Label\"].str.startswith(\"flow=From-Botnet\"), \"Label\"] = \"1\"\n",
    "    \n",
    "    if not label_only:\n",
    "        enc = LabelEncoder()\n",
    "        enc.fit(dataframe[\"Label\"])\n",
    "        dataframe.loc[:, \"Label\"] = enc.transform(dataframe[\"Label\"])\n",
    "\n",
    "        enc = LabelEncoder()\n",
    "        enc.fit(dataframe[\"Proto\"])\n",
    "        dataframe.loc[:, \"Proto\"] = enc.transform(dataframe[\"Proto\"])\n",
    "\n",
    "        enc = LabelEncoder()\n",
    "        enc.fit(dataframe[\"Dir\"])\n",
    "        dataframe.loc[:, \"Dir\"] = enc.transform(dataframe[\"Dir\"])\n",
    "\n",
    "        enc = LabelEncoder()\n",
    "        enc.fit(dataframe[\"Sport\"])\n",
    "        dataframe.loc[:, \"Sport\"] = enc.transform(dataframe[\"Sport\"])\n",
    "\n",
    "        enc = LabelEncoder()\n",
    "        enc.fit(dataframe[\"Dport\"])\n",
    "        dataframe.loc[:, \"Dport\"] = enc.transform(dataframe[\"Dport\"])\n",
    "\n",
    "        enc = LabelEncoder()\n",
    "        enc.fit(dataframe[\"sTos\"])\n",
    "        dataframe.loc[:, \"sTos\"] = enc.transform(dataframe[\"sTos\"])\n",
    "\n",
    "        enc = LabelEncoder()\n",
    "        enc.fit(dataframe[\"dTos\"])\n",
    "        dataframe.loc[:, \"dTos\"] = enc.transform(dataframe[\"dTos\"])\n",
    "\n",
    "    return dataframe"
   ]
  },
  {
   "cell_type": "code",
   "execution_count": 8,
   "metadata": {},
   "outputs": [],
   "source": [
    "# get hosts traffic without background \n",
    "\n",
    "hosts_wo_background = data.loc[~data.Label.str.contains('(Background)', regex=True, na=False), :]\n",
    "hosts_wo_background = encode_data(hosts_wo_background)"
   ]
  },
  {
   "cell_type": "code",
   "execution_count": 9,
   "metadata": {},
   "outputs": [
    {
     "data": {
      "image/png": "[encoded data removed]",
      "text/plain": [
       "<Figure size 1008x72 with 2 Axes>"
      ]
     },
     "metadata": {},
     "output_type": "display_data"
    }
   ],
   "source": [
    "#correlation matrices\n",
    "f, (ax1) = plt.subplots(1,figsize =(14, 1))\n",
    "sns.heatmap(hosts_wo_background.corr(\"spearman\").loc[['Label']],cmap = 'coolwarm', annot=True)\n",
    "ax1.set_title('Complete Data')\n",
    "plt.show()"
   ]
  },
  {
   "cell_type": "code",
   "execution_count": 10,
   "metadata": {
    "colab": {
     "base_uri": "https://localhost:8080/",
     "height": 250
    },
    "id": "gQiQzweYPqeO",
    "outputId": "52e9287a-aad6-42da-f3b4-786c16738a9d"
   },
   "outputs": [
    {
     "data": {
      "text/html": [
       "<div>\n",
       "<style scoped>\n",
       "    .dataframe tbody tr th:only-of-type {\n",
       "        vertical-align: middle;\n",
       "    }\n",
       "\n",
       "    .dataframe tbody tr th {\n",
       "        vertical-align: top;\n",
       "    }\n",
       "\n",
       "    .dataframe thead th {\n",
       "        text-align: right;\n",
       "    }\n",
       "</style>\n",
       "<table border=\"1\" class=\"dataframe\">\n",
       "  <thead>\n",
       "    <tr style=\"text-align: right;\">\n",
       "      <th></th>\n",
       "      <th>StartTime</th>\n",
       "      <th>Dur</th>\n",
       "      <th>Proto</th>\n",
       "      <th>SrcAddr</th>\n",
       "      <th>Sport</th>\n",
       "      <th>Dir</th>\n",
       "      <th>DstAddr</th>\n",
       "      <th>Dport</th>\n",
       "      <th>State</th>\n",
       "      <th>sTos</th>\n",
       "      <th>dTos</th>\n",
       "      <th>TotPkts</th>\n",
       "      <th>TotBytes</th>\n",
       "      <th>SrcBytes</th>\n",
       "      <th>Label</th>\n",
       "    </tr>\n",
       "  </thead>\n",
       "  <tbody>\n",
       "    <tr>\n",
       "      <th>90622</th>\n",
       "      <td>2011/08/18 10:37:58.448307</td>\n",
       "      <td>0.000342</td>\n",
       "      <td>udp</td>\n",
       "      <td>147.32.84.165</td>\n",
       "      <td>1025</td>\n",
       "      <td>&lt;-&gt;</td>\n",
       "      <td>147.32.80.9</td>\n",
       "      <td>53</td>\n",
       "      <td>CON</td>\n",
       "      <td>0.0</td>\n",
       "      <td>0.0</td>\n",
       "      <td>2</td>\n",
       "      <td>203</td>\n",
       "      <td>64</td>\n",
       "      <td>flow=From-Botnet-V51-1-UDP-DNS</td>\n",
       "    </tr>\n",
       "    <tr>\n",
       "      <th>90808</th>\n",
       "      <td>2011/08/18 10:38:00.695278</td>\n",
       "      <td>0.010278</td>\n",
       "      <td>udp</td>\n",
       "      <td>147.32.84.165</td>\n",
       "      <td>1025</td>\n",
       "      <td>&lt;-&gt;</td>\n",
       "      <td>147.32.80.9</td>\n",
       "      <td>53</td>\n",
       "      <td>CON</td>\n",
       "      <td>0.0</td>\n",
       "      <td>0.0</td>\n",
       "      <td>2</td>\n",
       "      <td>590</td>\n",
       "      <td>87</td>\n",
       "      <td>flow=From-Botnet-V51-1-UDP-DNS</td>\n",
       "    </tr>\n",
       "    <tr>\n",
       "      <th>90809</th>\n",
       "      <td>2011/08/18 10:38:00.706560</td>\n",
       "      <td>0.043726</td>\n",
       "      <td>tcp</td>\n",
       "      <td>147.32.84.165</td>\n",
       "      <td>1027</td>\n",
       "      <td>-&gt;</td>\n",
       "      <td>74.125.232.206</td>\n",
       "      <td>80</td>\n",
       "      <td>SRPA_SPA</td>\n",
       "      <td>0.0</td>\n",
       "      <td>0.0</td>\n",
       "      <td>7</td>\n",
       "      <td>882</td>\n",
       "      <td>629</td>\n",
       "      <td>flow=From-Botnet-V51-1-TCP-HTTP-Google-Net-Est...</td>\n",
       "    </tr>\n",
       "    <tr>\n",
       "      <th>90965</th>\n",
       "      <td>2011/08/18 10:38:03.255934</td>\n",
       "      <td>0.010256</td>\n",
       "      <td>udp</td>\n",
       "      <td>147.32.84.165</td>\n",
       "      <td>1025</td>\n",
       "      <td>&lt;-&gt;</td>\n",
       "      <td>147.32.80.9</td>\n",
       "      <td>53</td>\n",
       "      <td>CON</td>\n",
       "      <td>0.0</td>\n",
       "      <td>0.0</td>\n",
       "      <td>2</td>\n",
       "      <td>479</td>\n",
       "      <td>76</td>\n",
       "      <td>flow=From-Botnet-V51-1-UDP-DNS</td>\n",
       "    </tr>\n",
       "    <tr>\n",
       "      <th>90968</th>\n",
       "      <td>2011/08/18 10:38:03.267222</td>\n",
       "      <td>581.516663</td>\n",
       "      <td>udp</td>\n",
       "      <td>147.32.84.165</td>\n",
       "      <td>123</td>\n",
       "      <td>-&gt;</td>\n",
       "      <td>65.55.56.40</td>\n",
       "      <td>123</td>\n",
       "      <td>INT</td>\n",
       "      <td>0.0</td>\n",
       "      <td>NaN</td>\n",
       "      <td>4</td>\n",
       "      <td>360</td>\n",
       "      <td>360</td>\n",
       "      <td>flow=From-Botnet-V51-1-UDP-Attempt</td>\n",
       "    </tr>\n",
       "  </tbody>\n",
       "</table>\n",
       "</div>"
      ],
      "text/plain": [
       "                        StartTime         Dur Proto        SrcAddr Sport  \\\n",
       "90622  2011/08/18 10:37:58.448307    0.000342   udp  147.32.84.165  1025   \n",
       "90808  2011/08/18 10:38:00.695278    0.010278   udp  147.32.84.165  1025   \n",
       "90809  2011/08/18 10:38:00.706560    0.043726   tcp  147.32.84.165  1027   \n",
       "90965  2011/08/18 10:38:03.255934    0.010256   udp  147.32.84.165  1025   \n",
       "90968  2011/08/18 10:38:03.267222  581.516663   udp  147.32.84.165   123   \n",
       "\n",
       "         Dir         DstAddr Dport     State  sTos  dTos  TotPkts  TotBytes  \\\n",
       "90622    <->     147.32.80.9    53       CON   0.0   0.0        2       203   \n",
       "90808    <->     147.32.80.9    53       CON   0.0   0.0        2       590   \n",
       "90809     ->  74.125.232.206    80  SRPA_SPA   0.0   0.0        7       882   \n",
       "90965    <->     147.32.80.9    53       CON   0.0   0.0        2       479   \n",
       "90968     ->     65.55.56.40   123       INT   0.0   NaN        4       360   \n",
       "\n",
       "       SrcBytes                                              Label  \n",
       "90622        64                     flow=From-Botnet-V51-1-UDP-DNS  \n",
       "90808        87                     flow=From-Botnet-V51-1-UDP-DNS  \n",
       "90809       629  flow=From-Botnet-V51-1-TCP-HTTP-Google-Net-Est...  \n",
       "90965        76                     flow=From-Botnet-V51-1-UDP-DNS  \n",
       "90968       360                 flow=From-Botnet-V51-1-UDP-Attempt  "
      ]
     },
     "execution_count": 10,
     "metadata": {},
     "output_type": "execute_result"
    }
   ],
   "source": [
    "# Find infected host by string matching Botnet in Labels\n",
    "\n",
    "infected_hosts = data.loc[data['Label'].str.contains('Botnet', regex=True), :]\n",
    "infected_hosts.head()"
   ]
  },
  {
   "cell_type": "markdown",
   "metadata": {
    "id": "BzO-YkNR49j_"
   },
   "source": [
    "### 1a. Plot visualizations - Select and visualize two features for modeling the behavior of the infected host."
   ]
  },
  {
   "cell_type": "code",
   "execution_count": 11,
   "metadata": {
    "id": "5W2-5E4ujBcG"
   },
   "outputs": [],
   "source": [
    "# filtering for botnet with IP 147.32.84.165\n",
    "\n",
    "infected_hosts = infected_hosts[(infected_hosts.SrcAddr == '147.32.84.165') | (infected_hosts.DstAddr == '147.32.84.165')]"
   ]
  },
  {
   "cell_type": "code",
   "execution_count": 12,
   "metadata": {
    "colab": {
     "base_uri": "https://localhost:8080/"
    },
    "id": "lPJxU-Y5kqd3",
    "outputId": "f99c0388-1a9d-4e3e-a54c-76912c662af4"
   },
   "outputs": [],
   "source": [
    "# filtering non-malicious data without the background data \n",
    "\n",
    "benign_hosts = data.loc[~data.Label.str.contains('(Botnet|Background)', regex=True, na=False), :]"
   ]
  },
  {
   "cell_type": "code",
   "execution_count": 13,
   "metadata": {
    "colab": {
     "base_uri": "https://localhost:8080/",
     "height": 283
    },
    "id": "9ySwLAsneSV1",
    "outputId": "7ad60c31-4c0c-4c73-85c6-cd567dbb67ee"
   },
   "outputs": [
    {
     "data": {
      "image/png": "[encoded data removed]",
      "text/plain": [
       "<Figure size 1440x360 with 2 Axes>"
      ]
     },
     "metadata": {},
     "output_type": "display_data"
    }
   ],
   "source": [
    "fig, ax = plt.subplots(1, 2, figsize =(20, 5))\n",
    "\n",
    "\n",
    "# boxplot of the infected host packet values\n",
    "\n",
    "ax[0].boxplot(infected_hosts['TotPkts'].value_counts())\n",
    "ax[0].set_xlabel(\"Total Packets (infected host netflows)\")\n",
    "ax[0].set_ylim(0, 100)\n",
    "\n",
    "# boxplot of the normal traffic (non-malicious) packet values\n",
    "\n",
    "ax[1].boxplot(benign_hosts['TotPkts'].value_counts())\n",
    "ax[1].set_xlabel(\"Total Packets (non-malcious netflows)\")\n",
    "ax[1].set_ylim(0, 100)\n",
    "\n",
    "fig.suptitle('Total Packets', fontsize=14)\n",
    "\n",
    "plt.show()"
   ]
  },
  {
   "cell_type": "code",
   "execution_count": 14,
   "metadata": {
    "colab": {
     "base_uri": "https://localhost:8080/",
     "height": 338
    },
    "id": "NGA68VwVVbHv",
    "outputId": "89c88476-612b-45b4-a54b-7ab6940a82d2"
   },
   "outputs": [
    {
     "data": {
      "image/png": "[encoded data removed]",
      "text/plain": [
       "<Figure size 1440x360 with 2 Axes>"
      ]
     },
     "metadata": {},
     "output_type": "display_data"
    }
   ],
   "source": [
    "fig, ax = plt.subplots(1, 2, figsize =(20, 5))\n",
    "\n",
    "proto_counts_infected = infected_hosts['Proto'].value_counts()\n",
    "ax[0].bar(proto_counts_infected.index, proto_counts_infected)\n",
    "ax[0].set_xlabel(\"Proto (infected host netflows)\")\n",
    "\n",
    "proto_counts_bening = benign_hosts['Proto'].value_counts()\n",
    "ax[1].bar(proto_counts_bening.index, proto_counts_bening)\n",
    "ax[1].set_xlabel(\"Proto (non-malcious netflows)\")\n",
    "\n",
    "fig.suptitle('Total Packets', fontsize=14)\n",
    "\n",
    "plt.show()\n"
   ]
  },
  {
   "cell_type": "markdown",
   "metadata": {
    "id": "fpRO0h7n49kB"
   },
   "source": [
    "### 1b. Discretize selected features"
   ]
  },
  {
   "cell_type": "code",
   "execution_count": 15,
   "metadata": {
    "id": "jEGmTHZlFUbT"
   },
   "outputs": [],
   "source": [
    "# removing the background data\n",
    "\n",
    "training_data = data.loc[~data.Label.str.contains('Background', regex=True, na=False), :]"
   ]
  },
  {
   "cell_type": "code",
   "execution_count": 16,
   "metadata": {
    "colab": {
     "base_uri": "https://localhost:8080/"
    },
    "id": "oL8f-ATYHA6R",
    "outputId": "5f6104b6-7598-44ab-dc9a-6453c2c8d26e"
   },
   "outputs": [],
   "source": [
    "label_encoder = LabelEncoder()\n",
    "training_data['Proto'] = label_encoder.fit_transform(training_data['Proto']) "
   ]
  },
  {
   "cell_type": "code",
   "execution_count": 17,
   "metadata": {
    "id": "3qqKIzlPwjH1"
   },
   "outputs": [],
   "source": [
    "def visualize_elbow(columns):\n",
    "\n",
    "    model = KMeans()\n",
    "    elbow_visualizer = KElbowVisualizer(model,timings=False,k=(1,10))\n",
    "\n",
    "    # Fit the data to the visualizer\n",
    "    elbow_visualizer.fit(training_data[columns])     \n",
    "\n",
    "    # Finalize and render the figure\n",
    "    elbow_visualizer.show()\n"
   ]
  },
  {
   "cell_type": "code",
   "execution_count": 18,
   "metadata": {
    "colab": {
     "base_uri": "https://localhost:8080/",
     "height": 765
    },
    "id": "n34YNCtlxUxL",
    "outputId": "1a0f7633-ec3a-4491-dec9-148e083e0d0f",
    "scrolled": true
   },
   "outputs": [
    {
     "data": {
      "image/png": "[encoded data removed]",
      "text/plain": [
       "<Figure size 576x396 with 1 Axes>"
      ]
     },
     "metadata": {},
     "output_type": "display_data"
    }
   ],
   "source": [
    "visualize_elbow(['Proto'])"
   ]
  },
  {
   "cell_type": "code",
   "execution_count": 19,
   "metadata": {},
   "outputs": [
    {
     "data": {
      "image/png": "[encoded data removed]",
      "text/plain": [
       "<Figure size 576x396 with 1 Axes>"
      ]
     },
     "metadata": {},
     "output_type": "display_data"
    }
   ],
   "source": [
    "visualize_elbow(['TotPkts'])"
   ]
  },
  {
   "cell_type": "code",
   "execution_count": 20,
   "metadata": {},
   "outputs": [],
   "source": [
    "# Global variable\n",
    "\n",
    "MAX = {} # 0.0\n",
    "MIN = {} # 0.0\n",
    "BINS = {} # None\n",
    "ALPHABETS = {} # None"
   ]
  },
  {
   "cell_type": "code",
   "execution_count": 21,
   "metadata": {},
   "outputs": [],
   "source": [
    "# ref: https://johannfaouzi.github.io/pyts/_modules/pyts/quantization/quantization.html#SAX\n",
    "\n",
    "def discretise(feature, feat_name, is_train=True, quantiles='linspace', levels=3):\n",
    "    '''\n",
    "    Discretise signal within levels\n",
    "    '''\n",
    "    \n",
    "    global MIN, MAX, BINS, ALPHABETS\n",
    "    \n",
    "    is_failed = False\n",
    "\n",
    "    # normalise\n",
    "    if is_train:\n",
    "        MIN[feat_name], MAX[feat_name] = 0.0, 0.0\n",
    "        MIN[feat_name] = feature.min()\n",
    "        MAX[feat_name] = feature.max()\n",
    "\n",
    "    feature = (feature - MIN[feat_name]) / (MAX[feat_name] - MIN[feat_name])\n",
    "    \n",
    "    if MAX[feat_name] == MIN[feat_name]:\n",
    "        is_failed = True\n",
    "        \n",
    "        # constant value signal\n",
    "        return None, None, None, is_failed\n",
    "    \n",
    "    if is_train:\n",
    "        \n",
    "        # initialise the global variables\n",
    "        ALPHABETS[feat_name] = None\n",
    "        \n",
    "        ALPHABETS[feat_name] = np.array([str(i) for i in range(levels)])\n",
    "        \n",
    "        # insert additional character at starting and end to encode unseen values\n",
    "        ALPHABETS[feat_name] = np.insert(ALPHABETS[feat_name], 0, 'X')              \n",
    "        ALPHABETS[feat_name] = np.insert(ALPHABETS[feat_name], len(ALPHABETS[feat_name]), 'X')\n",
    "        \n",
    "        BINS[feat_name] = None\n",
    "        \n",
    "        if quantiles == 'linspace':\n",
    "            BINS[feat_name] = np.linspace(0., 1., levels + 1)\n",
    "        else:\n",
    "            BINS[feat_name] = np.percentile(feature, np.linspace(0, 100, levels + 1))\n",
    "            \n",
    "        BINS[feat_name][-1] += 1e-5 \n",
    "\n",
    "    indices = np.array([np.digitize(feature, BINS[feat_name])])\n",
    "    \n",
    "    coded_feature = ALPHABETS[feat_name][indices] # coded signal\n",
    "    \n",
    "    # handling for unseen values during test\n",
    "    value_beyond_lim = np.where(indices == len(BINS[feat_name]))[0]\n",
    "    \n",
    "    if is_train:\n",
    "        if len(value_beyond_lim) > 0:\n",
    "            print(f'Incorrect Values')\n",
    "    else:\n",
    "        \n",
    "        # since it will only be used for plotting here onwards\n",
    "        # map back any point that falls outside the bins to the \n",
    "        # last bin\n",
    "        \n",
    "        indices[value_beyond_lim] = len(BINS[feat_name]) - 1\n",
    "    \n",
    "    try:\n",
    "        discrete_feature = BINS[feat_name][indices] # discretised signal\n",
    "    except:\n",
    "        print(indices)\n",
    "\n",
    "    return  feature, coded_feature[0], discrete_feature[0], is_failed"
   ]
  },
  {
   "cell_type": "code",
   "execution_count": 22,
   "metadata": {},
   "outputs": [],
   "source": [
    "FEATURE_BINS = {'Proto': 3, 'TotPkts': 2}\n",
    "QUANTILES = 'linspace'"
   ]
  },
  {
   "cell_type": "code",
   "execution_count": 23,
   "metadata": {},
   "outputs": [],
   "source": [
    "def discretise_cols(dataframe):\n",
    "    \n",
    "    for feat_name in FEATURE_BINS.keys():\n",
    "        \n",
    "        feature = dataframe[feat_name].values\n",
    "        \n",
    "        _, coded_signal, _, _ = discretise(feature, feat_name, quantiles=QUANTILES,  levels=FEATURE_BINS[feat_name])\n",
    "        \n",
    "        dataframe[feat_name] = coded_signal\n",
    "    \n",
    "    return dataframe"
   ]
  },
  {
   "cell_type": "code",
   "execution_count": 24,
   "metadata": {},
   "outputs": [],
   "source": [
    "training_data = discretise_cols(training_data)"
   ]
  },
  {
   "cell_type": "code",
   "execution_count": 25,
   "metadata": {},
   "outputs": [],
   "source": [
    "# Algorithm 1 from Pellegrino et.al. Learning Behavioral Fingerprints From Netflows Using Timed Automata\n",
    "\n",
    "def attribute_mapping(dataframe):\n",
    "    code = 0\n",
    "    features = FEATURE_BINS.keys()\n",
    "    space_size = reduce((lambda x, y: FEATURE_BINS[x] * FEATURE_BINS[y]), features)\n",
    "    for feature in features:\n",
    "        dataframe[feature] = dataframe[feature].astype(int)\n",
    "        code = code + dataframe[feature].values * (space_size/FEATURE_BINS[feature])\n",
    "        space_size = space_size/FEATURE_BINS[feature]\n",
    "    return code"
   ]
  },
  {
   "cell_type": "code",
   "execution_count": 26,
   "metadata": {
    "colab": {
     "base_uri": "https://localhost:8080/",
     "height": 354
    },
    "id": "tJnFxLD01CW8",
    "outputId": "a701de7b-70c8-463d-e1c4-06b89f205074"
   },
   "outputs": [
    {
     "data": {
      "text/html": [
       "<div>\n",
       "<style scoped>\n",
       "    .dataframe tbody tr th:only-of-type {\n",
       "        vertical-align: middle;\n",
       "    }\n",
       "\n",
       "    .dataframe tbody tr th {\n",
       "        vertical-align: top;\n",
       "    }\n",
       "\n",
       "    .dataframe thead th {\n",
       "        text-align: right;\n",
       "    }\n",
       "</style>\n",
       "<table border=\"1\" class=\"dataframe\">\n",
       "  <thead>\n",
       "    <tr style=\"text-align: right;\">\n",
       "      <th></th>\n",
       "      <th>StartTime</th>\n",
       "      <th>Dur</th>\n",
       "      <th>Proto</th>\n",
       "      <th>SrcAddr</th>\n",
       "      <th>Sport</th>\n",
       "      <th>Dir</th>\n",
       "      <th>DstAddr</th>\n",
       "      <th>Dport</th>\n",
       "      <th>State</th>\n",
       "      <th>sTos</th>\n",
       "      <th>dTos</th>\n",
       "      <th>TotPkts</th>\n",
       "      <th>TotBytes</th>\n",
       "      <th>SrcBytes</th>\n",
       "      <th>Label</th>\n",
       "      <th>combined_discretized</th>\n",
       "    </tr>\n",
       "  </thead>\n",
       "  <tbody>\n",
       "    <tr>\n",
       "      <th>532</th>\n",
       "      <td>2011/08/18 10:19:15.693956</td>\n",
       "      <td>3587.569824</td>\n",
       "      <td>2</td>\n",
       "      <td>147.32.84.164</td>\n",
       "      <td>54784</td>\n",
       "      <td>&lt;?&gt;</td>\n",
       "      <td>74.125.232.215</td>\n",
       "      <td>443</td>\n",
       "      <td>PA_PA</td>\n",
       "      <td>0.0</td>\n",
       "      <td>0.0</td>\n",
       "      <td>0</td>\n",
       "      <td>978731</td>\n",
       "      <td>245317</td>\n",
       "      <td>flow=From-Normal-V51-Grill</td>\n",
       "      <td>4.0</td>\n",
       "    </tr>\n",
       "    <tr>\n",
       "      <th>822</th>\n",
       "      <td>2011/08/18 10:19:18.143576</td>\n",
       "      <td>198.072739</td>\n",
       "      <td>2</td>\n",
       "      <td>147.32.84.164</td>\n",
       "      <td>56165</td>\n",
       "      <td>&lt;?&gt;</td>\n",
       "      <td>74.125.232.197</td>\n",
       "      <td>80</td>\n",
       "      <td>FA_FA</td>\n",
       "      <td>0.0</td>\n",
       "      <td>0.0</td>\n",
       "      <td>0</td>\n",
       "      <td>924</td>\n",
       "      <td>462</td>\n",
       "      <td>flow=From-Normal-V51-Grill</td>\n",
       "      <td>4.0</td>\n",
       "    </tr>\n",
       "    <tr>\n",
       "      <th>842</th>\n",
       "      <td>2011/08/18 10:19:18.303590</td>\n",
       "      <td>197.928329</td>\n",
       "      <td>2</td>\n",
       "      <td>147.32.84.164</td>\n",
       "      <td>57965</td>\n",
       "      <td>&lt;?&gt;</td>\n",
       "      <td>209.85.149.138</td>\n",
       "      <td>80</td>\n",
       "      <td>FA_FA</td>\n",
       "      <td>0.0</td>\n",
       "      <td>0.0</td>\n",
       "      <td>0</td>\n",
       "      <td>924</td>\n",
       "      <td>462</td>\n",
       "      <td>flow=From-Normal-V51-Grill</td>\n",
       "      <td>4.0</td>\n",
       "    </tr>\n",
       "    <tr>\n",
       "      <th>1021</th>\n",
       "      <td>2011/08/18 10:19:19.838272</td>\n",
       "      <td>0.000399</td>\n",
       "      <td>2</td>\n",
       "      <td>147.32.84.170</td>\n",
       "      <td>45807</td>\n",
       "      <td>&lt;-&gt;</td>\n",
       "      <td>147.32.80.9</td>\n",
       "      <td>53</td>\n",
       "      <td>CON</td>\n",
       "      <td>0.0</td>\n",
       "      <td>0.0</td>\n",
       "      <td>0</td>\n",
       "      <td>400</td>\n",
       "      <td>74</td>\n",
       "      <td>flow=From-Normal-V51-Stribrek</td>\n",
       "      <td>4.0</td>\n",
       "    </tr>\n",
       "    <tr>\n",
       "      <th>1022</th>\n",
       "      <td>2011/08/18 10:19:19.839123</td>\n",
       "      <td>0.000400</td>\n",
       "      <td>2</td>\n",
       "      <td>147.32.84.170</td>\n",
       "      <td>35380</td>\n",
       "      <td>&lt;-&gt;</td>\n",
       "      <td>147.32.80.9</td>\n",
       "      <td>53</td>\n",
       "      <td>CON</td>\n",
       "      <td>0.0</td>\n",
       "      <td>0.0</td>\n",
       "      <td>0</td>\n",
       "      <td>400</td>\n",
       "      <td>74</td>\n",
       "      <td>flow=From-Normal-V51-Stribrek</td>\n",
       "      <td>4.0</td>\n",
       "    </tr>\n",
       "  </tbody>\n",
       "</table>\n",
       "</div>"
      ],
      "text/plain": [
       "                       StartTime          Dur  Proto        SrcAddr  Sport  \\\n",
       "532   2011/08/18 10:19:15.693956  3587.569824      2  147.32.84.164  54784   \n",
       "822   2011/08/18 10:19:18.143576   198.072739      2  147.32.84.164  56165   \n",
       "842   2011/08/18 10:19:18.303590   197.928329      2  147.32.84.164  57965   \n",
       "1021  2011/08/18 10:19:19.838272     0.000399      2  147.32.84.170  45807   \n",
       "1022  2011/08/18 10:19:19.839123     0.000400      2  147.32.84.170  35380   \n",
       "\n",
       "        Dir         DstAddr Dport  State  sTos  dTos  TotPkts  TotBytes  \\\n",
       "532     <?>  74.125.232.215   443  PA_PA   0.0   0.0        0    978731   \n",
       "822     <?>  74.125.232.197    80  FA_FA   0.0   0.0        0       924   \n",
       "842     <?>  209.85.149.138    80  FA_FA   0.0   0.0        0       924   \n",
       "1021    <->     147.32.80.9    53    CON   0.0   0.0        0       400   \n",
       "1022    <->     147.32.80.9    53    CON   0.0   0.0        0       400   \n",
       "\n",
       "      SrcBytes                          Label  combined_discretized  \n",
       "532     245317     flow=From-Normal-V51-Grill                   4.0  \n",
       "822        462     flow=From-Normal-V51-Grill                   4.0  \n",
       "842        462     flow=From-Normal-V51-Grill                   4.0  \n",
       "1021        74  flow=From-Normal-V51-Stribrek                   4.0  \n",
       "1022        74  flow=From-Normal-V51-Stribrek                   4.0  "
      ]
     },
     "execution_count": 26,
     "metadata": {},
     "output_type": "execute_result"
    }
   ],
   "source": [
    "# Combining the columns\n",
    "\n",
    "# training_data['combined_discretized'] = (training_data['Proto'].astype(int).astype(str) + training_data['TotPkts'].astype(int).astype(str))\n",
    "\n",
    "training_data['combined_discretized'] = attribute_mapping(training_data)\n",
    "training_data.head()"
   ]
  },
  {
   "cell_type": "code",
   "execution_count": 27,
   "metadata": {
    "colab": {
     "base_uri": "https://localhost:8080/"
    },
    "id": "hX5cxwNFL-I7",
    "outputId": "99de3b2f-59f3-4fec-b138-c72e38d450f5"
   },
   "outputs": [
    {
     "data": {
      "text/plain": [
       "array([4., 0., 2., 5.])"
      ]
     },
     "execution_count": 27,
     "metadata": {},
     "output_type": "execute_result"
    }
   ],
   "source": [
    "training_data['combined_discretized'].unique()"
   ]
  },
  {
   "cell_type": "markdown",
   "metadata": {
    "id": "5KiJ_zvk49kC"
   },
   "source": [
    "### 1c. Answers and explanation"
   ]
  },
  {
   "cell_type": "markdown",
   "metadata": {
    "id": "MJuAJH0V49kD"
   },
   "source": [
    "From the correlation plot it can be seen that the features 'Proto' and 'TotPkts' has a relatively strong negative correlation with the target label. On further investigation with the help of visualizations we observe the following:\n",
    "<ol>\n",
    "    <li>Boxplot for the feature 'TotPkts' shows that the infected host send more packets as compared to a benign host.</li>\n",
    "    <li>The barplot for the feature 'Proto' shows that the infected host mostly use ICMP protocol whereas bening hosts mostly use UDP and TDP protocols</li>\n",
    "</ol>\n",
    "Hence these features can give some intuition about the current state of a host. Following this, we looked into the optimal number of bins for the selected features using the elbow method. As can be seen above, the number of bins is selected as 2 for the discretisation task following the observation."
   ]
  },
  {
   "cell_type": "markdown",
   "metadata": {
    "id": "xTs9DpkM49kD"
   },
   "source": [
    "## 2. Sketching task – 1/2 A4 (Individual, 10 Points) - Sayak Mukherjee"
   ]
  },
  {
   "cell_type": "markdown",
   "metadata": {
    "id": "2bwfVxfp49kE"
   },
   "source": [
    "### 2a. COUNT-MIN sketch\n"
   ]
  },
  {
   "cell_type": "code",
   "execution_count": 28,
   "metadata": {
    "id": "RAloBI3s49kE"
   },
   "outputs": [],
   "source": [
    "# Create 3-grams from the discretized features\n",
    "\n",
    "n_grams = list(ngrams(training_data.combined_discretized.values, n=3))"
   ]
  },
  {
   "cell_type": "code",
   "execution_count": 29,
   "metadata": {},
   "outputs": [
    {
     "data": {
      "text/plain": [
       "[(4.0, 4.0, 4.0),\n",
       " (4.0, 4.0, 4.0),\n",
       " (4.0, 4.0, 4.0),\n",
       " (4.0, 4.0, 4.0),\n",
       " (4.0, 4.0, 4.0)]"
      ]
     },
     "execution_count": 29,
     "metadata": {},
     "output_type": "execute_result"
    }
   ],
   "source": [
    "n_grams[:5]"
   ]
  },
  {
   "cell_type": "code",
   "execution_count": 30,
   "metadata": {},
   "outputs": [],
   "source": [
    "# Get the frequencies of the 3-grams\n",
    "\n",
    "ngram_counts = np.array(n_grams).astype(int)\n",
    "ngram_counts = np.apply_along_axis((lambda x : \"{:d}{:d}{:d}\".format(*x)), axis=1, arr=ngram_counts)\n",
    "ngram_counts = np.unique(ngram_counts, return_counts=True)"
   ]
  },
  {
   "cell_type": "code",
   "execution_count": 31,
   "metadata": {},
   "outputs": [
    {
     "data": {
      "text/plain": [
       "{'022': 2,\n",
       " '044': 9,\n",
       " '202': 2,\n",
       " '204': 1,\n",
       " '220': 1,\n",
       " '222': 105749,\n",
       " '224': 383,\n",
       " '242': 262,\n",
       " '244': 292,\n",
       " '404': 8,\n",
       " '420': 2,\n",
       " '422': 382,\n",
       " '424': 171,\n",
       " '440': 8,\n",
       " '442': 293,\n",
       " '444': 14620,\n",
       " '445': 1,\n",
       " '455': 1,\n",
       " '544': 1,\n",
       " '554': 1,\n",
       " '555': 8}"
      ]
     },
     "execution_count": 31,
     "metadata": {},
     "output_type": "execute_result"
    }
   ],
   "source": [
    "orig_freq = dict(zip(ngram_counts[0], ngram_counts[1]))\n",
    "orig_freq"
   ]
  },
  {
   "cell_type": "code",
   "execution_count": 32,
   "metadata": {},
   "outputs": [],
   "source": [
    "# Ref: https://github.com/pnxenopoulos/countminsketch/blob/master/countminsketch.py\n",
    "\n",
    "SEEDS = np.random.randint(5, size=20)\n",
    "\n",
    "class CountMin():\n",
    "    \n",
    "    def __init__(self, width, depth):\n",
    "        \n",
    "        self.width = width\n",
    "        self.depth = depth\n",
    "        self.cmt = np.zeros([depth, width])\n",
    "        self.seeds = SEEDS\n",
    "        \n",
    "    def add_item(self, item):\n",
    "        '''\n",
    "        Add item to the countmin table\n",
    "        '''\n",
    "        \n",
    "        # convert n-gram tuple to string\n",
    "        key = \"\"\n",
    "        for val in item:\n",
    "            key += str(int(val))\n",
    "        \n",
    "        # add to count-min-table\n",
    "        for i in range(self.depth):\n",
    "            index = mmh3.hash(key, self.seeds[i]) % self.width\n",
    "            self.cmt[i, index] += 1\n",
    "            \n",
    "    def estimate_freq(self, item):\n",
    "        '''\n",
    "        Gets frequency of an item in countmin table\n",
    "        '''\n",
    "        \n",
    "        # convert n-gram tuple to string\n",
    "        key = \"\"\n",
    "        for val in item:\n",
    "            key += str(int(val))\n",
    "        \n",
    "        frequencies = []\n",
    "        \n",
    "        # add to count-min-table\n",
    "        for i in range(self.depth):\n",
    "            index = mmh3.hash(key, self.seeds[i]) % self.width\n",
    "            frequencies.append(self.cmt[i, index])\n",
    "            \n",
    "        return np.min(frequencies)"
   ]
  },
  {
   "cell_type": "code",
   "execution_count": 33,
   "metadata": {},
   "outputs": [],
   "source": [
    "def calc_error(estimated_freq):\n",
    "    '''\n",
    "    Calculate the absolute error between \n",
    "    the estimated and actual frequencies\n",
    "    '''\n",
    "    error = 0.0\n",
    "    \n",
    "    for key in orig_freq.keys():\n",
    "        error += abs(estimated_freq[key] - orig_freq[key])\n",
    "    \n",
    "    return error\n",
    "\n",
    "def test_cm(width, depth):\n",
    "    '''\n",
    "    Test count min with different\n",
    "    combinations of width and depth\n",
    "    '''\n",
    "    cm = CountMin(width, depth)\n",
    "    \n",
    "    for n_gram in n_grams:\n",
    "        cm.add_item(n_gram)\n",
    "        \n",
    "    cm_freq = {}\n",
    "\n",
    "    for n_gram in ngram_counts[0]:\n",
    "        cm_freq[n_gram] = cm.estimate_freq(n_gram)\n",
    "    \n",
    "    return cm_freq"
   ]
  },
  {
   "cell_type": "code",
   "execution_count": 34,
   "metadata": {},
   "outputs": [
    {
     "name": "stderr",
     "output_type": "stream",
     "text": [
      "100%|██████████████████████████████████████████████████████████████████████████████████| 25/25 [00:35<00:00,  1.40s/it]\n"
     ]
    }
   ],
   "source": [
    "# Calculate error with different combinations\n",
    "\n",
    "widths = [5, 10, 20, 40, 80]\n",
    "depths = [2, 4, 6, 8, 10]\n",
    "\n",
    "results = np.zeros([len(depths), len(widths)])\n",
    "\n",
    "with tqdm(total=len(depths)*len(widths)) as pbar:\n",
    "    for i, w in enumerate(widths):\n",
    "        for j, d in enumerate(depths):\n",
    "            estimated = test_cm(w, d)\n",
    "            results[i-1, j-1] = calc_error(estimated)\n",
    "            pbar.update(1)"
   ]
  },
  {
   "cell_type": "code",
   "execution_count": 35,
   "metadata": {},
   "outputs": [
    {
     "data": {
      "image/png": "[encoded data removed]",
      "text/plain": [
       "<Figure size 576x396 with 2 Axes>"
      ]
     },
     "metadata": {},
     "output_type": "display_data"
    }
   ],
   "source": [
    "# Plot the results\n",
    "\n",
    "sns.heatmap(results, annot=True, xticklabels=widths, yticklabels=depths)\n",
    "plt.xlabel('Widths')\n",
    "plt.ylabel('Depths')\n",
    "plt.show()"
   ]
  },
  {
   "cell_type": "markdown",
   "metadata": {
    "id": "6RxHZNfC49kE"
   },
   "source": [
    "### 2b. Analysis and answers to the questions"
   ]
  },
  {
   "cell_type": "markdown",
   "metadata": {
    "id": "TxBV3_0_49kF"
   },
   "source": [
    "COUNT-MIN sketching is more efficient in terms of space and computational complexity. For calculating the frequency of `3-grams`, we need to store the frequencies in a datastructure that is atleast as big as the number of unique `3-grams`. It is not the case with COUNT-MIX where we can store all the frequencies in even smaller space. Secondly, for incrementing the count corresponding to an `3-gram`, first we need to locate the `3-gram` in the datastructure which requires searching. Binary search in such a scenario will have `O(logN)` complexity. Whereas, streaming data can be stored with `O(1)` complexity using a COUNT-MIX sketch.\n",
    "\n",
    "However, COUNT-MIX is not accurate for all combinations of height and width as seen in the heatmap above. There might be estimation errors. Hence it is ideal when there is a limitation in space and computational resource. Also, it can be used when only the relative comparison is important rather than a precise estimate."
   ]
  },
  {
   "cell_type": "markdown",
   "metadata": {},
   "source": [
    "## 3. Min-wise locality sensitive hashing task – 1/2 A4 (Individual, 10 Points)"
   ]
  },
  {
   "cell_type": "markdown",
   "metadata": {},
   "source": [
    "### 3a. Implementation"
   ]
  },
  {
   "cell_type": "code",
   "execution_count": null,
   "metadata": {},
   "outputs": [],
   "source": []
  },
  {
   "cell_type": "markdown",
   "metadata": {},
   "source": [
    "### 3b. Analysis and answers to the questions"
   ]
  },
  {
   "cell_type": "markdown",
   "metadata": {},
   "source": []
  },
  {
   "cell_type": "markdown",
   "metadata": {
    "id": "SiauNyFd49kG"
   },
   "source": [
    "## 4.Botnet profiling and fingerprinting task – 1 A4 (5 Points)"
   ]
  },
  {
   "cell_type": "markdown",
   "metadata": {
    "id": "xvn2QsrM49kG"
   },
   "source": [
    "### 4a. Learn a sequential model, profiling and fingerprinting"
   ]
  },
  {
   "cell_type": "code",
   "execution_count": 36,
   "metadata": {},
   "outputs": [
    {
     "data": {
      "text/html": [
       "<div>\n",
       "<style scoped>\n",
       "    .dataframe tbody tr th:only-of-type {\n",
       "        vertical-align: middle;\n",
       "    }\n",
       "\n",
       "    .dataframe tbody tr th {\n",
       "        vertical-align: top;\n",
       "    }\n",
       "\n",
       "    .dataframe thead th {\n",
       "        text-align: right;\n",
       "    }\n",
       "</style>\n",
       "<table border=\"1\" class=\"dataframe\">\n",
       "  <thead>\n",
       "    <tr style=\"text-align: right;\">\n",
       "      <th></th>\n",
       "      <th>StartTime</th>\n",
       "      <th>Dur</th>\n",
       "      <th>Proto</th>\n",
       "      <th>SrcAddr</th>\n",
       "      <th>Sport</th>\n",
       "      <th>Dir</th>\n",
       "      <th>DstAddr</th>\n",
       "      <th>Dport</th>\n",
       "      <th>State</th>\n",
       "      <th>sTos</th>\n",
       "      <th>dTos</th>\n",
       "      <th>TotPkts</th>\n",
       "      <th>TotBytes</th>\n",
       "      <th>SrcBytes</th>\n",
       "      <th>Label</th>\n",
       "      <th>combined_discretized</th>\n",
       "    </tr>\n",
       "  </thead>\n",
       "  <tbody>\n",
       "    <tr>\n",
       "      <th>0</th>\n",
       "      <td>2011/08/18 10:21:46.633335</td>\n",
       "      <td>1.060248</td>\n",
       "      <td>2</td>\n",
       "      <td>93.45.239.29</td>\n",
       "      <td>58246</td>\n",
       "      <td>0</td>\n",
       "      <td>147.32.84.118</td>\n",
       "      <td>45130</td>\n",
       "      <td>S_RA</td>\n",
       "      <td>0</td>\n",
       "      <td>0</td>\n",
       "      <td>0</td>\n",
       "      <td>252</td>\n",
       "      <td>132</td>\n",
       "      <td>0</td>\n",
       "      <td>4.0</td>\n",
       "    </tr>\n",
       "    <tr>\n",
       "      <th>1</th>\n",
       "      <td>2011/08/18 10:19:49.027650</td>\n",
       "      <td>279.349152</td>\n",
       "      <td>2</td>\n",
       "      <td>62.240.166.118</td>\n",
       "      <td>52051</td>\n",
       "      <td>4</td>\n",
       "      <td>147.32.84.229</td>\n",
       "      <td>8645</td>\n",
       "      <td>SRPA_PA</td>\n",
       "      <td>0</td>\n",
       "      <td>0</td>\n",
       "      <td>0</td>\n",
       "      <td>1318</td>\n",
       "      <td>955</td>\n",
       "      <td>0</td>\n",
       "      <td>4.0</td>\n",
       "    </tr>\n",
       "    <tr>\n",
       "      <th>2</th>\n",
       "      <td>2011/08/18 10:22:07.160628</td>\n",
       "      <td>166.390015</td>\n",
       "      <td>2</td>\n",
       "      <td>147.32.86.148</td>\n",
       "      <td>103466</td>\n",
       "      <td>0</td>\n",
       "      <td>66.235.132.232</td>\n",
       "      <td>45863</td>\n",
       "      <td>SR_SA</td>\n",
       "      <td>0</td>\n",
       "      <td>0</td>\n",
       "      <td>0</td>\n",
       "      <td>212</td>\n",
       "      <td>134</td>\n",
       "      <td>0</td>\n",
       "      <td>4.0</td>\n",
       "    </tr>\n",
       "    <tr>\n",
       "      <th>3</th>\n",
       "      <td>2011/08/18 10:26:02.052163</td>\n",
       "      <td>1.187083</td>\n",
       "      <td>2</td>\n",
       "      <td>147.32.3.51</td>\n",
       "      <td>74132</td>\n",
       "      <td>0</td>\n",
       "      <td>147.32.84.46</td>\n",
       "      <td>6293</td>\n",
       "      <td>S_RA</td>\n",
       "      <td>0</td>\n",
       "      <td>0</td>\n",
       "      <td>0</td>\n",
       "      <td>244</td>\n",
       "      <td>124</td>\n",
       "      <td>0</td>\n",
       "      <td>4.0</td>\n",
       "    </tr>\n",
       "    <tr>\n",
       "      <th>4</th>\n",
       "      <td>2011/08/18 10:26:52.226748</td>\n",
       "      <td>0.980571</td>\n",
       "      <td>2</td>\n",
       "      <td>88.212.37.169</td>\n",
       "      <td>74173</td>\n",
       "      <td>0</td>\n",
       "      <td>147.32.84.118</td>\n",
       "      <td>45130</td>\n",
       "      <td>S_RA</td>\n",
       "      <td>0</td>\n",
       "      <td>0</td>\n",
       "      <td>0</td>\n",
       "      <td>244</td>\n",
       "      <td>124</td>\n",
       "      <td>0</td>\n",
       "      <td>4.0</td>\n",
       "    </tr>\n",
       "  </tbody>\n",
       "</table>\n",
       "</div>"
      ],
      "text/plain": [
       "                    StartTime         Dur  Proto         SrcAddr   Sport  Dir  \\\n",
       "0  2011/08/18 10:21:46.633335    1.060248      2    93.45.239.29   58246    0   \n",
       "1  2011/08/18 10:19:49.027650  279.349152      2  62.240.166.118   52051    4   \n",
       "2  2011/08/18 10:22:07.160628  166.390015      2   147.32.86.148  103466    0   \n",
       "3  2011/08/18 10:26:02.052163    1.187083      2     147.32.3.51   74132    0   \n",
       "4  2011/08/18 10:26:52.226748    0.980571      2   88.212.37.169   74173    0   \n",
       "\n",
       "          DstAddr  Dport    State  sTos  dTos  TotPkts  TotBytes  SrcBytes  \\\n",
       "0   147.32.84.118  45130     S_RA     0     0        0       252       132   \n",
       "1   147.32.84.229   8645  SRPA_PA     0     0        0      1318       955   \n",
       "2  66.235.132.232  45863    SR_SA     0     0        0       212       134   \n",
       "3    147.32.84.46   6293     S_RA     0     0        0       244       124   \n",
       "4   147.32.84.118  45130     S_RA     0     0        0       244       124   \n",
       "\n",
       "   Label  combined_discretized  \n",
       "0      0                   4.0  \n",
       "1      0                   4.0  \n",
       "2      0                   4.0  \n",
       "3      0                   4.0  \n",
       "4      0                   4.0  "
      ]
     },
     "execution_count": 36,
     "metadata": {},
     "output_type": "execute_result"
    }
   ],
   "source": [
    "# Process the data\n",
    "processed_data = data.copy()\n",
    "processed_data = encode_data(processed_data, label_only=False, background_label = \"0\") \n",
    "processed_data = discretise_cols(processed_data)\n",
    "processed_data['combined_discretized'] = attribute_mapping(processed_data)\n",
    "\n",
    "# Store the sybmols\n",
    "DATA_SYMBOLS = processed_data.combined_discretized.unique()\n",
    "\n",
    "processed_data.head()"
   ]
  },
  {
   "cell_type": "code",
   "execution_count": 37,
   "metadata": {},
   "outputs": [],
   "source": [
    "# Get list of infected and benign IPs\n",
    "\n",
    "ips_with_labels = processed_data[['SrcAddr', 'Label']].groupby(by='SrcAddr').max()\n",
    "ips_with_labels = ips_with_labels.reset_index()\n",
    "\n",
    "infected_ips = ips_with_labels[ips_with_labels.Label == 1].SrcAddr.tolist()\n",
    "benign_ips = ips_with_labels[ips_with_labels.Label == 0].SrcAddr.tolist()"
   ]
  },
  {
   "cell_type": "code",
   "execution_count": 38,
   "metadata": {},
   "outputs": [],
   "source": [
    "# Note: The code has been tested on a windows system \n",
    "# with the corresponding binary. The executable is stored\n",
    "# in the `binaries` directory\n",
    "\n",
    "FLEXFRINGE = None\n",
    "\n",
    "def gen_signature(host_data, host_ip, is_train=True):\n",
    "    \n",
    "    global FLEXFRINGE\n",
    "    \n",
    "    signature = {} # store signature of the host\n",
    "    signature[host_ip] = {}\n",
    "    \n",
    "    # temp directory for flex-fringe processing\n",
    "    if not os.path.isdir('data/ff'):\n",
    "        os.mkdir('data/ff')\n",
    "    \n",
    "    # execute flex-fringe\n",
    "    sources = host_data.SrcAddr.values\n",
    "    labels = host_data.Label.values\n",
    "    discretized_feat = host_data.combined_discretized.values\n",
    "    \n",
    "    flex_trainset = {'id':sources,'type': labels, 'symbol': discretized_feat}\n",
    "    flex_trainset = pd.DataFrame(flex_trainset)\n",
    "    flex_trainset.to_csv('data/ff/flex_trace.csv', index=None)\n",
    "    \n",
    "    if is_train:\n",
    "        \n",
    "        FLEXFRINGE = FlexFringe(\n",
    "            flexfringe_path=\"binaries/flexfringe-x64-windows\",\n",
    "            heuristic_name=\"alergia\",\n",
    "            data_name=\"alergia_data\",\n",
    "            slidingwindow=1,\n",
    "            swsize=10,\n",
    "        )\n",
    "        \n",
    "        # Learn a state machine\n",
    "        FLEXFRINGE.fit('data/ff/flex_trace.csv')\n",
    "    \n",
    "    else:\n",
    "\n",
    "        # Use state machine to predict likelihoods\n",
    "        df = FLEXFRINGE.predict('data/ff/flex_trace.csv')\n",
    "    \n",
    "    # process results\n",
    "    results = None\n",
    "    \n",
    "    with open('data/ff/flex_trace.csv.ff.final.json') as f:\n",
    "        results = json.load(f)\n",
    "    \n",
    "    for node in results['nodes']:\n",
    "        \n",
    "        for symbol in DATA_SYMBOLS:\n",
    "            signature[host_ip][str(symbol)] = 0.0\n",
    "            \n",
    "        for symbol in node['data']['trans_counts'].keys():\n",
    "            signature[host_ip][symbol] += int(node['data']['trans_counts'][symbol])\n",
    "            \n",
    "    return pd.DataFrame(signature).T"
   ]
  },
  {
   "cell_type": "code",
   "execution_count": 39,
   "metadata": {},
   "outputs": [
    {
     "name": "stdout",
     "output_type": "stream",
     "text": [
      "Running:  flexfringe data/ff/flex_trace.csv --heuristic_name=alergia --data_name=alergia_data --slidingwindow=1 --swsize=10\n",
      "0 Using heuristic alergia\n",
      "Creating apta using evaluation class alergia\n",
      "batch mode selected\n",
      " m1.39597  m0 no more possible merges\n",
      " starting greedy merging\n",
      "deleted merger\n",
      "\n"
     ]
    },
    {
     "data": {
      "text/html": [
       "<div>\n",
       "<style scoped>\n",
       "    .dataframe tbody tr th:only-of-type {\n",
       "        vertical-align: middle;\n",
       "    }\n",
       "\n",
       "    .dataframe tbody tr th {\n",
       "        vertical-align: top;\n",
       "    }\n",
       "\n",
       "    .dataframe thead th {\n",
       "        text-align: right;\n",
       "    }\n",
       "</style>\n",
       "<table border=\"1\" class=\"dataframe\">\n",
       "  <thead>\n",
       "    <tr style=\"text-align: right;\">\n",
       "      <th></th>\n",
       "      <th>0.0</th>\n",
       "      <th>2.0</th>\n",
       "      <th>4.0</th>\n",
       "      <th>5.0</th>\n",
       "    </tr>\n",
       "  </thead>\n",
       "  <tbody>\n",
       "    <tr>\n",
       "      <th>147.32.84.165</th>\n",
       "      <td>19074.0</td>\n",
       "      <td>0.0</td>\n",
       "      <td>81.0</td>\n",
       "      <td>0.0</td>\n",
       "    </tr>\n",
       "  </tbody>\n",
       "</table>\n",
       "</div>"
      ],
      "text/plain": [
       "                   0.0  2.0   4.0  5.0\n",
       "147.32.84.165  19074.0  0.0  81.0  0.0"
      ]
     },
     "execution_count": 39,
     "metadata": {},
     "output_type": "execute_result"
    }
   ],
   "source": [
    "infected_host_sample = processed_data[processed_data.SrcAddr == infected_ips[0]]\n",
    "\n",
    "train_signature = gen_signature(infected_host_sample, infected_ips[0], is_train=True)\n",
    "\n",
    "train_signature"
   ]
  },
  {
   "cell_type": "code",
   "execution_count": 99,
   "metadata": {},
   "outputs": [],
   "source": [
    "# Note: For faster execution, number of benign samples restricted to 1000\n",
    "# Uncomment to run or follow along with precomputed values\n",
    "\n",
    "# # collect signatures for the remaining hosts\n",
    "# test_signatures = None\n",
    "# test_labels = []\n",
    "\n",
    "# # collect signatures for the infected hosts\n",
    "# for i, ip in enumerate(infected_ips[1:]):\n",
    "#     host_data = processed_data[processed_data.SrcAddr == ip]\n",
    "#     if i == 0:\n",
    "#         test_signatures = gen_signature(host_data, ip)\n",
    "#     else:\n",
    "#         test_signatures = pd.concat([test_signatures, gen_signature(host_data, ip)])\n",
    "#     test_labels.append(1)\n",
    "\n",
    "# # collect signatures for the benign hosts\n",
    "# for i, ip in enumerate(benign_ips[:1000]):\n",
    "#     host_data = processed_data[processed_data.SrcAddr == ip]\n",
    "#     test_signatures = pd.concat([test_signatures, gen_signature(host_data, ip)])\n",
    "#     test_labels.append(0)\n",
    "\n",
    "# # Save to file for ease of use\n",
    "\n",
    "# test_df = pd.concat([test_signatures.rename_axis('SrcAddr').reset_index(), \n",
    "#                      pd.DataFrame(test_labels, columns=['label'])], axis=1)\n",
    "# test_df.to_csv('data/test_signatures.csv', index=None)"
   ]
  },
  {
   "cell_type": "code",
   "execution_count": 105,
   "metadata": {},
   "outputs": [
    {
     "data": {
      "text/html": [
       "<div>\n",
       "<style scoped>\n",
       "    .dataframe tbody tr th:only-of-type {\n",
       "        vertical-align: middle;\n",
       "    }\n",
       "\n",
       "    .dataframe tbody tr th {\n",
       "        vertical-align: top;\n",
       "    }\n",
       "\n",
       "    .dataframe thead th {\n",
       "        text-align: right;\n",
       "    }\n",
       "</style>\n",
       "<table border=\"1\" class=\"dataframe\">\n",
       "  <thead>\n",
       "    <tr style=\"text-align: right;\">\n",
       "      <th></th>\n",
       "      <th>SrcAddr</th>\n",
       "      <th>0.0</th>\n",
       "      <th>2.0</th>\n",
       "      <th>4.0</th>\n",
       "      <th>5.0</th>\n",
       "      <th>label</th>\n",
       "    </tr>\n",
       "  </thead>\n",
       "  <tbody>\n",
       "    <tr>\n",
       "      <th>0</th>\n",
       "      <td>147.32.84.191</td>\n",
       "      <td>20830.0</td>\n",
       "      <td>0.0</td>\n",
       "      <td>75.0</td>\n",
       "      <td>0.0</td>\n",
       "      <td>1</td>\n",
       "    </tr>\n",
       "    <tr>\n",
       "      <th>1</th>\n",
       "      <td>147.32.84.192</td>\n",
       "      <td>20725.0</td>\n",
       "      <td>0.0</td>\n",
       "      <td>63.0</td>\n",
       "      <td>0.0</td>\n",
       "      <td>1</td>\n",
       "    </tr>\n",
       "    <tr>\n",
       "      <th>2</th>\n",
       "      <td>147.32.84.193</td>\n",
       "      <td>19940.0</td>\n",
       "      <td>0.0</td>\n",
       "      <td>75.0</td>\n",
       "      <td>0.0</td>\n",
       "      <td>1</td>\n",
       "    </tr>\n",
       "    <tr>\n",
       "      <th>3</th>\n",
       "      <td>147.32.84.204</td>\n",
       "      <td>22250.0</td>\n",
       "      <td>0.0</td>\n",
       "      <td>65.0</td>\n",
       "      <td>0.0</td>\n",
       "      <td>1</td>\n",
       "    </tr>\n",
       "    <tr>\n",
       "      <th>4</th>\n",
       "      <td>147.32.84.205</td>\n",
       "      <td>23672.0</td>\n",
       "      <td>0.0</td>\n",
       "      <td>73.0</td>\n",
       "      <td>0.0</td>\n",
       "      <td>1</td>\n",
       "    </tr>\n",
       "  </tbody>\n",
       "</table>\n",
       "</div>"
      ],
      "text/plain": [
       "         SrcAddr      0.0  2.0   4.0  5.0  label\n",
       "0  147.32.84.191  20830.0  0.0  75.0  0.0      1\n",
       "1  147.32.84.192  20725.0  0.0  63.0  0.0      1\n",
       "2  147.32.84.193  19940.0  0.0  75.0  0.0      1\n",
       "3  147.32.84.204  22250.0  0.0  65.0  0.0      1\n",
       "4  147.32.84.205  23672.0  0.0  73.0  0.0      1"
      ]
     },
     "execution_count": 105,
     "metadata": {},
     "output_type": "execute_result"
    }
   ],
   "source": [
    "test_df = pd.read_csv('data/test_signatures.csv')\n",
    "test_df.head()"
   ]
  },
  {
   "cell_type": "code",
   "execution_count": 106,
   "metadata": {},
   "outputs": [],
   "source": [
    "test_labels = test_df.label.values.tolist()"
   ]
  },
  {
   "cell_type": "code",
   "execution_count": 110,
   "metadata": {},
   "outputs": [
    {
     "data": {
      "text/html": [
       "<div>\n",
       "<style scoped>\n",
       "    .dataframe tbody tr th:only-of-type {\n",
       "        vertical-align: middle;\n",
       "    }\n",
       "\n",
       "    .dataframe tbody tr th {\n",
       "        vertical-align: top;\n",
       "    }\n",
       "\n",
       "    .dataframe thead th {\n",
       "        text-align: right;\n",
       "    }\n",
       "</style>\n",
       "<table border=\"1\" class=\"dataframe\">\n",
       "  <thead>\n",
       "    <tr style=\"text-align: right;\">\n",
       "      <th></th>\n",
       "      <th>0.0</th>\n",
       "      <th>2.0</th>\n",
       "      <th>4.0</th>\n",
       "      <th>5.0</th>\n",
       "    </tr>\n",
       "  </thead>\n",
       "  <tbody>\n",
       "    <tr>\n",
       "      <th>147.32.84.191</th>\n",
       "      <td>20830.0</td>\n",
       "      <td>0.0</td>\n",
       "      <td>75.0</td>\n",
       "      <td>0.0</td>\n",
       "    </tr>\n",
       "    <tr>\n",
       "      <th>147.32.84.192</th>\n",
       "      <td>20725.0</td>\n",
       "      <td>0.0</td>\n",
       "      <td>63.0</td>\n",
       "      <td>0.0</td>\n",
       "    </tr>\n",
       "    <tr>\n",
       "      <th>147.32.84.193</th>\n",
       "      <td>19940.0</td>\n",
       "      <td>0.0</td>\n",
       "      <td>75.0</td>\n",
       "      <td>0.0</td>\n",
       "    </tr>\n",
       "    <tr>\n",
       "      <th>147.32.84.204</th>\n",
       "      <td>22250.0</td>\n",
       "      <td>0.0</td>\n",
       "      <td>65.0</td>\n",
       "      <td>0.0</td>\n",
       "    </tr>\n",
       "    <tr>\n",
       "      <th>147.32.84.205</th>\n",
       "      <td>23672.0</td>\n",
       "      <td>0.0</td>\n",
       "      <td>73.0</td>\n",
       "      <td>0.0</td>\n",
       "    </tr>\n",
       "  </tbody>\n",
       "</table>\n",
       "</div>"
      ],
      "text/plain": [
       "                   0.0  2.0   4.0  5.0\n",
       "147.32.84.191  20830.0  0.0  75.0  0.0\n",
       "147.32.84.192  20725.0  0.0  63.0  0.0\n",
       "147.32.84.193  19940.0  0.0  75.0  0.0\n",
       "147.32.84.204  22250.0  0.0  65.0  0.0\n",
       "147.32.84.205  23672.0  0.0  73.0  0.0"
      ]
     },
     "execution_count": 110,
     "metadata": {},
     "output_type": "execute_result"
    }
   ],
   "source": [
    "test_signatures = test_df[['0.0', '2.0', '4.0', '5.0']]\n",
    "test_signatures.index = test_df.SrcAddr.values\n",
    "test_signatures.head()"
   ]
  },
  {
   "cell_type": "code",
   "execution_count": 111,
   "metadata": {},
   "outputs": [],
   "source": [
    "def calc_distance(train_signatures, test_signatures):\n",
    "    '''\n",
    "    calculates distances of signatures\n",
    "    '''\n",
    "    \n",
    "    neigh = NearestNeighbors(n_neighbors=1, metric='cosine')\n",
    "    neigh.fit(train_signatures.values)\n",
    "    \n",
    "    # find distances to the nearest neigbour\n",
    "    distances, _ = neigh.kneighbors(test_signatures.values, return_distance = True)\n",
    "    \n",
    "    return distances"
   ]
  },
  {
   "cell_type": "code",
   "execution_count": 112,
   "metadata": {},
   "outputs": [],
   "source": [
    "# calculate distances\n",
    "distances = calc_distance(train_signature, test_signatures)"
   ]
  },
  {
   "cell_type": "code",
   "execution_count": 113,
   "metadata": {},
   "outputs": [
    {
     "data": {
      "image/png": "[encoded data removed]",
      "text/plain": [
       "<Figure size 1440x360 with 1 Axes>"
      ]
     },
     "metadata": {},
     "output_type": "display_data"
    }
   ],
   "source": [
    "# distance of each data point from its nearest neighbor\n",
    "fig, ax = plt.subplots(1,figsize=(20,5))\n",
    "\n",
    "ax.plot(distances, label='distances')\n",
    "ax.plot(range(len(distances)), np.array([0.2] * len(distances)), label='threshold')\n",
    "ax.legend()\n",
    "plt.show()"
   ]
  },
  {
   "cell_type": "code",
   "execution_count": 114,
   "metadata": {},
   "outputs": [],
   "source": [
    "# get predictions using the threshold decided from the plot above\n",
    "\n",
    "predictions = np.array(distances.reshape(-1) < 0.2).astype(int) # Threshold set to 0.2"
   ]
  },
  {
   "cell_type": "code",
   "execution_count": 115,
   "metadata": {},
   "outputs": [
    {
     "data": {
      "text/plain": [
       "array([[984,  16],\n",
       "       [  0,   9]], dtype=int64)"
      ]
     },
     "execution_count": 115,
     "metadata": {},
     "output_type": "execute_result"
    }
   ],
   "source": [
    "# To-Do: Plot the counts of a true/false positive and true/false negative in a scatter plot \n",
    "\n",
    "confusion_matrix(np.array(test_labels), predictions)"
   ]
  },
  {
   "cell_type": "code",
   "execution_count": 116,
   "metadata": {},
   "outputs": [
    {
     "data": {
      "text/html": [
       "<div>\n",
       "<style scoped>\n",
       "    .dataframe tbody tr th:only-of-type {\n",
       "        vertical-align: middle;\n",
       "    }\n",
       "\n",
       "    .dataframe tbody tr th {\n",
       "        vertical-align: top;\n",
       "    }\n",
       "\n",
       "    .dataframe thead th {\n",
       "        text-align: right;\n",
       "    }\n",
       "</style>\n",
       "<table border=\"1\" class=\"dataframe\">\n",
       "  <thead>\n",
       "    <tr style=\"text-align: right;\">\n",
       "      <th></th>\n",
       "      <th>SrcAddr</th>\n",
       "      <th>0.0</th>\n",
       "      <th>2.0</th>\n",
       "      <th>4.0</th>\n",
       "      <th>5.0</th>\n",
       "      <th>label</th>\n",
       "    </tr>\n",
       "  </thead>\n",
       "  <tbody>\n",
       "    <tr>\n",
       "      <th>0</th>\n",
       "      <td>147.32.84.191</td>\n",
       "      <td>20830.0</td>\n",
       "      <td>0.0</td>\n",
       "      <td>75.0</td>\n",
       "      <td>0.0</td>\n",
       "      <td>1</td>\n",
       "    </tr>\n",
       "    <tr>\n",
       "      <th>1</th>\n",
       "      <td>147.32.84.192</td>\n",
       "      <td>20725.0</td>\n",
       "      <td>0.0</td>\n",
       "      <td>63.0</td>\n",
       "      <td>0.0</td>\n",
       "      <td>1</td>\n",
       "    </tr>\n",
       "    <tr>\n",
       "      <th>2</th>\n",
       "      <td>147.32.84.193</td>\n",
       "      <td>19940.0</td>\n",
       "      <td>0.0</td>\n",
       "      <td>75.0</td>\n",
       "      <td>0.0</td>\n",
       "      <td>1</td>\n",
       "    </tr>\n",
       "    <tr>\n",
       "      <th>3</th>\n",
       "      <td>147.32.84.204</td>\n",
       "      <td>22250.0</td>\n",
       "      <td>0.0</td>\n",
       "      <td>65.0</td>\n",
       "      <td>0.0</td>\n",
       "      <td>1</td>\n",
       "    </tr>\n",
       "    <tr>\n",
       "      <th>4</th>\n",
       "      <td>147.32.84.205</td>\n",
       "      <td>23672.0</td>\n",
       "      <td>0.0</td>\n",
       "      <td>73.0</td>\n",
       "      <td>0.0</td>\n",
       "      <td>1</td>\n",
       "    </tr>\n",
       "    <tr>\n",
       "      <th>5</th>\n",
       "      <td>147.32.84.206</td>\n",
       "      <td>22504.0</td>\n",
       "      <td>0.0</td>\n",
       "      <td>64.0</td>\n",
       "      <td>0.0</td>\n",
       "      <td>1</td>\n",
       "    </tr>\n",
       "    <tr>\n",
       "      <th>6</th>\n",
       "      <td>147.32.84.207</td>\n",
       "      <td>21082.0</td>\n",
       "      <td>0.0</td>\n",
       "      <td>74.0</td>\n",
       "      <td>0.0</td>\n",
       "      <td>1</td>\n",
       "    </tr>\n",
       "    <tr>\n",
       "      <th>7</th>\n",
       "      <td>147.32.84.208</td>\n",
       "      <td>22162.0</td>\n",
       "      <td>0.0</td>\n",
       "      <td>67.0</td>\n",
       "      <td>0.0</td>\n",
       "      <td>1</td>\n",
       "    </tr>\n",
       "    <tr>\n",
       "      <th>8</th>\n",
       "      <td>147.32.84.209</td>\n",
       "      <td>19714.0</td>\n",
       "      <td>0.0</td>\n",
       "      <td>75.0</td>\n",
       "      <td>0.0</td>\n",
       "      <td>1</td>\n",
       "    </tr>\n",
       "    <tr>\n",
       "      <th>9</th>\n",
       "      <td>0.0.0.0</td>\n",
       "      <td>0.0</td>\n",
       "      <td>0.0</td>\n",
       "      <td>5.0</td>\n",
       "      <td>0.0</td>\n",
       "      <td>0</td>\n",
       "    </tr>\n",
       "    <tr>\n",
       "      <th>10</th>\n",
       "      <td>00:0b:ac:c4:e7:40</td>\n",
       "      <td>0.0</td>\n",
       "      <td>1.0</td>\n",
       "      <td>0.0</td>\n",
       "      <td>0.0</td>\n",
       "      <td>0</td>\n",
       "    </tr>\n",
       "    <tr>\n",
       "      <th>11</th>\n",
       "      <td>00:0b:ac:c5:cf:00</td>\n",
       "      <td>0.0</td>\n",
       "      <td>1.0</td>\n",
       "      <td>0.0</td>\n",
       "      <td>0.0</td>\n",
       "      <td>0</td>\n",
       "    </tr>\n",
       "    <tr>\n",
       "      <th>12</th>\n",
       "      <td>00:0c:29:97:a3:eb</td>\n",
       "      <td>0.0</td>\n",
       "      <td>4.0</td>\n",
       "      <td>0.0</td>\n",
       "      <td>0.0</td>\n",
       "      <td>0</td>\n",
       "    </tr>\n",
       "    <tr>\n",
       "      <th>13</th>\n",
       "      <td>00:15:17:2c:e5:2d</td>\n",
       "      <td>0.0</td>\n",
       "      <td>5.0</td>\n",
       "      <td>0.0</td>\n",
       "      <td>0.0</td>\n",
       "      <td>0</td>\n",
       "    </tr>\n",
       "    <tr>\n",
       "      <th>14</th>\n",
       "      <td>1.112.121.154</td>\n",
       "      <td>0.0</td>\n",
       "      <td>0.0</td>\n",
       "      <td>1.0</td>\n",
       "      <td>0.0</td>\n",
       "      <td>0</td>\n",
       "    </tr>\n",
       "    <tr>\n",
       "      <th>15</th>\n",
       "      <td>1.112.182.132</td>\n",
       "      <td>0.0</td>\n",
       "      <td>0.0</td>\n",
       "      <td>1.0</td>\n",
       "      <td>0.0</td>\n",
       "      <td>0</td>\n",
       "    </tr>\n",
       "    <tr>\n",
       "      <th>16</th>\n",
       "      <td>1.112.197.149</td>\n",
       "      <td>0.0</td>\n",
       "      <td>0.0</td>\n",
       "      <td>1.0</td>\n",
       "      <td>0.0</td>\n",
       "      <td>0</td>\n",
       "    </tr>\n",
       "    <tr>\n",
       "      <th>17</th>\n",
       "      <td>1.112.217.186</td>\n",
       "      <td>0.0</td>\n",
       "      <td>0.0</td>\n",
       "      <td>1.0</td>\n",
       "      <td>0.0</td>\n",
       "      <td>0</td>\n",
       "    </tr>\n",
       "    <tr>\n",
       "      <th>18</th>\n",
       "      <td>1.112.30.35</td>\n",
       "      <td>0.0</td>\n",
       "      <td>0.0</td>\n",
       "      <td>1.0</td>\n",
       "      <td>0.0</td>\n",
       "      <td>0</td>\n",
       "    </tr>\n",
       "    <tr>\n",
       "      <th>19</th>\n",
       "      <td>1.112.34.128</td>\n",
       "      <td>0.0</td>\n",
       "      <td>0.0</td>\n",
       "      <td>1.0</td>\n",
       "      <td>0.0</td>\n",
       "      <td>0</td>\n",
       "    </tr>\n",
       "  </tbody>\n",
       "</table>\n",
       "</div>"
      ],
      "text/plain": [
       "              SrcAddr      0.0  2.0   4.0  5.0  label\n",
       "0       147.32.84.191  20830.0  0.0  75.0  0.0      1\n",
       "1       147.32.84.192  20725.0  0.0  63.0  0.0      1\n",
       "2       147.32.84.193  19940.0  0.0  75.0  0.0      1\n",
       "3       147.32.84.204  22250.0  0.0  65.0  0.0      1\n",
       "4       147.32.84.205  23672.0  0.0  73.0  0.0      1\n",
       "5       147.32.84.206  22504.0  0.0  64.0  0.0      1\n",
       "6       147.32.84.207  21082.0  0.0  74.0  0.0      1\n",
       "7       147.32.84.208  22162.0  0.0  67.0  0.0      1\n",
       "8       147.32.84.209  19714.0  0.0  75.0  0.0      1\n",
       "9             0.0.0.0      0.0  0.0   5.0  0.0      0\n",
       "10  00:0b:ac:c4:e7:40      0.0  1.0   0.0  0.0      0\n",
       "11  00:0b:ac:c5:cf:00      0.0  1.0   0.0  0.0      0\n",
       "12  00:0c:29:97:a3:eb      0.0  4.0   0.0  0.0      0\n",
       "13  00:15:17:2c:e5:2d      0.0  5.0   0.0  0.0      0\n",
       "14      1.112.121.154      0.0  0.0   1.0  0.0      0\n",
       "15      1.112.182.132      0.0  0.0   1.0  0.0      0\n",
       "16      1.112.197.149      0.0  0.0   1.0  0.0      0\n",
       "17      1.112.217.186      0.0  0.0   1.0  0.0      0\n",
       "18        1.112.30.35      0.0  0.0   1.0  0.0      0\n",
       "19       1.112.34.128      0.0  0.0   1.0  0.0      0"
      ]
     },
     "execution_count": 116,
     "metadata": {},
     "output_type": "execute_result"
    }
   ],
   "source": [
    "# Looking for fingerprints\n",
    "\n",
    "test_df[:20] # State 0.0 occurs frequently for the botnet"
   ]
  },
  {
   "cell_type": "code",
   "execution_count": 117,
   "metadata": {},
   "outputs": [
    {
     "data": {
      "text/plain": [
       "(array([  0,   1,   2,   3,   4,   5,   6,   7,   8,  99, 103, 110, 113,\n",
       "        133, 141, 142, 379, 477, 488, 604, 704, 744, 873, 957, 968],\n",
       "       dtype=int64),)"
      ]
     },
     "execution_count": 117,
     "metadata": {},
     "output_type": "execute_result"
    }
   ],
   "source": [
    "# get indexes where a host was predicted as a botnet\n",
    "\n",
    "np.where(predictions == 1)"
   ]
  },
  {
   "cell_type": "code",
   "execution_count": 118,
   "metadata": {},
   "outputs": [
    {
     "data": {
      "text/html": [
       "<div>\n",
       "<style scoped>\n",
       "    .dataframe tbody tr th:only-of-type {\n",
       "        vertical-align: middle;\n",
       "    }\n",
       "\n",
       "    .dataframe tbody tr th {\n",
       "        vertical-align: top;\n",
       "    }\n",
       "\n",
       "    .dataframe thead th {\n",
       "        text-align: right;\n",
       "    }\n",
       "</style>\n",
       "<table border=\"1\" class=\"dataframe\">\n",
       "  <thead>\n",
       "    <tr style=\"text-align: right;\">\n",
       "      <th></th>\n",
       "      <th>SrcAddr</th>\n",
       "      <th>0.0</th>\n",
       "      <th>2.0</th>\n",
       "      <th>4.0</th>\n",
       "      <th>5.0</th>\n",
       "      <th>label</th>\n",
       "    </tr>\n",
       "  </thead>\n",
       "  <tbody>\n",
       "    <tr>\n",
       "      <th>99</th>\n",
       "      <td>1.168.137.213</td>\n",
       "      <td>1.0</td>\n",
       "      <td>0.0</td>\n",
       "      <td>0.0</td>\n",
       "      <td>0.0</td>\n",
       "      <td>0</td>\n",
       "    </tr>\n",
       "    <tr>\n",
       "      <th>103</th>\n",
       "      <td>1.169.139.125</td>\n",
       "      <td>1.0</td>\n",
       "      <td>0.0</td>\n",
       "      <td>0.0</td>\n",
       "      <td>0.0</td>\n",
       "      <td>0</td>\n",
       "    </tr>\n",
       "    <tr>\n",
       "      <th>110</th>\n",
       "      <td>1.169.189.21</td>\n",
       "      <td>1.0</td>\n",
       "      <td>0.0</td>\n",
       "      <td>0.0</td>\n",
       "      <td>0.0</td>\n",
       "      <td>0</td>\n",
       "    </tr>\n",
       "    <tr>\n",
       "      <th>113</th>\n",
       "      <td>1.169.190.98</td>\n",
       "      <td>1.0</td>\n",
       "      <td>0.0</td>\n",
       "      <td>0.0</td>\n",
       "      <td>0.0</td>\n",
       "      <td>0</td>\n",
       "    </tr>\n",
       "  </tbody>\n",
       "</table>\n",
       "</div>"
      ],
      "text/plain": [
       "           SrcAddr  0.0  2.0  4.0  5.0  label\n",
       "99   1.168.137.213  1.0  0.0  0.0  0.0      0\n",
       "103  1.169.139.125  1.0  0.0  0.0  0.0      0\n",
       "110   1.169.189.21  1.0  0.0  0.0  0.0      0\n",
       "113   1.169.190.98  1.0  0.0  0.0  0.0      0"
      ]
     },
     "execution_count": 118,
     "metadata": {},
     "output_type": "execute_result"
    }
   ],
   "source": [
    "# These got marked as botnets as they have the occurence of state 0.0\n",
    "\n",
    "test_df.iloc[[99, 103, 110, 113]] "
   ]
  },
  {
   "cell_type": "markdown",
   "metadata": {
    "id": "Zsfu5V6149kH"
   },
   "source": [
    "### 4b. Analysis and answers to the questions."
   ]
  },
  {
   "cell_type": "markdown",
   "metadata": {},
   "source": [
    "After selecting a infected host, we calculate the distances of the other host signatures from the infected host signatures. Analyzing the distances plot, it can be seen that `0.2` can be used as a threshold. <br>\n",
    "We look at the signatures of 9 infected hosts and 11 benign hosts. It can be inferred that the state `0.0` occurs frequently in the infected hosts and thus can be considered as a fingerprint of the botnet. <br>\n",
    "Finally, looking at a few benign host signatures that got marked as botnet, we notice that falsely marked hosts also contain the state `0.0` which as mentioned earlier is the fingerprint of the botnet."
   ]
  },
  {
   "cell_type": "markdown",
   "metadata": {
    "id": "fO5C_nCG49kH"
   },
   "source": [
    "## 5. Bonus Task 1/2 A4 (5 Points)"
   ]
  },
  {
   "cell_type": "markdown",
   "metadata": {
    "id": "MMG8jCbg49kH"
   },
   "source": [
    "### 5a. Provide implementation and analysis."
   ]
  },
  {
   "cell_type": "code",
   "execution_count": null,
   "metadata": {
    "id": "WTnr61Ji49kH"
   },
   "outputs": [],
   "source": []
  }
 ],
 "metadata": {
  "colab": {
   "collapsed_sections": [],
   "name": "Lab3.ipynb",
   "provenance": []
  },
  "kernelspec": {
   "display_name": "Python 3 (ipykernel)",
   "language": "python",
   "name": "python3"
  },
  "language_info": {
   "codemirror_mode": {
    "name": "ipython",
    "version": 3
   },
   "file_extension": ".py",
   "mimetype": "text/x-python",
   "name": "python",
   "nbconvert_exporter": "python",
   "pygments_lexer": "ipython3",
   "version": "3.9.12"
  }
 },
 "nbformat": 4,
 "nbformat_minor": 1
}
