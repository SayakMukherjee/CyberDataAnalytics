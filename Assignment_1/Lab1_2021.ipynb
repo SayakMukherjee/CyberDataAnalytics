{
 "cells": [
  {
   "cell_type": "code",
   "execution_count": 1,
   "metadata": {
    "id": "cOcp-qINwc2U"
   },
   "outputs": [],
   "source": [
    "# Uncomment for colab\n",
    "\n",
    "# from google.colab import drive\n",
    "# drive.mount('/content/drive')"
   ]
  },
  {
   "cell_type": "markdown",
   "metadata": {
    "id": "9nmOkC4qdzT1"
   },
   "source": [
    "# CS4035 - Cyber Data Analytics\n",
    "## Lab 1 - Fraud data"
   ]
  },
  {
   "cell_type": "markdown",
   "metadata": {
    "id": "8AL3c2k7dzT7"
   },
   "source": [
    "### Submit on brightspace (zip file with the name Group_xx.zip)\n",
    "(i) This jupyter file completed with code, plots, figures and report for each question. Additional plots and figures can be created for explanation before the end of each main question. Lab 1 contains 5 main questions, including the bonus. Write the code or explanation below each sub question. For the explanations, include what you would normally include in the report for this lab assignment, for example data pre-processing, hypothesis tested, approach, results, etc.\n",
    "(ii) The libraries needed to run this file. Except for numpy, scikit-learn, pandas, matplotlib\n",
    "\n",
    "Your peers should be able to use the readme section for instructions and be able to run this file. \n",
    "\n",
    "Make sure to keep your answers concise. Maximum number of words is 1000, which you can count with the code below. (You can add around 600 words since we start at around 400)."
   ]
  },
  {
   "cell_type": "code",
   "execution_count": 2,
   "metadata": {
    "id": "t3oqxtvGdzT8"
   },
   "outputs": [],
   "source": [
    "# If this cell does not work try running `pip install nbformat`\n",
    "\n",
    "# import io\n",
    "# import nbformat\n",
    "\n",
    "# nb = nbformat.read(\"Lab1_2021.ipynb\", nbformat.NO_CONVERT)\n",
    "# word_count = 0\n",
    "# for cell in nb.cells:\n",
    "#     if cell.cell_type == \"markdown\":\n",
    "#         word_count += len(cell['source'].replace('#', '').lstrip().split(' '))\n",
    "\n",
    "# print(\"Word count:\", word_count)"
   ]
  },
  {
   "cell_type": "markdown",
   "metadata": {
    "id": "xeOdrqL5dzT-"
   },
   "source": [
    "## Group Number : 10"
   ]
  },
  {
   "cell_type": "markdown",
   "metadata": {
    "id": "vg2qaJ5zdzT_"
   },
   "source": [
    "## Student 1 \n",
    "### Name : Sayak Mukherjee\n",
    "### ID : 5222273"
   ]
  },
  {
   "cell_type": "markdown",
   "metadata": {
    "id": "CYlMrzNCdzT_"
   },
   "source": [
    "## Student 2\n",
    "### Name : Vishruty Mittal\n",
    "### ID : 5584825"
   ]
  },
  {
   "cell_type": "markdown",
   "metadata": {
    "id": "soTFY3R4dzUA"
   },
   "source": [
    "## Readme - \n",
    "\n",
    "<!--Provide instructions - libraries used, location of the data file, etc. Keep it short. Remember your peers will not debug your code and should be able to reproduce the exact output you provide.-->\n",
    "\n",
    "The code is written on a conda environment with the following packages - numpy; pandas; matplotlib; seaborn; scikit-learn\n",
    "The requirements file to create a replica of the enviroment is also provided with this code."
   ]
  },
  {
   "cell_type": "code",
   "execution_count": 3,
   "metadata": {
    "id": "gWe3x_q8dzUB"
   },
   "outputs": [],
   "source": [
    "# Imports\n",
    "\n",
    "import numpy as np\n",
    "import pandas as pd\n",
    "import matplotlib.pyplot as plt\n",
    "import seaborn as sns\n",
    "import random\n",
    "from tqdm import tqdm\n",
    "from sklearn.model_selection import train_test_split, StratifiedKFold\n",
    "from sklearn.metrics import roc_curve\n",
    "from sklearn.metrics import roc_auc_score\n",
    "from sklearn.metrics import confusion_matrix , accuracy_score\n",
    "from sklearn.neighbors import NearestNeighbors\n",
    "from sklearn.preprocessing import OrdinalEncoder\n",
    "from sklearn.linear_model import LogisticRegression\n",
    "from sklearn.ensemble import RandomForestClassifier, IsolationForest\n",
    "from sklearn.tree import DecisionTreeClassifier\n",
    "from sklearn.svm import OneClassSVM\n",
    "\n",
    "random.seed(0)"
   ]
  },
  {
   "cell_type": "code",
   "execution_count": 4,
   "metadata": {
    "id": "dW954vuHwzR8"
   },
   "outputs": [],
   "source": [
    "# Uncomment for colab\n",
    "\n",
    "# !mkdir data\n",
    "\n",
    "# !cp '/content/drive/MyDrive/Colab Notebooks/CDA/cda-lab-1-credit-card-fraud.zip' 'data/' # Location of data zipped file\n",
    "\n",
    "# %cd data/\n",
    "\n",
    "# !unzip cda-lab-1-credit-card-fraud.zip\n",
    "\n",
    "# %cd .."
   ]
  },
  {
   "cell_type": "code",
   "execution_count": 5,
   "metadata": {
    "colab": {
     "base_uri": "https://localhost:8080/",
     "height": 270
    },
    "id": "dt94cXlpdzUC",
    "outputId": "a6603216-4951-4150-bae8-53b0561ce9e3"
   },
   "outputs": [
    {
     "data": {
      "text/html": [
       "<div>\n",
       "<style scoped>\n",
       "    .dataframe tbody tr th:only-of-type {\n",
       "        vertical-align: middle;\n",
       "    }\n",
       "\n",
       "    .dataframe tbody tr th {\n",
       "        vertical-align: top;\n",
       "    }\n",
       "\n",
       "    .dataframe thead th {\n",
       "        text-align: right;\n",
       "    }\n",
       "</style>\n",
       "<table border=\"1\" class=\"dataframe\">\n",
       "  <thead>\n",
       "    <tr style=\"text-align: right;\">\n",
       "      <th></th>\n",
       "      <th>Id</th>\n",
       "      <th>issuercountrycode</th>\n",
       "      <th>txvariantcode</th>\n",
       "      <th>bin</th>\n",
       "      <th>amount</th>\n",
       "      <th>currencycode</th>\n",
       "      <th>shoppercountrycode</th>\n",
       "      <th>shopperinteraction</th>\n",
       "      <th>cardverificationcodesupplied</th>\n",
       "      <th>cvcresponsecode</th>\n",
       "      <th>accountcode</th>\n",
       "      <th>mail_id</th>\n",
       "      <th>ip_id</th>\n",
       "      <th>card_id</th>\n",
       "      <th>label</th>\n",
       "    </tr>\n",
       "  </thead>\n",
       "  <tbody>\n",
       "    <tr>\n",
       "      <th>0</th>\n",
       "      <td>1</td>\n",
       "      <td>GB</td>\n",
       "      <td>mccredit</td>\n",
       "      <td>546097.0</td>\n",
       "      <td>4500.0</td>\n",
       "      <td>GBP</td>\n",
       "      <td>GB</td>\n",
       "      <td>Ecommerce</td>\n",
       "      <td>True</td>\n",
       "      <td>1</td>\n",
       "      <td>UKAccount</td>\n",
       "      <td>email132571</td>\n",
       "      <td>ip123779</td>\n",
       "      <td>card250169</td>\n",
       "      <td>0</td>\n",
       "    </tr>\n",
       "    <tr>\n",
       "      <th>1</th>\n",
       "      <td>2</td>\n",
       "      <td>GB</td>\n",
       "      <td>mcdebit</td>\n",
       "      <td>557349.0</td>\n",
       "      <td>3395.0</td>\n",
       "      <td>GBP</td>\n",
       "      <td>GB</td>\n",
       "      <td>Ecommerce</td>\n",
       "      <td>True</td>\n",
       "      <td>1</td>\n",
       "      <td>UKAccount</td>\n",
       "      <td>email312302</td>\n",
       "      <td>ip298387</td>\n",
       "      <td>card14235</td>\n",
       "      <td>0</td>\n",
       "    </tr>\n",
       "    <tr>\n",
       "      <th>2</th>\n",
       "      <td>3</td>\n",
       "      <td>GB</td>\n",
       "      <td>mccredit</td>\n",
       "      <td>542011.0</td>\n",
       "      <td>3895.0</td>\n",
       "      <td>GBP</td>\n",
       "      <td>GB</td>\n",
       "      <td>Ecommerce</td>\n",
       "      <td>True</td>\n",
       "      <td>1</td>\n",
       "      <td>UKAccount</td>\n",
       "      <td>email255027</td>\n",
       "      <td>ip260053</td>\n",
       "      <td>card31944</td>\n",
       "      <td>0</td>\n",
       "    </tr>\n",
       "    <tr>\n",
       "      <th>3</th>\n",
       "      <td>4</td>\n",
       "      <td>GB</td>\n",
       "      <td>visadebit</td>\n",
       "      <td>465943.0</td>\n",
       "      <td>15345.0</td>\n",
       "      <td>GBP</td>\n",
       "      <td>GB</td>\n",
       "      <td>ContAuth</td>\n",
       "      <td>False</td>\n",
       "      <td>0</td>\n",
       "      <td>UKAccount</td>\n",
       "      <td>email283167</td>\n",
       "      <td>ip54851</td>\n",
       "      <td>card120871</td>\n",
       "      <td>0</td>\n",
       "    </tr>\n",
       "    <tr>\n",
       "      <th>4</th>\n",
       "      <td>6</td>\n",
       "      <td>GB</td>\n",
       "      <td>visadebit</td>\n",
       "      <td>475127.0</td>\n",
       "      <td>5095.0</td>\n",
       "      <td>GBP</td>\n",
       "      <td>GB</td>\n",
       "      <td>Ecommerce</td>\n",
       "      <td>True</td>\n",
       "      <td>1</td>\n",
       "      <td>UKAccount</td>\n",
       "      <td>email325263</td>\n",
       "      <td>ip203929</td>\n",
       "      <td>card208017</td>\n",
       "      <td>0</td>\n",
       "    </tr>\n",
       "  </tbody>\n",
       "</table>\n",
       "</div>"
      ],
      "text/plain": [
       "   Id issuercountrycode txvariantcode       bin   amount currencycode  \\\n",
       "0   1                GB      mccredit  546097.0   4500.0          GBP   \n",
       "1   2                GB       mcdebit  557349.0   3395.0          GBP   \n",
       "2   3                GB      mccredit  542011.0   3895.0          GBP   \n",
       "3   4                GB     visadebit  465943.0  15345.0          GBP   \n",
       "4   6                GB     visadebit  475127.0   5095.0          GBP   \n",
       "\n",
       "  shoppercountrycode shopperinteraction cardverificationcodesupplied  \\\n",
       "0                 GB          Ecommerce                         True   \n",
       "1                 GB          Ecommerce                         True   \n",
       "2                 GB          Ecommerce                         True   \n",
       "3                 GB           ContAuth                        False   \n",
       "4                 GB          Ecommerce                         True   \n",
       "\n",
       "   cvcresponsecode accountcode      mail_id     ip_id     card_id  label  \n",
       "0                1   UKAccount  email132571  ip123779  card250169      0  \n",
       "1                1   UKAccount  email312302  ip298387   card14235      0  \n",
       "2                1   UKAccount  email255027  ip260053   card31944      0  \n",
       "3                0   UKAccount  email283167   ip54851  card120871      0  \n",
       "4                1   UKAccount  email325263  ip203929  card208017      0  "
      ]
     },
     "execution_count": 5,
     "metadata": {},
     "output_type": "execute_result"
    }
   ],
   "source": [
    "# Load Data\n",
    "\n",
    "train_df = pd.read_csv('data/train_data.csv')\n",
    "test_df = pd.read_csv('data/test_data.csv')\n",
    "\n",
    "train_df.head()"
   ]
  },
  {
   "cell_type": "markdown",
   "metadata": {
    "id": "aIjWRx1OxXWV"
   },
   "source": [
    "## Preprocess Data"
   ]
  },
  {
   "cell_type": "code",
   "execution_count": 6,
   "metadata": {
    "id": "DLcosxlJVpW9"
   },
   "outputs": [],
   "source": [
    "ordinal_encoder = None\n",
    "\n",
    "# Helper Function: Currency conversion\n",
    "def currencyConverter(dataframe):\n",
    "    \"\"\"\n",
    "      Args:\n",
    "          dataframe: dataframe with 'amount' and 'currenycode' columns.\n",
    "\n",
    "      Returns:\n",
    "          converted_df: dataframe with 'amount' converted to USD\n",
    "    \"\"\"\n",
    "\n",
    "    # Copy data to not mess with original\n",
    "    converted_df = dataframe.copy()\n",
    "\n",
    "    # Currency conversion rates as of 6-May-2022\n",
    "    CurrencyRates = {\n",
    "        'AUD': 0.7096,\n",
    "        'GBP': 1.2360,\n",
    "        'MXN': 0.0494,\n",
    "        'NZD': 0.6427,\n",
    "        'SEK': 0.1010\n",
    "    }\n",
    "\n",
    "    # Check if all currency conversion rates exists\n",
    "    if not np.array_equal(np.array(list(CurrencyRates.keys())), np.unique(converted_df['currencycode'])):\n",
    "        print('WARNING: Currency Rates not Found! Conversion Failed')\n",
    "        return dataframe\n",
    "\n",
    "    converted_df['amount_USD'] = converted_df.apply( lambda x: (x.amount * CurrencyRates[x.currencycode]), axis = 1)\n",
    "    converted_df.drop('amount', axis=1, inplace=True)\n",
    "\n",
    "    return converted_df\n",
    "\n",
    "# Helper Function: Preprocess datasets\n",
    "def preprocessData(dataframe, usage='train'):\n",
    "    \"\"\"\n",
    "      Args:\n",
    "          dataframe: dataframe to be preprocessed\n",
    "          usage: purpose of the dataframe to be preprocssed\n",
    "                 valid inputs: ['train', 'test', 'viz']\n",
    "\n",
    "      Returns:\n",
    "          preprocessed_df: preprocessed dataframe\n",
    "    \"\"\"\n",
    "\n",
    "    assert usage in ('train', 'test', 'viz')\n",
    "\n",
    "    global ordinal_encoder\n",
    "\n",
    "    # Copy data to not mess with original\n",
    "    preprocessed_df = dataframe.copy()\n",
    "    dataset_columns = preprocessed_df.columns.tolist()\n",
    "    dataset_columns = np.array(dataset_columns)\n",
    "    dataset_columns = np.where(dataset_columns == 'amount', 'amount_USD', dataset_columns)\n",
    "\n",
    "    # Convert Currency\n",
    "    preprocessed_df = currencyConverter(preprocessed_df)\n",
    "    \n",
    "    # For training or viz drop the null values\n",
    "    if usage in ('train', 'viz'):\n",
    "\n",
    "        # Replace string NAs with empty strings\n",
    "        preprocessed_df = preprocessed_df.apply(lambda x: '' if str(x).casefold() == 'na'.casefold() else x)\n",
    "\n",
    "        # Drop rows with null values\n",
    "        preprocessed_df = preprocessed_df.dropna()\n",
    "\n",
    "    # Custom transformation of attributes\n",
    "    preprocessed_df['ip_id'] = pd.to_numeric(preprocessed_df['ip_id'].str.replace('ip','')).astype(int)\n",
    "    preprocessed_df['mail_id'] = pd.to_numeric(preprocessed_df['mail_id'].apply(lambda x: '0' if str(x).casefold() == 'emailna'.casefold() else x.replace('email',''))).astype(int)\n",
    "    preprocessed_df['card_id'] = pd.to_numeric(preprocessed_df['card_id'].str.replace('card','')).astype(int)\n",
    "    \n",
    "    preprocessed_df['cardverificationcodesupplied'] = preprocessed_df['cardverificationcodesupplied'].apply(lambda x: 1 if x == True else 0)\n",
    "    \n",
    "    # For test replace null values by NA or 0\n",
    "    if usage in ('test'):\n",
    "        for col in dataset_columns:\n",
    "                if isinstance(preprocessed_df[col][0], str):\n",
    "                    preprocessed_df[col] = preprocessed_df[col].fillna('NA')\n",
    "                else:\n",
    "                    preprocessed_df[col] = preprocessed_df[col].fillna(0)\n",
    "                \n",
    "    # Run encoder only for training and testing, not viz\n",
    "    if usage in ['train', 'test']:\n",
    "\n",
    "        # Encode all categorical labels with label encoder\n",
    "        column_list  = ['issuercountrycode', \n",
    "                        'currencycode', \n",
    "                        'shoppercountrycode', \n",
    "                        'accountcode', \n",
    "                        'mail_id', \n",
    "                        'ip_id', \n",
    "                        'card_id',\n",
    "                        'txvariantcode', \n",
    "                        'shopperinteraction']  \n",
    "\n",
    "        # Select only the categorical features to be encoded\n",
    "        preprocessed_features = preprocessed_df[column_list]\n",
    "        feature_columns = preprocessed_features.columns\n",
    "\n",
    "        other_features = preprocessed_df[preprocessed_df.columns.difference(column_list)]\n",
    "\n",
    "        if usage == 'train':\n",
    "            ordinal_encoder = OrdinalEncoder(handle_unknown='use_encoded_value', unknown_value=-1)\n",
    "            preprocessed_features = ordinal_encoder.fit_transform(preprocessed_features)\n",
    "        \n",
    "        else:\n",
    "            preprocessed_features = ordinal_encoder.transform(preprocessed_features)\n",
    "        \n",
    "        preprocessed_df = None\n",
    "        preprocessed_df = pd.DataFrame(preprocessed_features, columns=feature_columns)\n",
    "\n",
    "        preprocessed_df = pd.concat([preprocessed_df.reset_index(drop=True), other_features.reset_index(drop=True)], axis=1)\n",
    "\n",
    "    return preprocessed_df[dataset_columns]"
   ]
  },
  {
   "cell_type": "code",
   "execution_count": 7,
   "metadata": {
    "colab": {
     "base_uri": "https://localhost:8080/",
     "height": 270
    },
    "id": "MX3lMB-NXbYx",
    "outputId": "a6355db7-7a98-42db-b79a-ab4f85a03f4e"
   },
   "outputs": [
    {
     "data": {
      "text/html": [
       "<div>\n",
       "<style scoped>\n",
       "    .dataframe tbody tr th:only-of-type {\n",
       "        vertical-align: middle;\n",
       "    }\n",
       "\n",
       "    .dataframe tbody tr th {\n",
       "        vertical-align: top;\n",
       "    }\n",
       "\n",
       "    .dataframe thead th {\n",
       "        text-align: right;\n",
       "    }\n",
       "</style>\n",
       "<table border=\"1\" class=\"dataframe\">\n",
       "  <thead>\n",
       "    <tr style=\"text-align: right;\">\n",
       "      <th></th>\n",
       "      <th>Id</th>\n",
       "      <th>issuercountrycode</th>\n",
       "      <th>txvariantcode</th>\n",
       "      <th>bin</th>\n",
       "      <th>amount_USD</th>\n",
       "      <th>currencycode</th>\n",
       "      <th>shoppercountrycode</th>\n",
       "      <th>shopperinteraction</th>\n",
       "      <th>cardverificationcodesupplied</th>\n",
       "      <th>cvcresponsecode</th>\n",
       "      <th>accountcode</th>\n",
       "      <th>mail_id</th>\n",
       "      <th>ip_id</th>\n",
       "      <th>card_id</th>\n",
       "      <th>label</th>\n",
       "    </tr>\n",
       "  </thead>\n",
       "  <tbody>\n",
       "    <tr>\n",
       "      <th>0</th>\n",
       "      <td>1</td>\n",
       "      <td>GB</td>\n",
       "      <td>mccredit</td>\n",
       "      <td>546097.0</td>\n",
       "      <td>5562.00</td>\n",
       "      <td>GBP</td>\n",
       "      <td>GB</td>\n",
       "      <td>Ecommerce</td>\n",
       "      <td>1</td>\n",
       "      <td>1</td>\n",
       "      <td>UKAccount</td>\n",
       "      <td>132571</td>\n",
       "      <td>123779</td>\n",
       "      <td>250169</td>\n",
       "      <td>0</td>\n",
       "    </tr>\n",
       "    <tr>\n",
       "      <th>1</th>\n",
       "      <td>2</td>\n",
       "      <td>GB</td>\n",
       "      <td>mcdebit</td>\n",
       "      <td>557349.0</td>\n",
       "      <td>4196.22</td>\n",
       "      <td>GBP</td>\n",
       "      <td>GB</td>\n",
       "      <td>Ecommerce</td>\n",
       "      <td>1</td>\n",
       "      <td>1</td>\n",
       "      <td>UKAccount</td>\n",
       "      <td>312302</td>\n",
       "      <td>298387</td>\n",
       "      <td>14235</td>\n",
       "      <td>0</td>\n",
       "    </tr>\n",
       "    <tr>\n",
       "      <th>2</th>\n",
       "      <td>3</td>\n",
       "      <td>GB</td>\n",
       "      <td>mccredit</td>\n",
       "      <td>542011.0</td>\n",
       "      <td>4814.22</td>\n",
       "      <td>GBP</td>\n",
       "      <td>GB</td>\n",
       "      <td>Ecommerce</td>\n",
       "      <td>1</td>\n",
       "      <td>1</td>\n",
       "      <td>UKAccount</td>\n",
       "      <td>255027</td>\n",
       "      <td>260053</td>\n",
       "      <td>31944</td>\n",
       "      <td>0</td>\n",
       "    </tr>\n",
       "    <tr>\n",
       "      <th>3</th>\n",
       "      <td>4</td>\n",
       "      <td>GB</td>\n",
       "      <td>visadebit</td>\n",
       "      <td>465943.0</td>\n",
       "      <td>18966.42</td>\n",
       "      <td>GBP</td>\n",
       "      <td>GB</td>\n",
       "      <td>ContAuth</td>\n",
       "      <td>0</td>\n",
       "      <td>0</td>\n",
       "      <td>UKAccount</td>\n",
       "      <td>283167</td>\n",
       "      <td>54851</td>\n",
       "      <td>120871</td>\n",
       "      <td>0</td>\n",
       "    </tr>\n",
       "    <tr>\n",
       "      <th>4</th>\n",
       "      <td>6</td>\n",
       "      <td>GB</td>\n",
       "      <td>visadebit</td>\n",
       "      <td>475127.0</td>\n",
       "      <td>6297.42</td>\n",
       "      <td>GBP</td>\n",
       "      <td>GB</td>\n",
       "      <td>Ecommerce</td>\n",
       "      <td>1</td>\n",
       "      <td>1</td>\n",
       "      <td>UKAccount</td>\n",
       "      <td>325263</td>\n",
       "      <td>203929</td>\n",
       "      <td>208017</td>\n",
       "      <td>0</td>\n",
       "    </tr>\n",
       "  </tbody>\n",
       "</table>\n",
       "</div>"
      ],
      "text/plain": [
       "   Id issuercountrycode txvariantcode       bin  amount_USD currencycode  \\\n",
       "0   1                GB      mccredit  546097.0     5562.00          GBP   \n",
       "1   2                GB       mcdebit  557349.0     4196.22          GBP   \n",
       "2   3                GB      mccredit  542011.0     4814.22          GBP   \n",
       "3   4                GB     visadebit  465943.0    18966.42          GBP   \n",
       "4   6                GB     visadebit  475127.0     6297.42          GBP   \n",
       "\n",
       "  shoppercountrycode shopperinteraction  cardverificationcodesupplied  \\\n",
       "0                 GB          Ecommerce                             1   \n",
       "1                 GB          Ecommerce                             1   \n",
       "2                 GB          Ecommerce                             1   \n",
       "3                 GB           ContAuth                             0   \n",
       "4                 GB          Ecommerce                             1   \n",
       "\n",
       "   cvcresponsecode accountcode  mail_id   ip_id  card_id  label  \n",
       "0                1   UKAccount   132571  123779   250169      0  \n",
       "1                1   UKAccount   312302  298387    14235      0  \n",
       "2                1   UKAccount   255027  260053    31944      0  \n",
       "3                0   UKAccount   283167   54851   120871      0  \n",
       "4                1   UKAccount   325263  203929   208017      0  "
      ]
     },
     "execution_count": 7,
     "metadata": {},
     "output_type": "execute_result"
    }
   ],
   "source": [
    "train_df_viz = preprocessData(train_df, usage='viz')\n",
    "train_df_viz.head()"
   ]
  },
  {
   "cell_type": "code",
   "execution_count": 8,
   "metadata": {
    "colab": {
     "base_uri": "https://localhost:8080/",
     "height": 270
    },
    "id": "KY5B7thJVspD",
    "outputId": "f801c793-40e3-49e8-8945-729d8442edf9",
    "scrolled": true
   },
   "outputs": [
    {
     "data": {
      "text/html": [
       "<div>\n",
       "<style scoped>\n",
       "    .dataframe tbody tr th:only-of-type {\n",
       "        vertical-align: middle;\n",
       "    }\n",
       "\n",
       "    .dataframe tbody tr th {\n",
       "        vertical-align: top;\n",
       "    }\n",
       "\n",
       "    .dataframe thead th {\n",
       "        text-align: right;\n",
       "    }\n",
       "</style>\n",
       "<table border=\"1\" class=\"dataframe\">\n",
       "  <thead>\n",
       "    <tr style=\"text-align: right;\">\n",
       "      <th></th>\n",
       "      <th>Id</th>\n",
       "      <th>issuercountrycode</th>\n",
       "      <th>txvariantcode</th>\n",
       "      <th>bin</th>\n",
       "      <th>amount_USD</th>\n",
       "      <th>currencycode</th>\n",
       "      <th>shoppercountrycode</th>\n",
       "      <th>shopperinteraction</th>\n",
       "      <th>cardverificationcodesupplied</th>\n",
       "      <th>cvcresponsecode</th>\n",
       "      <th>accountcode</th>\n",
       "      <th>mail_id</th>\n",
       "      <th>ip_id</th>\n",
       "      <th>card_id</th>\n",
       "      <th>label</th>\n",
       "    </tr>\n",
       "  </thead>\n",
       "  <tbody>\n",
       "    <tr>\n",
       "      <th>0</th>\n",
       "      <td>1</td>\n",
       "      <td>38.0</td>\n",
       "      <td>1.0</td>\n",
       "      <td>546097.0</td>\n",
       "      <td>5562.00</td>\n",
       "      <td>1.0</td>\n",
       "      <td>46.0</td>\n",
       "      <td>1.0</td>\n",
       "      <td>1</td>\n",
       "      <td>1</td>\n",
       "      <td>3.0</td>\n",
       "      <td>61603.0</td>\n",
       "      <td>54181.0</td>\n",
       "      <td>149872.0</td>\n",
       "      <td>0</td>\n",
       "    </tr>\n",
       "    <tr>\n",
       "      <th>1</th>\n",
       "      <td>2</td>\n",
       "      <td>38.0</td>\n",
       "      <td>2.0</td>\n",
       "      <td>557349.0</td>\n",
       "      <td>4196.22</td>\n",
       "      <td>1.0</td>\n",
       "      <td>46.0</td>\n",
       "      <td>1.0</td>\n",
       "      <td>1</td>\n",
       "      <td>1</td>\n",
       "      <td>3.0</td>\n",
       "      <td>144840.0</td>\n",
       "      <td>134713.0</td>\n",
       "      <td>8612.0</td>\n",
       "      <td>0</td>\n",
       "    </tr>\n",
       "    <tr>\n",
       "      <th>2</th>\n",
       "      <td>3</td>\n",
       "      <td>38.0</td>\n",
       "      <td>1.0</td>\n",
       "      <td>542011.0</td>\n",
       "      <td>4814.22</td>\n",
       "      <td>1.0</td>\n",
       "      <td>46.0</td>\n",
       "      <td>1.0</td>\n",
       "      <td>1</td>\n",
       "      <td>1</td>\n",
       "      <td>3.0</td>\n",
       "      <td>118502.0</td>\n",
       "      <td>117879.0</td>\n",
       "      <td>19183.0</td>\n",
       "      <td>0</td>\n",
       "    </tr>\n",
       "    <tr>\n",
       "      <th>3</th>\n",
       "      <td>4</td>\n",
       "      <td>38.0</td>\n",
       "      <td>7.0</td>\n",
       "      <td>465943.0</td>\n",
       "      <td>18966.42</td>\n",
       "      <td>1.0</td>\n",
       "      <td>46.0</td>\n",
       "      <td>0.0</td>\n",
       "      <td>0</td>\n",
       "      <td>0</td>\n",
       "      <td>3.0</td>\n",
       "      <td>131389.0</td>\n",
       "      <td>25422.0</td>\n",
       "      <td>72533.0</td>\n",
       "      <td>0</td>\n",
       "    </tr>\n",
       "    <tr>\n",
       "      <th>4</th>\n",
       "      <td>6</td>\n",
       "      <td>38.0</td>\n",
       "      <td>7.0</td>\n",
       "      <td>475127.0</td>\n",
       "      <td>6297.42</td>\n",
       "      <td>1.0</td>\n",
       "      <td>46.0</td>\n",
       "      <td>1.0</td>\n",
       "      <td>1</td>\n",
       "      <td>1</td>\n",
       "      <td>3.0</td>\n",
       "      <td>150797.0</td>\n",
       "      <td>91555.0</td>\n",
       "      <td>124563.0</td>\n",
       "      <td>0</td>\n",
       "    </tr>\n",
       "  </tbody>\n",
       "</table>\n",
       "</div>"
      ],
      "text/plain": [
       "   Id  issuercountrycode  txvariantcode       bin  amount_USD  currencycode  \\\n",
       "0   1               38.0            1.0  546097.0     5562.00           1.0   \n",
       "1   2               38.0            2.0  557349.0     4196.22           1.0   \n",
       "2   3               38.0            1.0  542011.0     4814.22           1.0   \n",
       "3   4               38.0            7.0  465943.0    18966.42           1.0   \n",
       "4   6               38.0            7.0  475127.0     6297.42           1.0   \n",
       "\n",
       "   shoppercountrycode  shopperinteraction  cardverificationcodesupplied  \\\n",
       "0                46.0                 1.0                             1   \n",
       "1                46.0                 1.0                             1   \n",
       "2                46.0                 1.0                             1   \n",
       "3                46.0                 0.0                             0   \n",
       "4                46.0                 1.0                             1   \n",
       "\n",
       "   cvcresponsecode  accountcode   mail_id     ip_id   card_id  label  \n",
       "0                1          3.0   61603.0   54181.0  149872.0      0  \n",
       "1                1          3.0  144840.0  134713.0    8612.0      0  \n",
       "2                1          3.0  118502.0  117879.0   19183.0      0  \n",
       "3                0          3.0  131389.0   25422.0   72533.0      0  \n",
       "4                1          3.0  150797.0   91555.0  124563.0      0  "
      ]
     },
     "execution_count": 8,
     "metadata": {},
     "output_type": "execute_result"
    }
   ],
   "source": [
    "train_df = preprocessData(train_df, usage='train')\n",
    "train_df.head()"
   ]
  },
  {
   "cell_type": "code",
   "execution_count": 9,
   "metadata": {
    "colab": {
     "base_uri": "https://localhost:8080/",
     "height": 270
    },
    "id": "3K6MUFGZVtHx",
    "outputId": "b9da817f-f5ac-4b33-96d1-1e958652039e"
   },
   "outputs": [
    {
     "data": {
      "text/html": [
       "<div>\n",
       "<style scoped>\n",
       "    .dataframe tbody tr th:only-of-type {\n",
       "        vertical-align: middle;\n",
       "    }\n",
       "\n",
       "    .dataframe tbody tr th {\n",
       "        vertical-align: top;\n",
       "    }\n",
       "\n",
       "    .dataframe thead th {\n",
       "        text-align: right;\n",
       "    }\n",
       "</style>\n",
       "<table border=\"1\" class=\"dataframe\">\n",
       "  <thead>\n",
       "    <tr style=\"text-align: right;\">\n",
       "      <th></th>\n",
       "      <th>Id</th>\n",
       "      <th>issuercountrycode</th>\n",
       "      <th>txvariantcode</th>\n",
       "      <th>bin</th>\n",
       "      <th>amount_USD</th>\n",
       "      <th>currencycode</th>\n",
       "      <th>shoppercountrycode</th>\n",
       "      <th>shopperinteraction</th>\n",
       "      <th>cardverificationcodesupplied</th>\n",
       "      <th>cvcresponsecode</th>\n",
       "      <th>accountcode</th>\n",
       "      <th>mail_id</th>\n",
       "      <th>ip_id</th>\n",
       "      <th>card_id</th>\n",
       "    </tr>\n",
       "  </thead>\n",
       "  <tbody>\n",
       "    <tr>\n",
       "      <th>0</th>\n",
       "      <td>0</td>\n",
       "      <td>38.0</td>\n",
       "      <td>7.0</td>\n",
       "      <td>492181.0</td>\n",
       "      <td>1353.42</td>\n",
       "      <td>1.0</td>\n",
       "      <td>46.0</td>\n",
       "      <td>1.0</td>\n",
       "      <td>0</td>\n",
       "      <td>1</td>\n",
       "      <td>3.0</td>\n",
       "      <td>-1.0</td>\n",
       "      <td>-1.0</td>\n",
       "      <td>-1.0</td>\n",
       "    </tr>\n",
       "    <tr>\n",
       "      <th>1</th>\n",
       "      <td>5</td>\n",
       "      <td>38.0</td>\n",
       "      <td>2.0</td>\n",
       "      <td>557379.0</td>\n",
       "      <td>6674.40</td>\n",
       "      <td>1.0</td>\n",
       "      <td>46.0</td>\n",
       "      <td>1.0</td>\n",
       "      <td>1</td>\n",
       "      <td>1</td>\n",
       "      <td>3.0</td>\n",
       "      <td>-1.0</td>\n",
       "      <td>-1.0</td>\n",
       "      <td>-1.0</td>\n",
       "    </tr>\n",
       "    <tr>\n",
       "      <th>2</th>\n",
       "      <td>7</td>\n",
       "      <td>38.0</td>\n",
       "      <td>9.0</td>\n",
       "      <td>492913.0</td>\n",
       "      <td>21642.36</td>\n",
       "      <td>1.0</td>\n",
       "      <td>46.0</td>\n",
       "      <td>1.0</td>\n",
       "      <td>1</td>\n",
       "      <td>1</td>\n",
       "      <td>3.0</td>\n",
       "      <td>-1.0</td>\n",
       "      <td>-1.0</td>\n",
       "      <td>-1.0</td>\n",
       "    </tr>\n",
       "    <tr>\n",
       "      <th>3</th>\n",
       "      <td>9</td>\n",
       "      <td>79.0</td>\n",
       "      <td>7.0</td>\n",
       "      <td>494310.0</td>\n",
       "      <td>9640.50</td>\n",
       "      <td>3.0</td>\n",
       "      <td>102.0</td>\n",
       "      <td>1.0</td>\n",
       "      <td>1</td>\n",
       "      <td>0</td>\n",
       "      <td>0.0</td>\n",
       "      <td>-1.0</td>\n",
       "      <td>-1.0</td>\n",
       "      <td>-1.0</td>\n",
       "    </tr>\n",
       "    <tr>\n",
       "      <th>4</th>\n",
       "      <td>16</td>\n",
       "      <td>7.0</td>\n",
       "      <td>1.0</td>\n",
       "      <td>518868.0</td>\n",
       "      <td>7841.08</td>\n",
       "      <td>0.0</td>\n",
       "      <td>8.0</td>\n",
       "      <td>1.0</td>\n",
       "      <td>1</td>\n",
       "      <td>0</td>\n",
       "      <td>0.0</td>\n",
       "      <td>-1.0</td>\n",
       "      <td>-1.0</td>\n",
       "      <td>-1.0</td>\n",
       "    </tr>\n",
       "  </tbody>\n",
       "</table>\n",
       "</div>"
      ],
      "text/plain": [
       "   Id  issuercountrycode  txvariantcode       bin  amount_USD  currencycode  \\\n",
       "0   0               38.0            7.0  492181.0     1353.42           1.0   \n",
       "1   5               38.0            2.0  557379.0     6674.40           1.0   \n",
       "2   7               38.0            9.0  492913.0    21642.36           1.0   \n",
       "3   9               79.0            7.0  494310.0     9640.50           3.0   \n",
       "4  16                7.0            1.0  518868.0     7841.08           0.0   \n",
       "\n",
       "   shoppercountrycode  shopperinteraction  cardverificationcodesupplied  \\\n",
       "0                46.0                 1.0                             0   \n",
       "1                46.0                 1.0                             1   \n",
       "2                46.0                 1.0                             1   \n",
       "3               102.0                 1.0                             1   \n",
       "4                 8.0                 1.0                             1   \n",
       "\n",
       "   cvcresponsecode  accountcode  mail_id  ip_id  card_id  \n",
       "0                1          3.0     -1.0   -1.0     -1.0  \n",
       "1                1          3.0     -1.0   -1.0     -1.0  \n",
       "2                1          3.0     -1.0   -1.0     -1.0  \n",
       "3                0          0.0     -1.0   -1.0     -1.0  \n",
       "4                0          0.0     -1.0   -1.0     -1.0  "
      ]
     },
     "execution_count": 9,
     "metadata": {},
     "output_type": "execute_result"
    }
   ],
   "source": [
    "test_df = preprocessData(test_df, usage='test')\n",
    "test_df.head()"
   ]
  },
  {
   "cell_type": "markdown",
   "metadata": {
    "id": "FBC920fydzUD"
   },
   "source": [
    "## 1. Visualization task – 1 A4"
   ]
  },
  {
   "cell_type": "markdown",
   "metadata": {
    "id": "sm2dA_i5dzUE"
   },
   "source": [
    "### 1a. Plot visulations "
   ]
  },
  {
   "cell_type": "code",
   "execution_count": 10,
   "metadata": {
    "colab": {
     "base_uri": "https://localhost:8080/",
     "height": 281
    },
    "id": "jDM3ucYZoUSE",
    "outputId": "26c7a5d0-1be4-4fc4-bf41-23b0face10f2"
   },
   "outputs": [
    {
     "data": {
      "image/png": "[encoded data removed]",
      "text/plain": [
       "<Figure size 432x288 with 2 Axes>"
      ]
     },
     "metadata": {
      "needs_background": "light"
     },
     "output_type": "display_data"
    }
   ],
   "source": [
    "#plotting the number of the fraud and benign transactions per IP\n",
    "plt.subplot(1,2,1)\n",
    "plt.title('Frauds using the same IP address')\n",
    "plt.scatter(np.arange(0, len(train_df_viz[(train_df_viz['label'] == 1)]['ip_id'].unique())), train_df_viz[train_df_viz['label'] == 1].groupby(['ip_id']).size())\n",
    "\n",
    "plt.subplot(1,2,2)\n",
    "plt.title('Benign transactions using the same IP address')\n",
    "plt.scatter(np.arange(0, len(train_df_viz[(train_df_viz['label'] == 0)]['ip_id'].unique())), train_df_viz[train_df_viz['label'] == 0].groupby(['ip_id']).size())\n",
    "plt.subplots_adjust(left=0.125, bottom=None, right=1.3, top=None, wspace=None, hspace=None)\n"
   ]
  },
  {
   "cell_type": "code",
   "execution_count": 11,
   "metadata": {
    "colab": {
     "base_uri": "https://localhost:8080/",
     "height": 281
    },
    "id": "e5TIINHCMGC5",
    "outputId": "a6a452da-9d43-4af9-821b-ff5fb127f429"
   },
   "outputs": [
    {
     "data": {
      "image/png": "[encoded data removed]",
      "text/plain": [
       "<Figure size 432x288 with 2 Axes>"
      ]
     },
     "metadata": {
      "needs_background": "light"
     },
     "output_type": "display_data"
    }
   ],
   "source": [
    "#plotting the relation between the fraud amount and benign amount\n",
    "plt.subplot(1,2,1)\n",
    "plt.title('Fraud')\n",
    "plt.scatter(np.arange(0,train_df_viz[(train_df_viz['label'] == 1)].shape[0]), train_df_viz[train_df_viz['label'] == 1]['amount_USD'])\n",
    "\n",
    "plt.subplot(1,2,2)\n",
    "plt.title('Benign')\n",
    "plt.scatter(np.arange(0,train_df_viz[(train_df_viz['label'] == 0)].shape[0]), train_df_viz[train_df_viz['label'] == 0]['amount_USD'])\n",
    "plt.subplots_adjust(left=0.125, bottom=None, right=1.5, top=None, wspace=None, hspace=None)\n"
   ]
  },
  {
   "cell_type": "code",
   "execution_count": 12,
   "metadata": {
    "colab": {
     "base_uri": "https://localhost:8080/",
     "height": 281
    },
    "id": "g5zVVp1uXVhh",
    "outputId": "afd98757-3a21-4222-e36c-25ed37d6c274"
   },
   "outputs": [
    {
     "data": {
      "image/png": "[encoded data removed]",
      "text/plain": [
       "<Figure size 432x288 with 2 Axes>"
      ]
     },
     "metadata": {
      "needs_background": "light"
     },
     "output_type": "display_data"
    }
   ],
   "source": [
    "#plotting the number of the fraud and benign transactions per country\n",
    "plt.subplot(1,2,1)\n",
    "plt.title('Frauds per country')\n",
    "plt.scatter(np.arange(0, len(train_df_viz[(train_df_viz['label'] == 1)]['shoppercountrycode'].unique())), train_df_viz[train_df_viz['label'] == 1].groupby(['shoppercountrycode']).size())\n",
    "\n",
    "plt.subplot(1,2,2)\n",
    "plt.title('Benign transactions per country')\n",
    "plt.scatter(np.arange(0, len(train_df_viz[(train_df_viz['label'] == 0)]['shoppercountrycode'].unique())), train_df_viz[train_df_viz['label'] == 0].groupby(['shoppercountrycode']).size())\n",
    "plt.subplots_adjust(left=0.125, bottom=None, right=1.3, top=None, wspace=None, hspace=None)\n"
   ]
  },
  {
   "cell_type": "code",
   "execution_count": 13,
   "metadata": {
    "colab": {
     "base_uri": "https://localhost:8080/"
    },
    "id": "YipWxG8ZQWGK",
    "outputId": "ca66f0c4-697e-4346-ba8a-fb5f1ffd4a7c"
   },
   "outputs": [
    {
     "data": {
      "text/plain": [
       "shoppercountrycode\n",
       "AU     90\n",
       "BG      1\n",
       "BR      1\n",
       "DE      1\n",
       "GB     26\n",
       "MX    128\n",
       "NG      1\n",
       "NO      1\n",
       "NZ      5\n",
       "SE     20\n",
       "TH      1\n",
       "US      1\n",
       "Name: Id, dtype: int64"
      ]
     },
     "execution_count": 13,
     "metadata": {},
     "output_type": "execute_result"
    }
   ],
   "source": [
    "# Country with maximum fradulent transactions\n",
    "\n",
    "train_df_viz[train_df_viz['label'] == 1].groupby(['shoppercountrycode']).count()['Id'] # Mexico"
   ]
  },
  {
   "cell_type": "code",
   "execution_count": 14,
   "metadata": {
    "colab": {
     "base_uri": "https://localhost:8080/",
     "height": 511
    },
    "id": "-U0gDHraG3UE",
    "outputId": "3fd1c55c-54ba-419b-d892-01a6b65fd6aa"
   },
   "outputs": [
    {
     "data": {
      "image/png": "[encoded data removed]",
      "text/plain": [
       "<Figure size 432x288 with 1 Axes>"
      ]
     },
     "metadata": {},
     "output_type": "display_data"
    },
    {
     "data": {
      "image/png": "[encoded data removed]",
      "text/plain": [
       "<Figure size 432x288 with 1 Axes>"
      ]
     },
     "metadata": {},
     "output_type": "display_data"
    }
   ],
   "source": [
    "# Plotting the relation between Fraud transactions and Payment type\n",
    "transactionType = [ train_df_viz[ (train_df_viz['shopperinteraction'] == 'Ecommerce') & (train_df_viz['label'] == 1)].shape[0],\n",
    "                    train_df_viz[ (train_df_viz['shopperinteraction'] == 'POS') & (train_df_viz['label'] == 1)].shape[0],\n",
    "                    train_df_viz[ (train_df_viz['shopperinteraction'] == 'ContAuth') & (train_df_viz['label'] == 1)].shape[0]]\n",
    "                  \n",
    "pieLabels=['Ecommerce', 'POS', 'ContAuth']\n",
    "plt.pie(transactionType, labels= pieLabels)\n",
    "plt.title('Fraud transactions and payment type')\n",
    "plt.axis('equal')\n",
    "plt.show()\n",
    "\n",
    "transactionType = [ train_df_viz[ (train_df_viz['shopperinteraction'] == 'Ecommerce') & (train_df_viz['label'] == 0)].shape[0],\n",
    "                    train_df_viz[ (train_df_viz['shopperinteraction'] == 'POS') & (train_df_viz['label'] == 0)].shape[0],\n",
    "                    train_df_viz[ (train_df_viz['shopperinteraction'] == 'ContAuth') & (train_df_viz['label'] == 0)].shape[0]]\n",
    "                  \n",
    "pieLabels=['Ecommerce', 'POS', 'ContAuth']\n",
    "plt.pie(transactionType, labels= pieLabels)\n",
    "plt.title('Benign transactions and payment type')\n",
    "plt.axis('equal')\n",
    "plt.show()"
   ]
  },
  {
   "cell_type": "markdown",
   "metadata": {
    "id": "if2bMAOqdzUF"
   },
   "source": [
    "### 1b. Describe the visualizations and provide relavant explanations of features and relations."
   ]
  },
  {
   "cell_type": "markdown",
   "metadata": {
    "id": "zmn-Z74OY2Ng"
   },
   "source": [
    "**Plot 1**\n",
    "\n",
    "Looking at the first plot it can be observed that fraudsters generally commit frauds with different IPs and rarely use the same IP address for new frauds so as to reduce the chances of getting identified. \n",
    "\n",
    "**Plot 2**\n",
    "\n",
    "From the second plot it can be inferred that majority of the frauds are of smaller amounts in comparison to the benign transactions. This might be to prevent attention on the transaction.\n",
    "\n",
    "**Plot 3**\n",
    "\n",
    "From the third plot it can be seen that there are certain countries with an exceptional high number of fradulent transactions. The highest number of fraudulent transactions in the dataset is observed from Mexico (MX).\n",
    "\n",
    "<!-- Plot 3 suggests that multipe frauds from the same card are rare whereas benign transactions from the same card are very frequent. It might be because if fraudsters use the same card repeatedly, it might become easier to catch them.   -->\n",
    "\n",
    "**Plot 4**\n",
    "\n",
    "It can be inferred from the forth plot that maximum frauds are commited on E-Commerce transactions. This can be attributed to higher number of E-Commerce transactions in general or ease to commit E-Commerce frauds."
   ]
  },
  {
   "cell_type": "markdown",
   "metadata": {
    "id": "ciDbc9dbTQFd"
   },
   "source": [
    "### 1c. Explain what features could be useful for discriminating between these two classes."
   ]
  },
  {
   "cell_type": "markdown",
   "metadata": {
    "id": "OqnNzeP3S5rU"
   },
   "source": [
    "It can be concluded from the plots above that transaction amount, shopper country code and IP can be used as weak indicators for identifying fraudulent transactions.\n",
    "\n"
   ]
  },
  {
   "cell_type": "markdown",
   "metadata": {
    "id": "W454iv56V5sD"
   },
   "source": [
    "## Initialise Classifiers"
   ]
  },
  {
   "cell_type": "code",
   "execution_count": 15,
   "metadata": {
    "id": "RT8JgsFGV8An"
   },
   "outputs": [],
   "source": [
    "def init_Models():\n",
    "\n",
    "    # Logistic Regression - White Box\n",
    "    logisticReg = LogisticRegression(random_state=0)\n",
    "\n",
    "    # Support Vector Machine - Black Box\n",
    "    supportVector = OneClassSVM(gamma='auto')\n",
    "\n",
    "    # Decision Tree - White Box\n",
    "    decisionTree = DecisionTreeClassifier(random_state=0)\n",
    "\n",
    "    # Random Forest - Black Box\n",
    "    randomForest = RandomForestClassifier(max_depth=2, random_state=0)\n",
    "\n",
    "    # Isolation Forest - Black Box\n",
    "    isoForest = IsolationForest(random_state=0)\n",
    "\n",
    "    return [logisticReg, supportVector, decisionTree, randomForest, isoForest]"
   ]
  },
  {
   "cell_type": "code",
   "execution_count": 16,
   "metadata": {
    "id": "Vt1FDjiN9PCk"
   },
   "outputs": [],
   "source": [
    "# Defining the plotting function\n",
    "def plotROC(models, trainX, testX, trainy, testy, title=''):\n",
    "    \"\"\"\n",
    "      Args:\n",
    "          models: list of models\n",
    "          trainX: train features\n",
    "          testX:  test feature\n",
    "          trainy: train labels\n",
    "          testy:  test labels\n",
    "          title:  title of the plot\n",
    "\n",
    "      Returns:\n",
    "          score_values: ROC AUC scores for all the models\n",
    "    \"\"\"\n",
    "\n",
    "    score_values = {}\n",
    "    # Color map\n",
    "    cmap = plt.cm.get_cmap('hsv', len(models)+1)\n",
    "\n",
    "    # Random classifier performance\n",
    "    probs = [0 for _ in range(len(testy))]\n",
    "    uc = roc_auc_score(testy, probs)\n",
    "    fpr, tpr, _ = roc_curve(testy, probs)\n",
    "    plt.plot(fpr, tpr, marker='.', color='m', label='Random Classiifier')\n",
    "\n",
    "    for ind, model in enumerate(tqdm(models)):\n",
    "\n",
    "        if isinstance(model, LogisticRegression):\n",
    "            model.fit(trainX, trainy)\n",
    "\n",
    "        elif isinstance(model, OneClassSVM):\n",
    "            model.fit(train_X)\n",
    "\n",
    "        elif isinstance(model, DecisionTreeClassifier):\n",
    "            model.fit(trainX, trainy)\n",
    "\n",
    "        elif isinstance(model, RandomForestClassifier):\n",
    "            model.fit(trainX, trainy)\n",
    "\n",
    "        elif isinstance(model, IsolationForest):\n",
    "            model.fit(train_X)\n",
    "\n",
    "        else:\n",
    "            print('Model instance not found')\n",
    "            continue\n",
    "        \n",
    "        if not isinstance(model, IsolationForest):\n",
    "            probs = model.predict_proba(testX)[:, 1]\n",
    "        else:\n",
    "            probs = abs(model.score_samples(testX)) # score\n",
    "\n",
    "        uc = roc_auc_score(testy, probs)\n",
    "        fpr, tpr, _ = roc_curve(testy, probs)\n",
    "        plt.plot(fpr, tpr, marker='.', color=cmap(ind+1), label=type(model).__name__)\n",
    "        score_values[type(model).__name__] = uc\n",
    "    \n",
    "    # Plotting the ROC curve for models\n",
    "    plt.xlabel('False Positive Rate')\n",
    "    plt.ylabel('True Positive Rate')\n",
    "    plt.title(title)\n",
    "    plt.legend()\n",
    "    \n",
    "    # Display the plot\n",
    "    plt.show()   \n",
    "\n",
    "    return score_values"
   ]
  },
  {
   "cell_type": "code",
   "execution_count": 17,
   "metadata": {
    "id": "18m1XXkA9NMX"
   },
   "outputs": [],
   "source": [
    "# Train test split\n",
    "train_X = train_df.drop(['label'], axis='columns')\n",
    "train_y = train_df['label']\n",
    "trainX, testX, trainy, testy = train_test_split(train_X, train_y, test_size=0.20, stratify=train_y, random_state = 0)"
   ]
  },
  {
   "cell_type": "code",
   "execution_count": 18,
   "metadata": {
    "colab": {
     "base_uri": "https://localhost:8080/",
     "height": 312
    },
    "id": "nnf6DntzGpy1",
    "outputId": "1e7cd194-8610-428e-ba87-295c905dc7b4"
   },
   "outputs": [
    {
     "name": "stderr",
     "output_type": "stream",
     "text": [
      "100%|████████████████████████████████████████████████████████████████████████████████████| 4/4 [00:09<00:00,  2.44s/it]\n"
     ]
    },
    {
     "data": {
      "image/png": "[encoded data removed]",
      "text/plain": [
       "<Figure size 432x288 with 1 Axes>"
      ]
     },
     "metadata": {
      "needs_background": "light"
     },
     "output_type": "display_data"
    }
   ],
   "source": [
    "logisticReg, _, decisionTree, randomForest, isoForest = init_Models()\n",
    "\n",
    "score_values = plotROC([logisticReg, decisionTree, randomForest, isoForest], trainX, testX, trainy, testy, title='Performance on Original Data')"
   ]
  },
  {
   "cell_type": "code",
   "execution_count": 19,
   "metadata": {
    "id": "v-voEeP3q6QM"
   },
   "outputs": [],
   "source": [
    "# Train test split with undersampling\n",
    "\n",
    "percentage_bening = 0.7 # percentage of samples which are normal after undersampling\n",
    "\n",
    "# undersample benign transactions\n",
    "train_X_y = pd.concat([trainX.reset_index(drop=True), trainy.reset_index(drop=True)], axis=1)\n",
    "undersample_frac = (len(train_X_y[train_X_y['label']==1])/(1 - percentage_bening) * percentage_bening)/len(train_X_y[train_X_y['label']==0])\n",
    "\n",
    "fraud_train_df = train_X_y[train_X_y['label']==1]\n",
    "benign_train_df = train_X_y[train_X_y['label']==0].sample(frac=undersample_frac)\n",
    "undersampled_train_df = pd.concat([fraud_train_df, benign_train_df], ignore_index=True).reset_index(drop=True)\n",
    "\n",
    "undersampled_train_X = undersampled_train_df.drop(['label'], axis='columns')\n",
    "undersampled_train_y = undersampled_train_df['label']"
   ]
  },
  {
   "cell_type": "code",
   "execution_count": 20,
   "metadata": {
    "colab": {
     "base_uri": "https://localhost:8080/",
     "height": 312
    },
    "id": "unqxOeNVjFpu",
    "outputId": "f3a610ea-dcc4-4408-94cf-1ff8842304f9"
   },
   "outputs": [
    {
     "name": "stderr",
     "output_type": "stream",
     "text": [
      "100%|████████████████████████████████████████████████████████████████████████████████████| 4/4 [00:03<00:00,  1.20it/s]\n"
     ]
    },
    {
     "data": {
      "image/png": "[encoded data removed]",
      "text/plain": [
       "<Figure size 432x288 with 1 Axes>"
      ]
     },
     "metadata": {
      "needs_background": "light"
     },
     "output_type": "display_data"
    }
   ],
   "source": [
    "logisticReg, _, decisionTree, randomForest, isoForest = init_Models()\n",
    "\n",
    "score_values_us = plotROC([logisticReg, decisionTree, randomForest, isoForest], undersampled_train_X, testX, undersampled_train_y, testy, title='Performance on Original Data w Undersampling')"
   ]
  },
  {
   "cell_type": "code",
   "execution_count": 21,
   "metadata": {
    "colab": {
     "base_uri": "https://localhost:8080/",
     "height": 175
    },
    "id": "YTmgy761qlD_",
    "outputId": "9d56d7c6-a194-4cb6-aec9-c801a2b316c6"
   },
   "outputs": [
    {
     "data": {
      "text/html": [
       "<div>\n",
       "<style scoped>\n",
       "    .dataframe tbody tr th:only-of-type {\n",
       "        vertical-align: middle;\n",
       "    }\n",
       "\n",
       "    .dataframe tbody tr th {\n",
       "        vertical-align: top;\n",
       "    }\n",
       "\n",
       "    .dataframe thead th {\n",
       "        text-align: right;\n",
       "    }\n",
       "</style>\n",
       "<table border=\"1\" class=\"dataframe\">\n",
       "  <thead>\n",
       "    <tr style=\"text-align: right;\">\n",
       "      <th></th>\n",
       "      <th>Original Data</th>\n",
       "      <th>Undersampling</th>\n",
       "    </tr>\n",
       "  </thead>\n",
       "  <tbody>\n",
       "    <tr>\n",
       "      <th>LogisticRegression</th>\n",
       "      <td>0.771701</td>\n",
       "      <td>0.841591</td>\n",
       "    </tr>\n",
       "    <tr>\n",
       "      <th>DecisionTreeClassifier</th>\n",
       "      <td>0.563048</td>\n",
       "      <td>0.823704</td>\n",
       "    </tr>\n",
       "    <tr>\n",
       "      <th>RandomForestClassifier</th>\n",
       "      <td>0.939457</td>\n",
       "      <td>0.928565</td>\n",
       "    </tr>\n",
       "    <tr>\n",
       "      <th>IsolationForest</th>\n",
       "      <td>0.854750</td>\n",
       "      <td>0.854750</td>\n",
       "    </tr>\n",
       "  </tbody>\n",
       "</table>\n",
       "</div>"
      ],
      "text/plain": [
       "                        Original Data  Undersampling\n",
       "LogisticRegression           0.771701       0.841591\n",
       "DecisionTreeClassifier       0.563048       0.823704\n",
       "RandomForestClassifier       0.939457       0.928565\n",
       "IsolationForest              0.854750       0.854750"
      ]
     },
     "execution_count": 21,
     "metadata": {},
     "output_type": "execute_result"
    }
   ],
   "source": [
    "# Compare performance over original vs undersampled data\n",
    "\n",
    "pd.DataFrame({'Original Data': score_values, 'Undersampling': score_values_us})"
   ]
  },
  {
   "cell_type": "markdown",
   "metadata": {
    "id": "Pj3QvOfSdzUG"
   },
   "source": [
    "## 2. Imbalance task – 1 A4 – Sayak Mukherjee"
   ]
  },
  {
   "cell_type": "code",
   "execution_count": 22,
   "metadata": {
    "colab": {
     "base_uri": "https://localhost:8080/"
    },
    "id": "vFv1kiEaWAaj",
    "outputId": "16688277-e6a1-423f-bf02-137b6e4d5329"
   },
   "outputs": [
    {
     "name": "stdout",
     "output_type": "stream",
     "text": [
      "There are 0.155% fraudulent samples and 99.845% benign sample.\n"
     ]
    }
   ],
   "source": [
    "# Split data into fraudulent and benign\n",
    "fraud_dataX = trainX[trainy==1]\n",
    "fraud_datay = trainy[trainy==1]\n",
    "\n",
    "benign_dataX = trainX[trainy==0]\n",
    "benign_datay = trainy[trainy==0]\n",
    "\n",
    "print(f'There are {round(fraud_dataX.shape[0]/trainX.shape[0]*100, 3)}% \\\n",
    "fraudulent samples and {round(benign_datay.shape[0]/trainX.shape[0]*100, 3)}% \\\n",
    "benign sample.')"
   ]
  },
  {
   "cell_type": "code",
   "execution_count": 23,
   "metadata": {
    "colab": {
     "base_uri": "https://localhost:8080/",
     "height": 264
    },
    "id": "f0Aub_P1WCrn",
    "outputId": "f228e752-6565-44d4-9943-1c71bc643f23"
   },
   "outputs": [
    {
     "data": {
      "image/png": "[encoded data removed]",
      "text/plain": [
       "<Figure size 432x288 with 1 Axes>"
      ]
     },
     "metadata": {},
     "output_type": "display_data"
    }
   ],
   "source": [
    "# Create a circle at the center of the plot\n",
    "my_circle = plt.Circle( (0,0), 0.5, color='white')\n",
    "\n",
    "plt.pie([fraud_dataX.shape[0], benign_dataX.shape[0]], \n",
    "        labels=['Fradulent Sample', 'Benign Samples'], \n",
    "        colors=['red','green'])\n",
    "p = plt.gcf()\n",
    "p.gca().add_artist(my_circle)\n",
    "plt.title('Sample Distribution')\n",
    "plt.show()"
   ]
  },
  {
   "cell_type": "code",
   "execution_count": 24,
   "metadata": {
    "id": "_l5CYBGlWEhS"
   },
   "outputs": [],
   "source": [
    "# SMOTE Algorithm\n",
    "# Chawla, N. V., Bowyer, K. W., Hall, L. O., & Kegelmeyer, W. P. (2002). SMOTE: \n",
    "# synthetic minority over-sampling technique. Journal of artificial intelligence \n",
    "# research, 16, 321-357.\n",
    "# https://www.jair.org/index.php/jair/article/view/10302\n",
    "\n",
    "# For handling categorical data (ordinal encoded) a customisation is applied on\n",
    "# the original algorithm. Attribute values are selected at random between the \n",
    "# sample and the selected neighbor. This feature can be optionally applied by \n",
    "# setting the custom argument to true.\n",
    "\n",
    "def smote(minority_X, minority_y, percentage, neighbors, custom=False):\n",
    "    \"\"\"\n",
    "      Args:\n",
    "          minority_X: features for minority class\n",
    "          minority_y: labels for minority class\n",
    "          percentage: percentage of SMOTEing\n",
    "          neighbors:  number of neighbors to be considered\n",
    "          custom:     apply custom handling for categorical data\n",
    "\n",
    "      Returns:\n",
    "          minority_samples: \n",
    "          minority_samples:\n",
    "    \"\"\"\n",
    "\n",
    "    # Copy data to not mess with original\n",
    "    minority_samples = minority_X.copy()\n",
    "    minority_labels = minority_y.copy()\n",
    "\n",
    "    col_names = minority_samples.columns\n",
    "\n",
    "    num_samples = minority_samples.shape[0]\n",
    "\n",
    "    # If N is less than 100% the minority class is \n",
    "    # randomised as a sample from them will be SMOTEd\n",
    "    if percentage < 100:\n",
    "        \n",
    "        # Randomly sample a fraction of datapoints\n",
    "        fraction = percentage/100\n",
    "        minority_samples = minority_samples.sample(frac=fraction).reset_index(drop=True)\n",
    "\n",
    "        # Reset the number of minority samples and percentage\n",
    "        num_samples = minority_samples.shape[0]\n",
    "        percentage = 100\n",
    "\n",
    "    fraction = (int)(percentage/100)\n",
    "    numattrs = minority_samples.shape[1]\n",
    "    newindex = 0\n",
    "    newindexes = [ind for ind in range(num_samples*fraction)]\n",
    "    synthetic = pd.DataFrame(np.nan, index = newindexes, columns=minority_samples.columns)\n",
    "    nbrs = NearestNeighbors(n_neighbors=neighbors, algorithm='kd_tree').fit(minority_samples.values)\n",
    "\n",
    "    # For each minority sample apply SMOTE\n",
    "    for sample in range(num_samples):\n",
    "\n",
    "        # Find neighbors of the current sample\n",
    "        _, nnarray = nbrs.kneighbors([minority_samples.iloc[sample]])\n",
    "\n",
    "        # Fill with synthetic data based on randomly selected neighbor\n",
    "        for ind in range(fraction):\n",
    "            nn = random.choice(range(neighbors))\n",
    "\n",
    "            for attr in range(numattrs):\n",
    "                # Apply SMOTE for amount columns\n",
    "                if col_names[attr] in ['amount_USD'] or not custom:\n",
    "                  diff = minority_samples.iloc[nnarray[0][nn]][attr] - minority_samples.iloc[sample][attr]\n",
    "                  gap = random.uniform(0, 1)\n",
    "                  synthetic.iloc[newindex][attr] = minority_samples.iloc[sample][attr] + gap * diff\n",
    "\n",
    "                # Randomly copy neighbor or sample value \n",
    "                else:\n",
    "                  choice = random.choice(range(2))\n",
    "                  if choice == 0:\n",
    "                      synthetic.iloc[newindex][attr] = minority_samples.iloc[nnarray[0][nn]][attr]\n",
    "                  else:\n",
    "                      synthetic.iloc[newindex][attr] = minority_samples.iloc[sample][attr] \n",
    "            newindex += 1\n",
    "    \n",
    "    minority_samples = pd.concat([synthetic,  minority_samples], ignore_index=True).reset_index(drop=True)\n",
    "    minority_labels = np.full(len(minority_samples), minority_labels.reset_index(drop=True)[0])\n",
    "\n",
    "    return minority_samples, pd.Series(minority_labels)"
   ]
  },
  {
   "cell_type": "code",
   "execution_count": 25,
   "metadata": {
    "colab": {
     "base_uri": "https://localhost:8080/",
     "height": 270
    },
    "id": "dqZ3EOhfWGxD",
    "outputId": "a42e5323-acf0-4658-ba33-d7179ad10ae4"
   },
   "outputs": [
    {
     "data": {
      "text/html": [
       "<div>\n",
       "<style scoped>\n",
       "    .dataframe tbody tr th:only-of-type {\n",
       "        vertical-align: middle;\n",
       "    }\n",
       "\n",
       "    .dataframe tbody tr th {\n",
       "        vertical-align: top;\n",
       "    }\n",
       "\n",
       "    .dataframe thead th {\n",
       "        text-align: right;\n",
       "    }\n",
       "</style>\n",
       "<table border=\"1\" class=\"dataframe\">\n",
       "  <thead>\n",
       "    <tr style=\"text-align: right;\">\n",
       "      <th></th>\n",
       "      <th>Id</th>\n",
       "      <th>issuercountrycode</th>\n",
       "      <th>txvariantcode</th>\n",
       "      <th>bin</th>\n",
       "      <th>amount_USD</th>\n",
       "      <th>currencycode</th>\n",
       "      <th>shoppercountrycode</th>\n",
       "      <th>shopperinteraction</th>\n",
       "      <th>cardverificationcodesupplied</th>\n",
       "      <th>cvcresponsecode</th>\n",
       "      <th>accountcode</th>\n",
       "      <th>mail_id</th>\n",
       "      <th>ip_id</th>\n",
       "      <th>card_id</th>\n",
       "    </tr>\n",
       "  </thead>\n",
       "  <tbody>\n",
       "    <tr>\n",
       "      <th>0</th>\n",
       "      <td>160431.0</td>\n",
       "      <td>74.0</td>\n",
       "      <td>5.0</td>\n",
       "      <td>477291.0</td>\n",
       "      <td>4753.517924</td>\n",
       "      <td>2.0</td>\n",
       "      <td>95.0</td>\n",
       "      <td>1.0</td>\n",
       "      <td>1.0</td>\n",
       "      <td>0.0</td>\n",
       "      <td>1.0</td>\n",
       "      <td>76214.0</td>\n",
       "      <td>48071.0</td>\n",
       "      <td>95673.0</td>\n",
       "    </tr>\n",
       "    <tr>\n",
       "      <th>1</th>\n",
       "      <td>151947.0</td>\n",
       "      <td>74.0</td>\n",
       "      <td>9.0</td>\n",
       "      <td>492910.0</td>\n",
       "      <td>12574.497667</td>\n",
       "      <td>2.0</td>\n",
       "      <td>95.0</td>\n",
       "      <td>1.0</td>\n",
       "      <td>1.0</td>\n",
       "      <td>0.0</td>\n",
       "      <td>1.0</td>\n",
       "      <td>77250.0</td>\n",
       "      <td>48016.0</td>\n",
       "      <td>95673.0</td>\n",
       "    </tr>\n",
       "    <tr>\n",
       "      <th>2</th>\n",
       "      <td>160431.0</td>\n",
       "      <td>38.0</td>\n",
       "      <td>9.0</td>\n",
       "      <td>492910.0</td>\n",
       "      <td>10656.223999</td>\n",
       "      <td>2.0</td>\n",
       "      <td>46.0</td>\n",
       "      <td>1.0</td>\n",
       "      <td>1.0</td>\n",
       "      <td>1.0</td>\n",
       "      <td>1.0</td>\n",
       "      <td>77250.0</td>\n",
       "      <td>57338.0</td>\n",
       "      <td>113185.0</td>\n",
       "    </tr>\n",
       "    <tr>\n",
       "      <th>3</th>\n",
       "      <td>152198.0</td>\n",
       "      <td>74.0</td>\n",
       "      <td>5.0</td>\n",
       "      <td>477291.0</td>\n",
       "      <td>7865.507504</td>\n",
       "      <td>2.0</td>\n",
       "      <td>95.0</td>\n",
       "      <td>1.0</td>\n",
       "      <td>1.0</td>\n",
       "      <td>0.0</td>\n",
       "      <td>1.0</td>\n",
       "      <td>123435.0</td>\n",
       "      <td>48016.0</td>\n",
       "      <td>95673.0</td>\n",
       "    </tr>\n",
       "    <tr>\n",
       "      <th>4</th>\n",
       "      <td>160431.0</td>\n",
       "      <td>74.0</td>\n",
       "      <td>5.0</td>\n",
       "      <td>477291.0</td>\n",
       "      <td>2949.180000</td>\n",
       "      <td>2.0</td>\n",
       "      <td>95.0</td>\n",
       "      <td>1.0</td>\n",
       "      <td>1.0</td>\n",
       "      <td>0.0</td>\n",
       "      <td>1.0</td>\n",
       "      <td>117311.0</td>\n",
       "      <td>48016.0</td>\n",
       "      <td>95673.0</td>\n",
       "    </tr>\n",
       "  </tbody>\n",
       "</table>\n",
       "</div>"
      ],
      "text/plain": [
       "         Id  issuercountrycode  txvariantcode       bin    amount_USD  \\\n",
       "0  160431.0               74.0            5.0  477291.0   4753.517924   \n",
       "1  151947.0               74.0            9.0  492910.0  12574.497667   \n",
       "2  160431.0               38.0            9.0  492910.0  10656.223999   \n",
       "3  152198.0               74.0            5.0  477291.0   7865.507504   \n",
       "4  160431.0               74.0            5.0  477291.0   2949.180000   \n",
       "\n",
       "   currencycode  shoppercountrycode  shopperinteraction  \\\n",
       "0           2.0                95.0                 1.0   \n",
       "1           2.0                95.0                 1.0   \n",
       "2           2.0                46.0                 1.0   \n",
       "3           2.0                95.0                 1.0   \n",
       "4           2.0                95.0                 1.0   \n",
       "\n",
       "   cardverificationcodesupplied  cvcresponsecode  accountcode   mail_id  \\\n",
       "0                           1.0              0.0          1.0   76214.0   \n",
       "1                           1.0              0.0          1.0   77250.0   \n",
       "2                           1.0              1.0          1.0   77250.0   \n",
       "3                           1.0              0.0          1.0  123435.0   \n",
       "4                           1.0              0.0          1.0  117311.0   \n",
       "\n",
       "     ip_id   card_id  \n",
       "0  48071.0   95673.0  \n",
       "1  48016.0   95673.0  \n",
       "2  57338.0  113185.0  \n",
       "3  48016.0   95673.0  \n",
       "4  48016.0   95673.0  "
      ]
     },
     "execution_count": 25,
     "metadata": {},
     "output_type": "execute_result"
    }
   ],
   "source": [
    "# Create the training dataframe by appending synthetic data to the original dataframe\n",
    "smoted_fraud_dataX, smoted_fraud_datay = smote(fraud_dataX, fraud_datay, 4000, 6, custom=True)\n",
    "\n",
    "smoted_trainX = pd.concat([smoted_fraud_dataX, benign_dataX], ignore_index=True).reset_index(drop=True)\n",
    "smoted_trainy = pd.concat([smoted_fraud_datay, benign_datay], ignore_index=True).reset_index(drop=True)\n",
    "smoted_trainX.head()"
   ]
  },
  {
   "cell_type": "code",
   "execution_count": 26,
   "metadata": {
    "colab": {
     "base_uri": "https://localhost:8080/"
    },
    "id": "jd6HEoOQXyLC",
    "outputId": "6b9ae024-403d-4fcd-b3ea-f4b48bef1f91"
   },
   "outputs": [
    {
     "name": "stdout",
     "output_type": "stream",
     "text": [
      "There are 5.966% fraudulent samples and 94.034% benign sample after SMOTE.\n"
     ]
    }
   ],
   "source": [
    "# Check the ratio after SMOTE\n",
    "\n",
    "print(f'There are {round(smoted_fraud_dataX.shape[0]/smoted_trainX.shape[0]*100, 3)}% \\\n",
    "fraudulent samples and {round(benign_dataX.shape[0]/smoted_trainX.shape[0]*100, 3)}% \\\n",
    "benign sample after SMOTE.')"
   ]
  },
  {
   "cell_type": "code",
   "execution_count": 27,
   "metadata": {
    "colab": {
     "base_uri": "https://localhost:8080/",
     "height": 264
    },
    "id": "2yHOTxjl1eqD",
    "outputId": "79a04ded-88ce-4d64-cc1a-c31dfca7901b"
   },
   "outputs": [
    {
     "data": {
      "image/png": "[encoded data removed]",
      "text/plain": [
       "<Figure size 432x288 with 1 Axes>"
      ]
     },
     "metadata": {},
     "output_type": "display_data"
    }
   ],
   "source": [
    "# Create a circle at the center of the plot\n",
    "my_circle = plt.Circle( (0,0), 0.5, color='white')\n",
    "\n",
    "plt.pie([smoted_fraud_dataX.shape[0], benign_dataX.shape[0]], \n",
    "        labels=['Fradulent Sample', 'Benign Samples'], \n",
    "        colors=['red','green'])\n",
    "p = plt.gcf()\n",
    "p.gca().add_artist(my_circle)\n",
    "plt.title('Sample Distribution after SMOTE')\n",
    "plt.show()"
   ]
  },
  {
   "cell_type": "code",
   "execution_count": 28,
   "metadata": {
    "colab": {
     "base_uri": "https://localhost:8080/",
     "height": 270
    },
    "id": "2SNgjwPxolR4",
    "outputId": "2aadd4d5-8209-4b9a-f1cd-105e6928ebf1"
   },
   "outputs": [
    {
     "data": {
      "text/html": [
       "<div>\n",
       "<style scoped>\n",
       "    .dataframe tbody tr th:only-of-type {\n",
       "        vertical-align: middle;\n",
       "    }\n",
       "\n",
       "    .dataframe tbody tr th {\n",
       "        vertical-align: top;\n",
       "    }\n",
       "\n",
       "    .dataframe thead th {\n",
       "        text-align: right;\n",
       "    }\n",
       "</style>\n",
       "<table border=\"1\" class=\"dataframe\">\n",
       "  <thead>\n",
       "    <tr style=\"text-align: right;\">\n",
       "      <th></th>\n",
       "      <th>Id</th>\n",
       "      <th>issuercountrycode</th>\n",
       "      <th>txvariantcode</th>\n",
       "      <th>bin</th>\n",
       "      <th>amount_USD</th>\n",
       "      <th>currencycode</th>\n",
       "      <th>shoppercountrycode</th>\n",
       "      <th>shopperinteraction</th>\n",
       "      <th>cardverificationcodesupplied</th>\n",
       "      <th>cvcresponsecode</th>\n",
       "      <th>accountcode</th>\n",
       "      <th>mail_id</th>\n",
       "      <th>ip_id</th>\n",
       "      <th>card_id</th>\n",
       "    </tr>\n",
       "  </thead>\n",
       "  <tbody>\n",
       "    <tr>\n",
       "      <th>0</th>\n",
       "      <td>160431.0</td>\n",
       "      <td>74.0</td>\n",
       "      <td>5.0</td>\n",
       "      <td>477291.0</td>\n",
       "      <td>4753.517924</td>\n",
       "      <td>2.0</td>\n",
       "      <td>95.0</td>\n",
       "      <td>1.0</td>\n",
       "      <td>1.0</td>\n",
       "      <td>0.0</td>\n",
       "      <td>1.0</td>\n",
       "      <td>76214.0</td>\n",
       "      <td>48071.0</td>\n",
       "      <td>95673.0</td>\n",
       "    </tr>\n",
       "    <tr>\n",
       "      <th>1</th>\n",
       "      <td>151947.0</td>\n",
       "      <td>74.0</td>\n",
       "      <td>9.0</td>\n",
       "      <td>492910.0</td>\n",
       "      <td>12574.497667</td>\n",
       "      <td>2.0</td>\n",
       "      <td>95.0</td>\n",
       "      <td>1.0</td>\n",
       "      <td>1.0</td>\n",
       "      <td>0.0</td>\n",
       "      <td>1.0</td>\n",
       "      <td>77250.0</td>\n",
       "      <td>48016.0</td>\n",
       "      <td>95673.0</td>\n",
       "    </tr>\n",
       "    <tr>\n",
       "      <th>2</th>\n",
       "      <td>160431.0</td>\n",
       "      <td>38.0</td>\n",
       "      <td>9.0</td>\n",
       "      <td>492910.0</td>\n",
       "      <td>10656.223999</td>\n",
       "      <td>2.0</td>\n",
       "      <td>46.0</td>\n",
       "      <td>1.0</td>\n",
       "      <td>1.0</td>\n",
       "      <td>1.0</td>\n",
       "      <td>1.0</td>\n",
       "      <td>77250.0</td>\n",
       "      <td>57338.0</td>\n",
       "      <td>113185.0</td>\n",
       "    </tr>\n",
       "    <tr>\n",
       "      <th>3</th>\n",
       "      <td>152198.0</td>\n",
       "      <td>74.0</td>\n",
       "      <td>5.0</td>\n",
       "      <td>477291.0</td>\n",
       "      <td>7865.507504</td>\n",
       "      <td>2.0</td>\n",
       "      <td>95.0</td>\n",
       "      <td>1.0</td>\n",
       "      <td>1.0</td>\n",
       "      <td>0.0</td>\n",
       "      <td>1.0</td>\n",
       "      <td>123435.0</td>\n",
       "      <td>48016.0</td>\n",
       "      <td>95673.0</td>\n",
       "    </tr>\n",
       "    <tr>\n",
       "      <th>4</th>\n",
       "      <td>160431.0</td>\n",
       "      <td>74.0</td>\n",
       "      <td>5.0</td>\n",
       "      <td>477291.0</td>\n",
       "      <td>2949.180000</td>\n",
       "      <td>2.0</td>\n",
       "      <td>95.0</td>\n",
       "      <td>1.0</td>\n",
       "      <td>1.0</td>\n",
       "      <td>0.0</td>\n",
       "      <td>1.0</td>\n",
       "      <td>117311.0</td>\n",
       "      <td>48016.0</td>\n",
       "      <td>95673.0</td>\n",
       "    </tr>\n",
       "  </tbody>\n",
       "</table>\n",
       "</div>"
      ],
      "text/plain": [
       "         Id  issuercountrycode  txvariantcode       bin    amount_USD  \\\n",
       "0  160431.0               74.0            5.0  477291.0   4753.517924   \n",
       "1  151947.0               74.0            9.0  492910.0  12574.497667   \n",
       "2  160431.0               38.0            9.0  492910.0  10656.223999   \n",
       "3  152198.0               74.0            5.0  477291.0   7865.507504   \n",
       "4  160431.0               74.0            5.0  477291.0   2949.180000   \n",
       "\n",
       "   currencycode  shoppercountrycode  shopperinteraction  \\\n",
       "0           2.0                95.0                 1.0   \n",
       "1           2.0                95.0                 1.0   \n",
       "2           2.0                46.0                 1.0   \n",
       "3           2.0                95.0                 1.0   \n",
       "4           2.0                95.0                 1.0   \n",
       "\n",
       "   cardverificationcodesupplied  cvcresponsecode  accountcode   mail_id  \\\n",
       "0                           1.0              0.0          1.0   76214.0   \n",
       "1                           1.0              0.0          1.0   77250.0   \n",
       "2                           1.0              1.0          1.0   77250.0   \n",
       "3                           1.0              0.0          1.0  123435.0   \n",
       "4                           1.0              0.0          1.0  117311.0   \n",
       "\n",
       "     ip_id   card_id  \n",
       "0  48071.0   95673.0  \n",
       "1  48016.0   95673.0  \n",
       "2  57338.0  113185.0  \n",
       "3  48016.0   95673.0  \n",
       "4  48016.0   95673.0  "
      ]
     },
     "execution_count": 28,
     "metadata": {},
     "output_type": "execute_result"
    }
   ],
   "source": [
    "# Applying SMOTE + Undersampling\n",
    "benign_df = pd.concat([benign_dataX.reset_index(drop=True), benign_datay.reset_index(drop=True)], axis=1)\n",
    "\n",
    "percentage_bening = 0.7 # percentage of samples which are normal after undersampling\n",
    "\n",
    "# undersample benign transactions\n",
    "undersample_frac = (len(smoted_fraud_dataX)/(1 - percentage_bening) * percentage_bening)/len(benign_df)\n",
    "undersampled_benign_df = benign_df.sample(frac=undersample_frac)\n",
    "\n",
    "undersampled_benignX = undersampled_benign_df.drop('label', axis=1)\n",
    "undersampled_benigny = undersampled_benign_df['label']\n",
    "\n",
    "smoted_undersampled_trainX = pd.concat([smoted_fraud_dataX, undersampled_benignX], ignore_index=True).reset_index(drop=True)\n",
    "smoted_undersampled_trainy = pd.concat([smoted_fraud_datay, undersampled_benigny], ignore_index=True).reset_index(drop=True)\n",
    "smoted_undersampled_trainX.head()"
   ]
  },
  {
   "cell_type": "code",
   "execution_count": 29,
   "metadata": {
    "colab": {
     "base_uri": "https://localhost:8080/"
    },
    "id": "EGltPkBbpp1m",
    "outputId": "11037a02-d3a9-4c94-b3b5-a6a3752c1250"
   },
   "outputs": [
    {
     "name": "stdout",
     "output_type": "stream",
     "text": [
      "There are 30.0% fraudulent samples and 70.0% benign sample after SMOTE.\n"
     ]
    }
   ],
   "source": [
    "# Check the ratio after SMOTE + Undersampling\n",
    "\n",
    "print(f'There are {round(smoted_fraud_dataX.shape[0]/smoted_undersampled_trainX.shape[0]*100, 3)}% \\\n",
    "fraudulent samples and {round(undersampled_benignX.shape[0]/smoted_undersampled_trainX.shape[0]*100, 3)}% \\\n",
    "benign sample after SMOTE.')"
   ]
  },
  {
   "cell_type": "code",
   "execution_count": 30,
   "metadata": {
    "colab": {
     "base_uri": "https://localhost:8080/",
     "height": 264
    },
    "id": "8okw8zm417MQ",
    "outputId": "66394a42-6a3f-4624-ae43-0efb74aa1041"
   },
   "outputs": [
    {
     "data": {
      "image/png": "[encoded data removed]",
      "text/plain": [
       "<Figure size 432x288 with 1 Axes>"
      ]
     },
     "metadata": {},
     "output_type": "display_data"
    }
   ],
   "source": [
    "# Create a circle at the center of the plot\n",
    "my_circle = plt.Circle( (0,0), 0.5, color='white')\n",
    "\n",
    "plt.pie([smoted_fraud_dataX.shape[0], undersampled_benignX.shape[0]], \n",
    "        labels=['Fradulent Sample', 'Benign Samples'], \n",
    "        colors=['red','green'])\n",
    "p = plt.gcf()\n",
    "p.gca().add_artist(my_circle)\n",
    "plt.title('Sample Distribution after SMOTE and Undersampling')\n",
    "plt.show()"
   ]
  },
  {
   "cell_type": "markdown",
   "metadata": {
    "id": "h1ifYZpPdzUG"
   },
   "source": [
    "### 2a. Print ROC curves"
   ]
  },
  {
   "cell_type": "code",
   "execution_count": 31,
   "metadata": {
    "colab": {
     "base_uri": "https://localhost:8080/",
     "height": 312
    },
    "id": "h_55KuvW9cSn",
    "outputId": "2b4ea115-339c-4ad9-f6ae-fe121680141d"
   },
   "outputs": [
    {
     "name": "stderr",
     "output_type": "stream",
     "text": [
      "100%|████████████████████████████████████████████████████████████████████████████████████| 4/4 [00:10<00:00,  2.59s/it]\n"
     ]
    },
    {
     "data": {
      "image/png": "[encoded data removed]",
      "text/plain": [
       "<Figure size 432x288 with 1 Axes>"
      ]
     },
     "metadata": {
      "needs_background": "light"
     },
     "output_type": "display_data"
    }
   ],
   "source": [
    "logisticReg, _, decisionTree, randomForest, isoForest = init_Models()\n",
    "\n",
    "score_values_smote = plotROC([logisticReg, decisionTree, randomForest, isoForest], \n",
    "                             smoted_trainX, \n",
    "                             testX, \n",
    "                             smoted_trainy, \n",
    "                             testy, \n",
    "                             title='Performance with SMOTE')"
   ]
  },
  {
   "cell_type": "code",
   "execution_count": 32,
   "metadata": {
    "colab": {
     "base_uri": "https://localhost:8080/",
     "height": 312
    },
    "id": "FKgsL2_blcMc",
    "outputId": "74fa9b61-e2e7-4d4c-afa5-bf76d18644e4"
   },
   "outputs": [
    {
     "name": "stderr",
     "output_type": "stream",
     "text": [
      "100%|████████████████████████████████████████████████████████████████████████████████████| 4/4 [00:04<00:00,  1.08s/it]\n"
     ]
    },
    {
     "data": {
      "image/png": "[encoded data removed]",
      "text/plain": [
       "<Figure size 432x288 with 1 Axes>"
      ]
     },
     "metadata": {
      "needs_background": "light"
     },
     "output_type": "display_data"
    }
   ],
   "source": [
    "logisticReg, _, decisionTree, randomForest, isoForest = init_Models()\n",
    "\n",
    "score_values_smote_us = plotROC([logisticReg, decisionTree, randomForest, isoForest], \n",
    "                                smoted_undersampled_trainX, \n",
    "                                testX, \n",
    "                                smoted_undersampled_trainy, \n",
    "                                testy, \n",
    "                                title='Performance with SMOTE + Undersampling')"
   ]
  },
  {
   "cell_type": "markdown",
   "metadata": {
    "id": "E9u_c8kEdzUH"
   },
   "source": [
    "### 2b. Analyse the performance of the classifiers. Explain which method performs best."
   ]
  },
  {
   "cell_type": "code",
   "execution_count": 33,
   "metadata": {
    "colab": {
     "base_uri": "https://localhost:8080/",
     "height": 175
    },
    "id": "hwoSbaFArPmd",
    "outputId": "ece3524f-4116-44ad-ac68-50abb7b7a0dd"
   },
   "outputs": [
    {
     "data": {
      "text/html": [
       "<div>\n",
       "<style scoped>\n",
       "    .dataframe tbody tr th:only-of-type {\n",
       "        vertical-align: middle;\n",
       "    }\n",
       "\n",
       "    .dataframe tbody tr th {\n",
       "        vertical-align: top;\n",
       "    }\n",
       "\n",
       "    .dataframe thead th {\n",
       "        text-align: right;\n",
       "    }\n",
       "</style>\n",
       "<table border=\"1\" class=\"dataframe\">\n",
       "  <thead>\n",
       "    <tr style=\"text-align: right;\">\n",
       "      <th></th>\n",
       "      <th>Original Data</th>\n",
       "      <th>Undersampling</th>\n",
       "      <th>SMOTE</th>\n",
       "      <th>[SMOTE + Undersampling]</th>\n",
       "    </tr>\n",
       "  </thead>\n",
       "  <tbody>\n",
       "    <tr>\n",
       "      <th>LogisticRegression</th>\n",
       "      <td>0.771701</td>\n",
       "      <td>0.841591</td>\n",
       "      <td>0.829254</td>\n",
       "      <td>0.841984</td>\n",
       "    </tr>\n",
       "    <tr>\n",
       "      <th>DecisionTreeClassifier</th>\n",
       "      <td>0.563048</td>\n",
       "      <td>0.823704</td>\n",
       "      <td>0.632653</td>\n",
       "      <td>0.740247</td>\n",
       "    </tr>\n",
       "    <tr>\n",
       "      <th>RandomForestClassifier</th>\n",
       "      <td>0.939457</td>\n",
       "      <td>0.928565</td>\n",
       "      <td>0.930195</td>\n",
       "      <td>0.926648</td>\n",
       "    </tr>\n",
       "    <tr>\n",
       "      <th>IsolationForest</th>\n",
       "      <td>0.854750</td>\n",
       "      <td>0.854750</td>\n",
       "      <td>0.854750</td>\n",
       "      <td>0.854750</td>\n",
       "    </tr>\n",
       "  </tbody>\n",
       "</table>\n",
       "</div>"
      ],
      "text/plain": [
       "                        Original Data  Undersampling     SMOTE  \\\n",
       "LogisticRegression           0.771701       0.841591  0.829254   \n",
       "DecisionTreeClassifier       0.563048       0.823704  0.632653   \n",
       "RandomForestClassifier       0.939457       0.928565  0.930195   \n",
       "IsolationForest              0.854750       0.854750  0.854750   \n",
       "\n",
       "                        [SMOTE + Undersampling]  \n",
       "LogisticRegression                     0.841984  \n",
       "DecisionTreeClassifier                 0.740247  \n",
       "RandomForestClassifier                 0.926648  \n",
       "IsolationForest                        0.854750  "
      ]
     },
     "execution_count": 33,
     "metadata": {},
     "output_type": "execute_result"
    }
   ],
   "source": [
    "# Compare performance over original vs undersampled data\n",
    "\n",
    "pd.DataFrame({'Original Data': score_values, \n",
    "              'Undersampling': score_values_us,\n",
    "              'SMOTE': score_values_smote,\n",
    "              '[SMOTE + Undersampling]': score_values_smote_us})"
   ]
  },
  {
   "cell_type": "markdown",
   "metadata": {
    "id": "rmKXyeXaTxJa"
   },
   "source": [
    "From the above ROC curve and AUC values, we can infer that Random Forest Classifier is the best among the selected models when using SMOTEd training data. Among the white box methods the best performing model is Logistic Regression. The superior performce of the Random Forest model could be due to its architecture - it is an ensemble created using bagging. Thereby Random Forest can decrease the variance significantly as compared to the other models. \n",
    "\n",
    "Also we can notice that smote coupled with undersampling of benign datapoints improves the performance of both the white box models. "
   ]
  },
  {
   "cell_type": "markdown",
   "metadata": {
    "id": "Xly-JMSqdzUH"
   },
   "source": [
    "### 2c. Is using SMOTE a good idea? Why (not)?"
   ]
  },
  {
   "cell_type": "markdown",
   "metadata": {
    "id": "sSABfvBhVb_j"
   },
   "source": [
    "Overall, majority of the models have shown an improvement in AUC values. This is expected as prior distribution of the both the classes becomes more evenly distributed. Hence the use of SMOTEing is a good idea."
   ]
  },
  {
   "cell_type": "markdown",
   "metadata": {
    "id": "tLPl2MgzdzUH"
   },
   "source": [
    "## 3. Privacy task – 1 A4 – Vishruty Mittal"
   ]
  },
  {
   "cell_type": "code",
   "execution_count": 34,
   "metadata": {
    "id": "iPnDSAcMpti_"
   },
   "outputs": [],
   "source": [
    "# Define rank swapping algorithm\n",
    "def rank_swapping(df_swap, column, p=10):\n",
    "    \"\"\"\n",
    "      Args:\n",
    "          df_swap: data frame on which rank swapping is to be performed\n",
    "          column: columns to be swapped\n",
    "          p: percentage of neighbours considered for swapping\n",
    "\n",
    "      Returns:\n",
    "          df_swap: swapped data frame\n",
    "    \"\"\" \n",
    "    max_length = len(df_swap)\n",
    "    p = int(p * 0.01 * max_length)\n",
    "    columns = list(df_swap.columns)\n",
    "    column_index = columns.index(column)\n",
    "    df_swap = df_swap.sort_values(by=column)\n",
    "    df_swap = df_swap.reset_index(drop=True)\n",
    "\n",
    "    for current_index in range(0, max_length):\n",
    "        while True:\n",
    "            swap_index = current_index + random.randint(-p,p)\n",
    "            if (swap_index < max_length - 1) and (swap_index >= 0) and (swap_index != current_index):\n",
    "                break\n",
    "        df_swap.at[current_index, column], df_swap.at[swap_index, column] = df_swap.at[swap_index, column] , df_swap.at[current_index, column]\n",
    "    return df_swap"
   ]
  },
  {
   "cell_type": "code",
   "execution_count": 35,
   "metadata": {
    "colab": {
     "base_uri": "https://localhost:8080/",
     "height": 270
    },
    "id": "G5GWMDCmFECG",
    "outputId": "6cf2e672-a554-4835-dc6a-10403f891355"
   },
   "outputs": [
    {
     "data": {
      "text/html": [
       "<div>\n",
       "<style scoped>\n",
       "    .dataframe tbody tr th:only-of-type {\n",
       "        vertical-align: middle;\n",
       "    }\n",
       "\n",
       "    .dataframe tbody tr th {\n",
       "        vertical-align: top;\n",
       "    }\n",
       "\n",
       "    .dataframe thead th {\n",
       "        text-align: right;\n",
       "    }\n",
       "</style>\n",
       "<table border=\"1\" class=\"dataframe\">\n",
       "  <thead>\n",
       "    <tr style=\"text-align: right;\">\n",
       "      <th></th>\n",
       "      <th>Id</th>\n",
       "      <th>issuercountrycode</th>\n",
       "      <th>txvariantcode</th>\n",
       "      <th>bin</th>\n",
       "      <th>amount_USD</th>\n",
       "      <th>currencycode</th>\n",
       "      <th>shoppercountrycode</th>\n",
       "      <th>shopperinteraction</th>\n",
       "      <th>cardverificationcodesupplied</th>\n",
       "      <th>cvcresponsecode</th>\n",
       "      <th>accountcode</th>\n",
       "      <th>mail_id</th>\n",
       "      <th>ip_id</th>\n",
       "      <th>card_id</th>\n",
       "    </tr>\n",
       "  </thead>\n",
       "  <tbody>\n",
       "    <tr>\n",
       "      <th>0</th>\n",
       "      <td>226994</td>\n",
       "      <td>24.0</td>\n",
       "      <td>8.0</td>\n",
       "      <td>438088.0</td>\n",
       "      <td>9827.96</td>\n",
       "      <td>0.0</td>\n",
       "      <td>8.0</td>\n",
       "      <td>1.0</td>\n",
       "      <td>1</td>\n",
       "      <td>0</td>\n",
       "      <td>0.0</td>\n",
       "      <td>7483.0</td>\n",
       "      <td>28435.0</td>\n",
       "      <td>16071.0</td>\n",
       "    </tr>\n",
       "    <tr>\n",
       "      <th>1</th>\n",
       "      <td>111732</td>\n",
       "      <td>38.0</td>\n",
       "      <td>1.0</td>\n",
       "      <td>552213.0</td>\n",
       "      <td>8151.42</td>\n",
       "      <td>1.0</td>\n",
       "      <td>46.0</td>\n",
       "      <td>1.0</td>\n",
       "      <td>1</td>\n",
       "      <td>1</td>\n",
       "      <td>3.0</td>\n",
       "      <td>30750.0</td>\n",
       "      <td>115503.0</td>\n",
       "      <td>1286.0</td>\n",
       "    </tr>\n",
       "    <tr>\n",
       "      <th>2</th>\n",
       "      <td>37265</td>\n",
       "      <td>38.0</td>\n",
       "      <td>7.0</td>\n",
       "      <td>492181.0</td>\n",
       "      <td>3578.22</td>\n",
       "      <td>1.0</td>\n",
       "      <td>46.0</td>\n",
       "      <td>1.0</td>\n",
       "      <td>1</td>\n",
       "      <td>1</td>\n",
       "      <td>3.0</td>\n",
       "      <td>53085.0</td>\n",
       "      <td>108789.0</td>\n",
       "      <td>9066.0</td>\n",
       "    </tr>\n",
       "    <tr>\n",
       "      <th>3</th>\n",
       "      <td>187853</td>\n",
       "      <td>74.0</td>\n",
       "      <td>4.0</td>\n",
       "      <td>493136.0</td>\n",
       "      <td>11060.66</td>\n",
       "      <td>2.0</td>\n",
       "      <td>95.0</td>\n",
       "      <td>1.0</td>\n",
       "      <td>1</td>\n",
       "      <td>0</td>\n",
       "      <td>1.0</td>\n",
       "      <td>118272.0</td>\n",
       "      <td>38310.0</td>\n",
       "      <td>5694.0</td>\n",
       "    </tr>\n",
       "    <tr>\n",
       "      <th>4</th>\n",
       "      <td>212500</td>\n",
       "      <td>38.0</td>\n",
       "      <td>1.0</td>\n",
       "      <td>542598.0</td>\n",
       "      <td>6180.00</td>\n",
       "      <td>1.0</td>\n",
       "      <td>46.0</td>\n",
       "      <td>1.0</td>\n",
       "      <td>1</td>\n",
       "      <td>1</td>\n",
       "      <td>3.0</td>\n",
       "      <td>111968.0</td>\n",
       "      <td>82938.0</td>\n",
       "      <td>991.0</td>\n",
       "    </tr>\n",
       "  </tbody>\n",
       "</table>\n",
       "</div>"
      ],
      "text/plain": [
       "       Id  issuercountrycode  txvariantcode       bin  amount_USD  \\\n",
       "0  226994               24.0            8.0  438088.0     9827.96   \n",
       "1  111732               38.0            1.0  552213.0     8151.42   \n",
       "2   37265               38.0            7.0  492181.0     3578.22   \n",
       "3  187853               74.0            4.0  493136.0    11060.66   \n",
       "4  212500               38.0            1.0  542598.0     6180.00   \n",
       "\n",
       "   currencycode  shoppercountrycode  shopperinteraction  \\\n",
       "0           0.0                 8.0                 1.0   \n",
       "1           1.0                46.0                 1.0   \n",
       "2           1.0                46.0                 1.0   \n",
       "3           2.0                95.0                 1.0   \n",
       "4           1.0                46.0                 1.0   \n",
       "\n",
       "   cardverificationcodesupplied  cvcresponsecode  accountcode   mail_id  \\\n",
       "0                             1                0          0.0    7483.0   \n",
       "1                             1                1          3.0   30750.0   \n",
       "2                             1                1          3.0   53085.0   \n",
       "3                             1                0          1.0  118272.0   \n",
       "4                             1                1          3.0  111968.0   \n",
       "\n",
       "      ip_id  card_id  \n",
       "0   28435.0  16071.0  \n",
       "1  115503.0   1286.0  \n",
       "2  108789.0   9066.0  \n",
       "3   38310.0   5694.0  \n",
       "4   82938.0    991.0  "
      ]
     },
     "execution_count": 35,
     "metadata": {},
     "output_type": "execute_result"
    }
   ],
   "source": [
    "#Apply Rank swapping on identifiers and quasi identifiers\n",
    "identity_columns = ['mail_id', 'ip_id', 'card_id']\n",
    "\n",
    "swapped_trainX_df = trainX\n",
    "for column in identity_columns:\n",
    "      swapped_trainX_df = rank_swapping(swapped_trainX_df, column)\n",
    "swapped_trainX_df.head()"
   ]
  },
  {
   "cell_type": "code",
   "execution_count": 36,
   "metadata": {
    "colab": {
     "base_uri": "https://localhost:8080/",
     "height": 270
    },
    "id": "Ls2Hj2ieqCpU",
    "outputId": "a250a3df-b8ac-46bd-ea14-75302fe84ce9"
   },
   "outputs": [
    {
     "data": {
      "text/html": [
       "<div>\n",
       "<style scoped>\n",
       "    .dataframe tbody tr th:only-of-type {\n",
       "        vertical-align: middle;\n",
       "    }\n",
       "\n",
       "    .dataframe tbody tr th {\n",
       "        vertical-align: top;\n",
       "    }\n",
       "\n",
       "    .dataframe thead th {\n",
       "        text-align: right;\n",
       "    }\n",
       "</style>\n",
       "<table border=\"1\" class=\"dataframe\">\n",
       "  <thead>\n",
       "    <tr style=\"text-align: right;\">\n",
       "      <th></th>\n",
       "      <th>Id</th>\n",
       "      <th>issuercountrycode</th>\n",
       "      <th>txvariantcode</th>\n",
       "      <th>bin</th>\n",
       "      <th>amount_USD</th>\n",
       "      <th>currencycode</th>\n",
       "      <th>shoppercountrycode</th>\n",
       "      <th>shopperinteraction</th>\n",
       "      <th>cardverificationcodesupplied</th>\n",
       "      <th>cvcresponsecode</th>\n",
       "      <th>accountcode</th>\n",
       "      <th>mail_id</th>\n",
       "      <th>ip_id</th>\n",
       "      <th>card_id</th>\n",
       "    </tr>\n",
       "  </thead>\n",
       "  <tbody>\n",
       "    <tr>\n",
       "      <th>0</th>\n",
       "      <td>171008</td>\n",
       "      <td>93.0</td>\n",
       "      <td>1.0</td>\n",
       "      <td>520991.0</td>\n",
       "      <td>39693.00</td>\n",
       "      <td>4.0</td>\n",
       "      <td>117.0</td>\n",
       "      <td>1.0</td>\n",
       "      <td>1</td>\n",
       "      <td>1</td>\n",
       "      <td>2.0</td>\n",
       "      <td>155794.0</td>\n",
       "      <td>106166.0</td>\n",
       "      <td>11973.0</td>\n",
       "    </tr>\n",
       "    <tr>\n",
       "      <th>1</th>\n",
       "      <td>66993</td>\n",
       "      <td>38.0</td>\n",
       "      <td>7.0</td>\n",
       "      <td>465945.0</td>\n",
       "      <td>2342.22</td>\n",
       "      <td>1.0</td>\n",
       "      <td>46.0</td>\n",
       "      <td>1.0</td>\n",
       "      <td>1</td>\n",
       "      <td>1</td>\n",
       "      <td>3.0</td>\n",
       "      <td>45277.0</td>\n",
       "      <td>118389.0</td>\n",
       "      <td>2309.0</td>\n",
       "    </tr>\n",
       "    <tr>\n",
       "      <th>2</th>\n",
       "      <td>196998</td>\n",
       "      <td>93.0</td>\n",
       "      <td>2.0</td>\n",
       "      <td>554501.0</td>\n",
       "      <td>19543.50</td>\n",
       "      <td>4.0</td>\n",
       "      <td>117.0</td>\n",
       "      <td>1.0</td>\n",
       "      <td>1</td>\n",
       "      <td>1</td>\n",
       "      <td>2.0</td>\n",
       "      <td>127170.0</td>\n",
       "      <td>85344.0</td>\n",
       "      <td>7830.0</td>\n",
       "    </tr>\n",
       "    <tr>\n",
       "      <th>3</th>\n",
       "      <td>220640</td>\n",
       "      <td>93.0</td>\n",
       "      <td>7.0</td>\n",
       "      <td>455262.0</td>\n",
       "      <td>9584.90</td>\n",
       "      <td>4.0</td>\n",
       "      <td>117.0</td>\n",
       "      <td>1.0</td>\n",
       "      <td>1</td>\n",
       "      <td>1</td>\n",
       "      <td>2.0</td>\n",
       "      <td>120382.0</td>\n",
       "      <td>35007.0</td>\n",
       "      <td>10059.0</td>\n",
       "    </tr>\n",
       "    <tr>\n",
       "      <th>4</th>\n",
       "      <td>218251</td>\n",
       "      <td>7.0</td>\n",
       "      <td>1.0</td>\n",
       "      <td>521729.0</td>\n",
       "      <td>7841.08</td>\n",
       "      <td>0.0</td>\n",
       "      <td>8.0</td>\n",
       "      <td>1.0</td>\n",
       "      <td>1</td>\n",
       "      <td>0</td>\n",
       "      <td>0.0</td>\n",
       "      <td>118541.0</td>\n",
       "      <td>50590.0</td>\n",
       "      <td>114.0</td>\n",
       "    </tr>\n",
       "  </tbody>\n",
       "</table>\n",
       "</div>"
      ],
      "text/plain": [
       "       Id  issuercountrycode  txvariantcode       bin  amount_USD  \\\n",
       "0  171008               93.0            1.0  520991.0    39693.00   \n",
       "1   66993               38.0            7.0  465945.0     2342.22   \n",
       "2  196998               93.0            2.0  554501.0    19543.50   \n",
       "3  220640               93.0            7.0  455262.0     9584.90   \n",
       "4  218251                7.0            1.0  521729.0     7841.08   \n",
       "\n",
       "   currencycode  shoppercountrycode  shopperinteraction  \\\n",
       "0           4.0               117.0                 1.0   \n",
       "1           1.0                46.0                 1.0   \n",
       "2           4.0               117.0                 1.0   \n",
       "3           4.0               117.0                 1.0   \n",
       "4           0.0                 8.0                 1.0   \n",
       "\n",
       "   cardverificationcodesupplied  cvcresponsecode  accountcode   mail_id  \\\n",
       "0                             1                1          2.0  155794.0   \n",
       "1                             1                1          3.0   45277.0   \n",
       "2                             1                1          2.0  127170.0   \n",
       "3                             1                1          2.0  120382.0   \n",
       "4                             1                0          0.0  118541.0   \n",
       "\n",
       "      ip_id  card_id  \n",
       "0  106166.0  11973.0  \n",
       "1  118389.0   2309.0  \n",
       "2   85344.0   7830.0  \n",
       "3   35007.0  10059.0  \n",
       "4   50590.0    114.0  "
      ]
     },
     "execution_count": 36,
     "metadata": {},
     "output_type": "execute_result"
    }
   ],
   "source": [
    "#Apply Rank swapping on identifiers and quasi identifiers over undersampled data\n",
    "identity_columns = ['mail_id', 'ip_id', 'card_id']\n",
    "\n",
    "swapped_us_trainX_df = undersampled_train_X\n",
    "for column in identity_columns:\n",
    "      swapped_us_trainX_df = rank_swapping(swapped_us_trainX_df, column)\n",
    "swapped_us_trainX_df.head()"
   ]
  },
  {
   "cell_type": "code",
   "execution_count": 37,
   "metadata": {
    "colab": {
     "base_uri": "https://localhost:8080/",
     "height": 270
    },
    "id": "-G-jYt_amFAR",
    "outputId": "e2af9b6a-7b35-45bc-ca8c-bb0324313c4f"
   },
   "outputs": [
    {
     "data": {
      "text/html": [
       "<div>\n",
       "<style scoped>\n",
       "    .dataframe tbody tr th:only-of-type {\n",
       "        vertical-align: middle;\n",
       "    }\n",
       "\n",
       "    .dataframe tbody tr th {\n",
       "        vertical-align: top;\n",
       "    }\n",
       "\n",
       "    .dataframe thead th {\n",
       "        text-align: right;\n",
       "    }\n",
       "</style>\n",
       "<table border=\"1\" class=\"dataframe\">\n",
       "  <thead>\n",
       "    <tr style=\"text-align: right;\">\n",
       "      <th></th>\n",
       "      <th>Id</th>\n",
       "      <th>issuercountrycode</th>\n",
       "      <th>txvariantcode</th>\n",
       "      <th>bin</th>\n",
       "      <th>amount_USD</th>\n",
       "      <th>currencycode</th>\n",
       "      <th>shoppercountrycode</th>\n",
       "      <th>shopperinteraction</th>\n",
       "      <th>cardverificationcodesupplied</th>\n",
       "      <th>cvcresponsecode</th>\n",
       "      <th>accountcode</th>\n",
       "      <th>mail_id</th>\n",
       "      <th>ip_id</th>\n",
       "      <th>card_id</th>\n",
       "    </tr>\n",
       "  </thead>\n",
       "  <tbody>\n",
       "    <tr>\n",
       "      <th>0</th>\n",
       "      <td>226994.0</td>\n",
       "      <td>24.0</td>\n",
       "      <td>8.0</td>\n",
       "      <td>438088.0</td>\n",
       "      <td>9827.96</td>\n",
       "      <td>0.0</td>\n",
       "      <td>8.0</td>\n",
       "      <td>1.0</td>\n",
       "      <td>1.0</td>\n",
       "      <td>0.0</td>\n",
       "      <td>0.0</td>\n",
       "      <td>16713.0</td>\n",
       "      <td>16516.0</td>\n",
       "      <td>1307.0</td>\n",
       "    </tr>\n",
       "    <tr>\n",
       "      <th>1</th>\n",
       "      <td>111732.0</td>\n",
       "      <td>38.0</td>\n",
       "      <td>1.0</td>\n",
       "      <td>552213.0</td>\n",
       "      <td>8151.42</td>\n",
       "      <td>1.0</td>\n",
       "      <td>46.0</td>\n",
       "      <td>1.0</td>\n",
       "      <td>1.0</td>\n",
       "      <td>1.0</td>\n",
       "      <td>3.0</td>\n",
       "      <td>7385.0</td>\n",
       "      <td>113787.0</td>\n",
       "      <td>4633.0</td>\n",
       "    </tr>\n",
       "    <tr>\n",
       "      <th>2</th>\n",
       "      <td>37265.0</td>\n",
       "      <td>38.0</td>\n",
       "      <td>7.0</td>\n",
       "      <td>492181.0</td>\n",
       "      <td>3578.22</td>\n",
       "      <td>1.0</td>\n",
       "      <td>46.0</td>\n",
       "      <td>1.0</td>\n",
       "      <td>1.0</td>\n",
       "      <td>1.0</td>\n",
       "      <td>3.0</td>\n",
       "      <td>34212.0</td>\n",
       "      <td>97347.0</td>\n",
       "      <td>10413.0</td>\n",
       "    </tr>\n",
       "    <tr>\n",
       "      <th>3</th>\n",
       "      <td>187853.0</td>\n",
       "      <td>74.0</td>\n",
       "      <td>4.0</td>\n",
       "      <td>493136.0</td>\n",
       "      <td>11060.66</td>\n",
       "      <td>2.0</td>\n",
       "      <td>95.0</td>\n",
       "      <td>1.0</td>\n",
       "      <td>1.0</td>\n",
       "      <td>0.0</td>\n",
       "      <td>1.0</td>\n",
       "      <td>128556.0</td>\n",
       "      <td>36078.0</td>\n",
       "      <td>15785.0</td>\n",
       "    </tr>\n",
       "    <tr>\n",
       "      <th>4</th>\n",
       "      <td>212500.0</td>\n",
       "      <td>38.0</td>\n",
       "      <td>1.0</td>\n",
       "      <td>542598.0</td>\n",
       "      <td>6180.00</td>\n",
       "      <td>1.0</td>\n",
       "      <td>46.0</td>\n",
       "      <td>1.0</td>\n",
       "      <td>1.0</td>\n",
       "      <td>1.0</td>\n",
       "      <td>3.0</td>\n",
       "      <td>111860.0</td>\n",
       "      <td>119800.0</td>\n",
       "      <td>848.0</td>\n",
       "    </tr>\n",
       "  </tbody>\n",
       "</table>\n",
       "</div>"
      ],
      "text/plain": [
       "         Id  issuercountrycode  txvariantcode       bin  amount_USD  \\\n",
       "0  226994.0               24.0            8.0  438088.0     9827.96   \n",
       "1  111732.0               38.0            1.0  552213.0     8151.42   \n",
       "2   37265.0               38.0            7.0  492181.0     3578.22   \n",
       "3  187853.0               74.0            4.0  493136.0    11060.66   \n",
       "4  212500.0               38.0            1.0  542598.0     6180.00   \n",
       "\n",
       "   currencycode  shoppercountrycode  shopperinteraction  \\\n",
       "0           0.0                 8.0                 1.0   \n",
       "1           1.0                46.0                 1.0   \n",
       "2           1.0                46.0                 1.0   \n",
       "3           2.0                95.0                 1.0   \n",
       "4           1.0                46.0                 1.0   \n",
       "\n",
       "   cardverificationcodesupplied  cvcresponsecode  accountcode   mail_id  \\\n",
       "0                           1.0              0.0          0.0   16713.0   \n",
       "1                           1.0              1.0          3.0    7385.0   \n",
       "2                           1.0              1.0          3.0   34212.0   \n",
       "3                           1.0              0.0          1.0  128556.0   \n",
       "4                           1.0              1.0          3.0  111860.0   \n",
       "\n",
       "      ip_id  card_id  \n",
       "0   16516.0   1307.0  \n",
       "1  113787.0   4633.0  \n",
       "2   97347.0  10413.0  \n",
       "3   36078.0  15785.0  \n",
       "4  119800.0    848.0  "
      ]
     },
     "execution_count": 37,
     "metadata": {},
     "output_type": "execute_result"
    }
   ],
   "source": [
    "#Apply Rank swapping on identifiers and quasi identifiers over SMOTEd data\n",
    "identity_columns = ['mail_id', 'ip_id', 'card_id']\n",
    "\n",
    "swapped_smote_trainX_df = smoted_trainX\n",
    "for column in identity_columns:\n",
    "      swapped_smote_trainX_df = rank_swapping(swapped_smote_trainX_df, column)\n",
    "swapped_smote_trainX_df.head()"
   ]
  },
  {
   "cell_type": "code",
   "execution_count": 38,
   "metadata": {
    "colab": {
     "base_uri": "https://localhost:8080/",
     "height": 270
    },
    "id": "8K2UjjgemFeS",
    "outputId": "b725b32f-25fa-4f69-df34-6830957ed38a"
   },
   "outputs": [
    {
     "data": {
      "text/html": [
       "<div>\n",
       "<style scoped>\n",
       "    .dataframe tbody tr th:only-of-type {\n",
       "        vertical-align: middle;\n",
       "    }\n",
       "\n",
       "    .dataframe tbody tr th {\n",
       "        vertical-align: top;\n",
       "    }\n",
       "\n",
       "    .dataframe thead th {\n",
       "        text-align: right;\n",
       "    }\n",
       "</style>\n",
       "<table border=\"1\" class=\"dataframe\">\n",
       "  <thead>\n",
       "    <tr style=\"text-align: right;\">\n",
       "      <th></th>\n",
       "      <th>Id</th>\n",
       "      <th>issuercountrycode</th>\n",
       "      <th>txvariantcode</th>\n",
       "      <th>bin</th>\n",
       "      <th>amount_USD</th>\n",
       "      <th>currencycode</th>\n",
       "      <th>shoppercountrycode</th>\n",
       "      <th>shopperinteraction</th>\n",
       "      <th>cardverificationcodesupplied</th>\n",
       "      <th>cvcresponsecode</th>\n",
       "      <th>accountcode</th>\n",
       "      <th>mail_id</th>\n",
       "      <th>ip_id</th>\n",
       "      <th>card_id</th>\n",
       "    </tr>\n",
       "  </thead>\n",
       "  <tbody>\n",
       "    <tr>\n",
       "      <th>0</th>\n",
       "      <td>212500.0</td>\n",
       "      <td>38.0</td>\n",
       "      <td>1.0</td>\n",
       "      <td>542598.0</td>\n",
       "      <td>6180.000000</td>\n",
       "      <td>1.0</td>\n",
       "      <td>46.0</td>\n",
       "      <td>1.0</td>\n",
       "      <td>1.0</td>\n",
       "      <td>1.0</td>\n",
       "      <td>3.0</td>\n",
       "      <td>104954.0</td>\n",
       "      <td>106833.0</td>\n",
       "      <td>1181.0</td>\n",
       "    </tr>\n",
       "    <tr>\n",
       "      <th>1</th>\n",
       "      <td>59903.0</td>\n",
       "      <td>38.0</td>\n",
       "      <td>7.0</td>\n",
       "      <td>475130.0</td>\n",
       "      <td>3269.220000</td>\n",
       "      <td>1.0</td>\n",
       "      <td>46.0</td>\n",
       "      <td>1.0</td>\n",
       "      <td>1.0</td>\n",
       "      <td>1.0</td>\n",
       "      <td>3.0</td>\n",
       "      <td>92563.0</td>\n",
       "      <td>152269.0</td>\n",
       "      <td>3125.0</td>\n",
       "    </tr>\n",
       "    <tr>\n",
       "      <th>2</th>\n",
       "      <td>11180.0</td>\n",
       "      <td>38.0</td>\n",
       "      <td>5.0</td>\n",
       "      <td>454638.0</td>\n",
       "      <td>16562.400000</td>\n",
       "      <td>1.0</td>\n",
       "      <td>46.0</td>\n",
       "      <td>1.0</td>\n",
       "      <td>1.0</td>\n",
       "      <td>1.0</td>\n",
       "      <td>3.0</td>\n",
       "      <td>101044.0</td>\n",
       "      <td>39228.0</td>\n",
       "      <td>14528.0</td>\n",
       "    </tr>\n",
       "    <tr>\n",
       "      <th>3</th>\n",
       "      <td>134372.0</td>\n",
       "      <td>93.0</td>\n",
       "      <td>1.0</td>\n",
       "      <td>541256.0</td>\n",
       "      <td>13029.000000</td>\n",
       "      <td>4.0</td>\n",
       "      <td>8.0</td>\n",
       "      <td>1.0</td>\n",
       "      <td>1.0</td>\n",
       "      <td>1.0</td>\n",
       "      <td>2.0</td>\n",
       "      <td>123627.0</td>\n",
       "      <td>65101.0</td>\n",
       "      <td>2391.0</td>\n",
       "    </tr>\n",
       "    <tr>\n",
       "      <th>4</th>\n",
       "      <td>171008.0</td>\n",
       "      <td>7.0</td>\n",
       "      <td>1.0</td>\n",
       "      <td>552033.0</td>\n",
       "      <td>40722.876387</td>\n",
       "      <td>0.0</td>\n",
       "      <td>8.0</td>\n",
       "      <td>1.0</td>\n",
       "      <td>1.0</td>\n",
       "      <td>0.0</td>\n",
       "      <td>0.0</td>\n",
       "      <td>160674.0</td>\n",
       "      <td>106721.0</td>\n",
       "      <td>12504.0</td>\n",
       "    </tr>\n",
       "  </tbody>\n",
       "</table>\n",
       "</div>"
      ],
      "text/plain": [
       "         Id  issuercountrycode  txvariantcode       bin    amount_USD  \\\n",
       "0  212500.0               38.0            1.0  542598.0   6180.000000   \n",
       "1   59903.0               38.0            7.0  475130.0   3269.220000   \n",
       "2   11180.0               38.0            5.0  454638.0  16562.400000   \n",
       "3  134372.0               93.0            1.0  541256.0  13029.000000   \n",
       "4  171008.0                7.0            1.0  552033.0  40722.876387   \n",
       "\n",
       "   currencycode  shoppercountrycode  shopperinteraction  \\\n",
       "0           1.0                46.0                 1.0   \n",
       "1           1.0                46.0                 1.0   \n",
       "2           1.0                46.0                 1.0   \n",
       "3           4.0                 8.0                 1.0   \n",
       "4           0.0                 8.0                 1.0   \n",
       "\n",
       "   cardverificationcodesupplied  cvcresponsecode  accountcode   mail_id  \\\n",
       "0                           1.0              1.0          3.0  104954.0   \n",
       "1                           1.0              1.0          3.0   92563.0   \n",
       "2                           1.0              1.0          3.0  101044.0   \n",
       "3                           1.0              1.0          2.0  123627.0   \n",
       "4                           1.0              0.0          0.0  160674.0   \n",
       "\n",
       "      ip_id  card_id  \n",
       "0  106833.0   1181.0  \n",
       "1  152269.0   3125.0  \n",
       "2   39228.0  14528.0  \n",
       "3   65101.0   2391.0  \n",
       "4  106721.0  12504.0  "
      ]
     },
     "execution_count": 38,
     "metadata": {},
     "output_type": "execute_result"
    }
   ],
   "source": [
    "#Apply Rank swapping on identifiers and quasi identifiers over SMOTEd and undersampled data\n",
    "identity_columns = ['mail_id', 'ip_id', 'card_id']\n",
    "\n",
    "swapped_smoted_us_trainX_df = smoted_undersampled_trainX\n",
    "for column in identity_columns:\n",
    "      swapped_smoted_us_trainX_df = rank_swapping(swapped_smoted_us_trainX_df, column)\n",
    "swapped_smoted_us_trainX_df.head()"
   ]
  },
  {
   "cell_type": "markdown",
   "metadata": {
    "id": "x1Od-sphdzUI"
   },
   "source": [
    "### 3a. Print ROC curves"
   ]
  },
  {
   "cell_type": "code",
   "execution_count": 39,
   "metadata": {
    "colab": {
     "base_uri": "https://localhost:8080/",
     "height": 312
    },
    "id": "HjArpd3_dzUI",
    "outputId": "511694bf-70a4-49f5-9166-58320c592165"
   },
   "outputs": [
    {
     "name": "stderr",
     "output_type": "stream",
     "text": [
      "100%|████████████████████████████████████████████████████████████████████████████████████| 4/4 [00:10<00:00,  2.73s/it]\n"
     ]
    },
    {
     "data": {
      "image/png": "[encoded data removed]",
      "text/plain": [
       "<Figure size 432x288 with 1 Axes>"
      ]
     },
     "metadata": {
      "needs_background": "light"
     },
     "output_type": "display_data"
    }
   ],
   "source": [
    "logisticReg, _, decisionTree, randomForest, isoForest = init_Models()\n",
    "\n",
    "score_values_rs = plotROC([logisticReg, decisionTree, randomForest, isoForest], \n",
    "                          swapped_trainX_df, \n",
    "                          testX, \n",
    "                          trainy, \n",
    "                          testy, \n",
    "                          title='Performance with Rank Swapping')"
   ]
  },
  {
   "cell_type": "code",
   "execution_count": 40,
   "metadata": {
    "colab": {
     "base_uri": "https://localhost:8080/",
     "height": 312
    },
    "id": "9dgKTOOsnB8Y",
    "outputId": "04b78871-1ab0-45e5-c0e4-597c46187137"
   },
   "outputs": [
    {
     "name": "stderr",
     "output_type": "stream",
     "text": [
      "100%|████████████████████████████████████████████████████████████████████████████████████| 4/4 [00:03<00:00,  1.24it/s]\n"
     ]
    },
    {
     "data": {
      "image/png": "[encoded data removed]",
      "text/plain": [
       "<Figure size 432x288 with 1 Axes>"
      ]
     },
     "metadata": {
      "needs_background": "light"
     },
     "output_type": "display_data"
    }
   ],
   "source": [
    "logisticReg, _, decisionTree, randomForest, isoForest = init_Models()\n",
    "\n",
    "score_values_rs_us = plotROC([logisticReg, decisionTree, randomForest, isoForest], \n",
    "                             swapped_us_trainX_df, \n",
    "                             testX, \n",
    "                             undersampled_train_y, \n",
    "                             testy, \n",
    "                             title='Performance with Rank Swapping and Undersampling')"
   ]
  },
  {
   "cell_type": "code",
   "execution_count": 41,
   "metadata": {
    "colab": {
     "base_uri": "https://localhost:8080/",
     "height": 312
    },
    "id": "Dp9iArd_nCex",
    "outputId": "194e7f09-c7a1-4f65-eead-a4d9d9b39b60"
   },
   "outputs": [
    {
     "name": "stderr",
     "output_type": "stream",
     "text": [
      "100%|████████████████████████████████████████████████████████████████████████████████████| 4/4 [00:09<00:00,  2.46s/it]\n"
     ]
    },
    {
     "data": {
      "image/png": "[encoded data removed]",
      "text/plain": [
       "<Figure size 432x288 with 1 Axes>"
      ]
     },
     "metadata": {
      "needs_background": "light"
     },
     "output_type": "display_data"
    }
   ],
   "source": [
    "logisticReg, _, decisionTree, randomForest, isoForest = init_Models()\n",
    "\n",
    "score_values_smote_rs = plotROC([logisticReg, decisionTree, randomForest, isoForest], \n",
    "                                swapped_smote_trainX_df, \n",
    "                                testX, \n",
    "                                smoted_trainy, \n",
    "                                testy, \n",
    "                                title='Performance with Rank Swapping and SMOTE')"
   ]
  },
  {
   "cell_type": "code",
   "execution_count": 42,
   "metadata": {
    "colab": {
     "base_uri": "https://localhost:8080/",
     "height": 312
    },
    "id": "8DmXzFxKnDF4",
    "outputId": "e8fc5151-aecf-4720-8982-18653815b6c9"
   },
   "outputs": [
    {
     "name": "stderr",
     "output_type": "stream",
     "text": [
      "100%|████████████████████████████████████████████████████████████████████████████████████| 4/4 [00:04<00:00,  1.16s/it]\n"
     ]
    },
    {
     "data": {
      "image/png": "[encoded data removed]",
      "text/plain": [
       "<Figure size 432x288 with 1 Axes>"
      ]
     },
     "metadata": {
      "needs_background": "light"
     },
     "output_type": "display_data"
    }
   ],
   "source": [
    "logisticReg, _, decisionTree, randomForest, isoForest = init_Models()\n",
    "\n",
    "score_values_smote_us_rs = plotROC([logisticReg, decisionTree, randomForest, isoForest], \n",
    "                                   swapped_smoted_us_trainX_df, \n",
    "                                   testX, \n",
    "                                   smoted_undersampled_trainy, \n",
    "                                   testy, \n",
    "                                   title='Performance with Rank Swapping, SMOTE and undersampling')"
   ]
  },
  {
   "cell_type": "markdown",
   "metadata": {
    "id": "9hj3JdENdzUI"
   },
   "source": [
    "### 3b. Analyse the performance of the classifiers. Explain which method performs best."
   ]
  },
  {
   "cell_type": "code",
   "execution_count": 43,
   "metadata": {
    "colab": {
     "base_uri": "https://localhost:8080/",
     "height": 236
    },
    "id": "bY_0jpI8sE90",
    "outputId": "400e78bc-fc41-43e6-ee7c-6461e0b2ff8f"
   },
   "outputs": [
    {
     "data": {
      "text/html": [
       "<div>\n",
       "<style scoped>\n",
       "    .dataframe tbody tr th:only-of-type {\n",
       "        vertical-align: middle;\n",
       "    }\n",
       "\n",
       "    .dataframe tbody tr th {\n",
       "        vertical-align: top;\n",
       "    }\n",
       "\n",
       "    .dataframe thead th {\n",
       "        text-align: right;\n",
       "    }\n",
       "</style>\n",
       "<table border=\"1\" class=\"dataframe\">\n",
       "  <thead>\n",
       "    <tr style=\"text-align: right;\">\n",
       "      <th></th>\n",
       "      <th>Original Data</th>\n",
       "      <th>Undersampling</th>\n",
       "      <th>Rank Swaping</th>\n",
       "      <th>[Rank Swaping + Undersampling]</th>\n",
       "      <th>[Rank Swaping + SMOTE]</th>\n",
       "      <th>[Rank Swaping + SMOTE + Undersampling]</th>\n",
       "    </tr>\n",
       "  </thead>\n",
       "  <tbody>\n",
       "    <tr>\n",
       "      <th>LogisticRegression</th>\n",
       "      <td>0.771701</td>\n",
       "      <td>0.841591</td>\n",
       "      <td>0.378539</td>\n",
       "      <td>0.526062</td>\n",
       "      <td>0.517581</td>\n",
       "      <td>0.516776</td>\n",
       "    </tr>\n",
       "    <tr>\n",
       "      <th>DecisionTreeClassifier</th>\n",
       "      <td>0.563048</td>\n",
       "      <td>0.823704</td>\n",
       "      <td>0.499020</td>\n",
       "      <td>0.533852</td>\n",
       "      <td>0.496226</td>\n",
       "      <td>0.541038</td>\n",
       "    </tr>\n",
       "    <tr>\n",
       "      <th>RandomForestClassifier</th>\n",
       "      <td>0.939457</td>\n",
       "      <td>0.928565</td>\n",
       "      <td>0.632819</td>\n",
       "      <td>0.636092</td>\n",
       "      <td>0.509916</td>\n",
       "      <td>0.589374</td>\n",
       "    </tr>\n",
       "    <tr>\n",
       "      <th>IsolationForest</th>\n",
       "      <td>0.854750</td>\n",
       "      <td>0.854750</td>\n",
       "      <td>0.854750</td>\n",
       "      <td>0.854750</td>\n",
       "      <td>0.854750</td>\n",
       "      <td>0.854750</td>\n",
       "    </tr>\n",
       "  </tbody>\n",
       "</table>\n",
       "</div>"
      ],
      "text/plain": [
       "                        Original Data  Undersampling  Rank Swaping  \\\n",
       "LogisticRegression           0.771701       0.841591      0.378539   \n",
       "DecisionTreeClassifier       0.563048       0.823704      0.499020   \n",
       "RandomForestClassifier       0.939457       0.928565      0.632819   \n",
       "IsolationForest              0.854750       0.854750      0.854750   \n",
       "\n",
       "                        [Rank Swaping + Undersampling]  \\\n",
       "LogisticRegression                            0.526062   \n",
       "DecisionTreeClassifier                        0.533852   \n",
       "RandomForestClassifier                        0.636092   \n",
       "IsolationForest                               0.854750   \n",
       "\n",
       "                        [Rank Swaping + SMOTE]  \\\n",
       "LogisticRegression                    0.517581   \n",
       "DecisionTreeClassifier                0.496226   \n",
       "RandomForestClassifier                0.509916   \n",
       "IsolationForest                       0.854750   \n",
       "\n",
       "                        [Rank Swaping + SMOTE + Undersampling]  \n",
       "LogisticRegression                                    0.516776  \n",
       "DecisionTreeClassifier                                0.541038  \n",
       "RandomForestClassifier                                0.589374  \n",
       "IsolationForest                                       0.854750  "
      ]
     },
     "execution_count": 43,
     "metadata": {},
     "output_type": "execute_result"
    }
   ],
   "source": [
    "# Compare performance over original vs undersampled data\n",
    "\n",
    "pd.DataFrame({'Original Data': score_values, \n",
    "              'Undersampling': score_values_us,\n",
    "              'Rank Swaping': score_values_rs,\n",
    "              '[Rank Swaping + Undersampling]': score_values_rs_us,\n",
    "              '[Rank Swaping + SMOTE]': score_values_smote_rs,\n",
    "              '[Rank Swaping + SMOTE + Undersampling]': score_values_smote_us_rs})"
   ]
  },
  {
   "cell_type": "markdown",
   "metadata": {
    "id": "QoW5cUCXWsPd"
   },
   "source": [
    "From the above ROC curve and AUC values, it can be seen that the performance of  only Isolation Forest doesn't deteriorate due to rank swapping. The Logistic Regression is most affected model. Overall, the best performing model is Isolation Forest and the best among the white box models is Decision Tree Classifier."
   ]
  },
  {
   "cell_type": "markdown",
   "metadata": {
    "id": "UU1DHPMFdzUI"
   },
   "source": [
    "### 3c. Can you explain the performance difference for the different classifiers? Is it advisable to protect people’s privacy using rank-swapping? Why (not)?"
   ]
  },
  {
   "cell_type": "markdown",
   "metadata": {
    "id": "wswPpEcUgQJ5"
   },
   "source": [
    "No significant difference in ROC curve and AUC score for isolation forest could be because it looks at the difference of an attribute value from the rest of the data. Rankswapping on the personal identifiable columns doesn't necessarily affect the separation in identifiable attributes. Whereas the swapped fields might have been an important feature for the rest of the classifiers. Moreover, Random Forest was still able to perform better because of ensembling and bagging than the rest.\n",
    "\n",
    "It is always advisable to protect user's privacy while using machine learning models. Therefore, models like isolation forest can be a good option to select as there is no significant deterioration in the performance despite swapping identifiable information."
   ]
  },
  {
   "cell_type": "markdown",
   "metadata": {
    "id": "6lUffHuBdzUJ"
   },
   "source": [
    "## 4. Classification task – 2 A4"
   ]
  },
  {
   "cell_type": "markdown",
   "metadata": {
    "id": "zZXdcTIbiKQV"
   },
   "source": [
    "Based on the above discussions we decided to implement only SMOTE for section 4. The below classifiers were selected on the basis of their performance plots  in the prior sections:\n",
    "\n",
    "\n",
    "*   Random Forest Classifier [BLACK BOX]\n",
    "*   Logistic Regression [WHITE BOX]\n",
    "\n",
    "\n"
   ]
  },
  {
   "cell_type": "code",
   "execution_count": 44,
   "metadata": {
    "id": "UBvLTHqznkgl"
   },
   "outputs": [],
   "source": [
    "#Setting up 10 fold cross validation to train a black box and a white box classifier \n",
    "def ten_fold_cross_validation(classifier, features, labels):  \n",
    "    \"\"\"\n",
    "      Args:\n",
    "          classifier: classifier object\n",
    "          features: dataframe of training features\n",
    "          labels: dataframe of training labels\n",
    "    \"\"\" \n",
    "    \n",
    "    percentage_bening = 0.7 # percentage of samples which are normal after undersampling\n",
    "\n",
    "    k_fold = StratifiedKFold(n_splits=10, shuffle=True, random_state=0)\n",
    "    TP_all = []\n",
    "    FP_all = []\n",
    "    TN_all = []\n",
    "    FN_all = []\n",
    "    AUC_all = []\n",
    "    accuracy=[]\n",
    "\n",
    "    with tqdm(total=k_fold.get_n_splits(features, labels)) as pbar:\n",
    "    \n",
    "        for train_index, test_index in k_fold.split(features, labels):\n",
    "            train_feature, test_feature = features.iloc[train_index], features.iloc[test_index]\n",
    "            train_label, test_label = labels.iloc[train_index], labels.iloc[test_index]\n",
    "            \n",
    "            # Apply SMOTE-ing on train data\n",
    "            fraud_dataX = train_feature[train_label==1]\n",
    "            fraud_datay = train_label[train_label==1]\n",
    "            benign_dataX = train_feature[train_label==0]\n",
    "            benign_datay = train_label[train_label==0]\n",
    "\n",
    "            smoted_fraud_dataX, smoted_fraud_datay = smote(fraud_dataX, fraud_datay, 4000, 6, custom=True)\n",
    "\n",
    "            # Apply Undersampling on train data\n",
    "            benign_df = pd.concat([benign_dataX.reset_index(drop=True), benign_datay.reset_index(drop=True)], axis=1)\n",
    "\n",
    "            undersample_frac = (len(smoted_fraud_dataX)/(1 - percentage_bening) * percentage_bening)/len(benign_df)\n",
    "            undersampled_benign_df = benign_df.sample(frac=undersample_frac)\n",
    "            undersampled_benignX = undersampled_benign_df.drop('label', axis=1)\n",
    "            undersampled_benigny = undersampled_benign_df['label']\n",
    "\n",
    "            smoted_undersampled_trainX = pd.concat([smoted_fraud_dataX, undersampled_benignX], ignore_index=True).reset_index(drop=True)\n",
    "            smoted_undersampled_trainy = pd.concat([smoted_fraud_datay, undersampled_benigny], ignore_index=True).reset_index(drop=True)\n",
    "\n",
    "            # Fit Classifier\n",
    "            classifier.fit(smoted_undersampled_trainX, smoted_undersampled_trainy)      \n",
    "            pred_label = classifier.predict(test_feature)\n",
    "\n",
    "            # Calculating different performance metrics\n",
    "            conf_matrix = confusion_matrix(test_label, pred_label)\n",
    "            acc= accuracy_score(test_label, pred_label)*100\n",
    "            TN = conf_matrix[0][0]\n",
    "            FN = conf_matrix[1][0]\n",
    "            TP = conf_matrix[1][1]\n",
    "            FP = conf_matrix[0][1]\n",
    "\n",
    "            if not isinstance(classifier, IsolationForest):\n",
    "                pred_label_probab = classifier.predict_proba(test_feature)[:, 1]\n",
    "            else:\n",
    "                pred_label_probab = abs(classifier.score_samples(test_feature)) # score\n",
    "            \n",
    "            AUC = roc_auc_score(test_label, pred_label_probab)     \n",
    "\n",
    "            TP_all.append(TP)\n",
    "            FP_all.append(FP)\n",
    "            TN_all.append(TN)\n",
    "            FN_all.append(FN)\n",
    "            AUC_all.append(AUC)\n",
    "            accuracy.append(acc)\n",
    "\n",
    "            pbar.update(1)\n",
    "\n",
    "    TP_all = np.array(TP_all)\n",
    "    FP_all = np.array(FP_all)\n",
    "    TN_all = np.array(TN_all)\n",
    "    FN_all = np.array(FN_all)\n",
    "    AUC_all = np.array(AUC_all)\n",
    "    accuracy=np.array(accuracy)\n",
    "\n",
    "    print(\"\")\n",
    "    print(\"Accuracy: {}\".format(np.mean(accuracy)))\n",
    "    print(\"AUC: {}\".format(np.sum(AUC)))\n",
    "    print(\"True positives: {}\".format(np.sum(TP_all)))\n",
    "    print(\"False positives: {}\".format(np.sum(FP_all)))\n",
    "    print(\"True negatives: {}\".format(np.sum(TN_all)))\n",
    "    print(\"False negatives: {}\".format(np.sum(FN_all)))"
   ]
  },
  {
   "cell_type": "markdown",
   "metadata": {
    "id": "QAg3cwNldzUJ"
   },
   "source": [
    "### 4a. Print relevant plots and metrics with clear headings."
   ]
  },
  {
   "cell_type": "code",
   "execution_count": 45,
   "metadata": {
    "colab": {
     "base_uri": "https://localhost:8080/"
    },
    "id": "gvmFY_K7tNNc",
    "outputId": "22cd9e87-9919-429f-bb6c-76aee92334d8"
   },
   "outputs": [
    {
     "name": "stderr",
     "output_type": "stream",
     "text": [
      "100%|██████████████████████████████████████████████████████████████████████████████████| 10/10 [04:43<00:00, 28.36s/it]"
     ]
    },
    {
     "name": "stdout",
     "output_type": "stream",
     "text": [
      "\n",
      "Accuracy: 94.14291525070405\n",
      "AUC: 0.9319335851532928\n",
      "True positives: 213\n",
      "False positives: 10409\n",
      "True negatives: 168107\n",
      "False negatives: 63\n"
     ]
    },
    {
     "name": "stderr",
     "output_type": "stream",
     "text": [
      "\n"
     ]
    }
   ],
   "source": [
    "# Random Forest Classifier [BLACK BOX]\n",
    "\n",
    "classifier_rf = RandomForestClassifier(max_depth=6, random_state=0)\n",
    "\n",
    "ten_fold_cross_validation(classifier_rf, train_X, train_y)"
   ]
  },
  {
   "cell_type": "code",
   "execution_count": 46,
   "metadata": {
    "colab": {
     "base_uri": "https://localhost:8080/"
    },
    "id": "ekbJl0zMiI-8",
    "outputId": "f1d79528-f8de-49b8-9789-61a92f943f70"
   },
   "outputs": [
    {
     "name": "stderr",
     "output_type": "stream",
     "text": [
      "100%|██████████████████████████████████████████████████████████████████████████████████| 10/10 [04:18<00:00, 25.81s/it]"
     ]
    },
    {
     "name": "stdout",
     "output_type": "stream",
     "text": [
      "\n",
      "Accuracy: 89.61363111685525\n",
      "AUC: 0.8481397600774666\n",
      "True positives: 142\n",
      "False positives: 18436\n",
      "True negatives: 160080\n",
      "False negatives: 134\n"
     ]
    },
    {
     "name": "stderr",
     "output_type": "stream",
     "text": [
      "\n"
     ]
    }
   ],
   "source": [
    "# Logistic Regression [WHITE BOX]\n",
    "\n",
    "classifier_lg = LogisticRegression(random_state=0)\n",
    "\n",
    "ten_fold_cross_validation(classifier_lg, train_X, train_y)"
   ]
  },
  {
   "cell_type": "markdown",
   "metadata": {
    "id": "PMcrEIwfdzUJ"
   },
   "source": [
    "### 4b. Compare the performance of the two algorithms, focusing on performance criteria that are relevant in practice, use 10-fold cross-validation."
   ]
  },
  {
   "cell_type": "markdown",
   "metadata": {
    "id": "d3sdB-hwfZ1r"
   },
   "source": [
    "Random Forest Classifier is a better performer than Logistic Regression in this usecase because of the following metrics. \n",
    "\n",
    "*   It has a higher accuracy score which means predicted labels are the same as actual labels in 94% of the datapoints\n",
    "*   It has higher AUC score which means it has a higher area under the ROC curve.\n",
    "*   It has higher true positive i.e it could correctly flag the fraud samples for more datapoints than Logistic Regression.\n",
    "*   Random Forest Classifier has lower false positive i.e it correctly did not flag benign transactions as fradulant, for more datapoints than Logistic Regression.\n",
    "*   It could predict actual benign transactions as benign for more datapoints than Logistic Regression. \n",
    "*   It has low false negatives i.e it predicted fraud transactions as benign less than Logistic Regression.\n",
    "\n",
    "\n",
    "\n",
    "\n",
    "\n"
   ]
  },
  {
   "cell_type": "markdown",
   "metadata": {
    "id": "KQ0esq1-nXEQ"
   },
   "source": [
    "### 4c. Explain when your white-box classifier predicts transactions as fraudulent"
   ]
  },
  {
   "cell_type": "markdown",
   "metadata": {
    "id": "vj5n1MSindQM"
   },
   "source": [
    "Logistic Regression classifies datapoints as fradulant or benign on the basis of coefficient values. Hence it is easy to explain why a certain point got marked as fraud or benign.Below it can be seen what weights were assigned to each parameter in our Logistic Regression Classifier.\n",
    "\n",
    "We notice a high positive coefficient for shopperCountryCode for labelling a transaction as fradulant/benign. The same was observed in vizualization plot as well where certain countries had a high fradulant rate.\n",
    "\n",
    "A similar high value can also be seen in issuerCountryCode. \n",
    "Hence we can conclude country plays a significant role in classification."
   ]
  },
  {
   "cell_type": "code",
   "execution_count": 47,
   "metadata": {
    "colab": {
     "base_uri": "https://localhost:8080/",
     "height": 488
    },
    "id": "0ZZ8mvtUdzUJ",
    "outputId": "dbc54749-f8ee-4a1e-db30-bbebbe29d81f"
   },
   "outputs": [
    {
     "data": {
      "text/html": [
       "<div>\n",
       "<style scoped>\n",
       "    .dataframe tbody tr th:only-of-type {\n",
       "        vertical-align: middle;\n",
       "    }\n",
       "\n",
       "    .dataframe tbody tr th {\n",
       "        vertical-align: top;\n",
       "    }\n",
       "\n",
       "    .dataframe thead th {\n",
       "        text-align: right;\n",
       "    }\n",
       "</style>\n",
       "<table border=\"1\" class=\"dataframe\">\n",
       "  <thead>\n",
       "    <tr style=\"text-align: right;\">\n",
       "      <th></th>\n",
       "      <th>coefficient</th>\n",
       "    </tr>\n",
       "  </thead>\n",
       "  <tbody>\n",
       "    <tr>\n",
       "      <th>Id</th>\n",
       "      <td>-1.201708e-06</td>\n",
       "    </tr>\n",
       "    <tr>\n",
       "      <th>issuercountrycode</th>\n",
       "      <td>8.298875e-03</td>\n",
       "    </tr>\n",
       "    <tr>\n",
       "      <th>txvariantcode</th>\n",
       "      <td>-6.293134e-04</td>\n",
       "    </tr>\n",
       "    <tr>\n",
       "      <th>bin</th>\n",
       "      <td>-1.966732e-06</td>\n",
       "    </tr>\n",
       "    <tr>\n",
       "      <th>amount_USD</th>\n",
       "      <td>9.817889e-05</td>\n",
       "    </tr>\n",
       "    <tr>\n",
       "      <th>currencycode</th>\n",
       "      <td>2.097770e-04</td>\n",
       "    </tr>\n",
       "    <tr>\n",
       "      <th>shoppercountrycode</th>\n",
       "      <td>1.136362e-02</td>\n",
       "    </tr>\n",
       "    <tr>\n",
       "      <th>shopperinteraction</th>\n",
       "      <td>-3.874482e-05</td>\n",
       "    </tr>\n",
       "    <tr>\n",
       "      <th>cardverificationcodesupplied</th>\n",
       "      <td>-3.883813e-05</td>\n",
       "    </tr>\n",
       "    <tr>\n",
       "      <th>cvcresponsecode</th>\n",
       "      <td>-3.385490e-04</td>\n",
       "    </tr>\n",
       "    <tr>\n",
       "      <th>accountcode</th>\n",
       "      <td>-6.154671e-04</td>\n",
       "    </tr>\n",
       "    <tr>\n",
       "      <th>mail_id</th>\n",
       "      <td>-1.296895e-06</td>\n",
       "    </tr>\n",
       "    <tr>\n",
       "      <th>ip_id</th>\n",
       "      <td>-3.083845e-05</td>\n",
       "    </tr>\n",
       "    <tr>\n",
       "      <th>card_id</th>\n",
       "      <td>-2.357643e-07</td>\n",
       "    </tr>\n",
       "  </tbody>\n",
       "</table>\n",
       "</div>"
      ],
      "text/plain": [
       "                               coefficient\n",
       "Id                           -1.201708e-06\n",
       "issuercountrycode             8.298875e-03\n",
       "txvariantcode                -6.293134e-04\n",
       "bin                          -1.966732e-06\n",
       "amount_USD                    9.817889e-05\n",
       "currencycode                  2.097770e-04\n",
       "shoppercountrycode            1.136362e-02\n",
       "shopperinteraction           -3.874482e-05\n",
       "cardverificationcodesupplied -3.883813e-05\n",
       "cvcresponsecode              -3.385490e-04\n",
       "accountcode                  -6.154671e-04\n",
       "mail_id                      -1.296895e-06\n",
       "ip_id                        -3.083845e-05\n",
       "card_id                      -2.357643e-07"
      ]
     },
     "execution_count": 47,
     "metadata": {},
     "output_type": "execute_result"
    }
   ],
   "source": [
    "# Feature importance\n",
    "pd.DataFrame(classifier_lg.coef_.transpose(), index = train_X.columns, columns=['coefficient'])"
   ]
  },
  {
   "cell_type": "markdown",
   "metadata": {
    "id": "WEmg6n2xdzUK"
   },
   "source": [
    "## 5. Bonus task – 1 A4"
   ]
  },
  {
   "cell_type": "markdown",
   "metadata": {
    "id": "OnJPK8GndzUK"
   },
   "source": [
    "### 5a. Provide code and report below"
   ]
  },
  {
   "cell_type": "code",
   "execution_count": null,
   "metadata": {
    "id": "z7D8-ftAdzUK"
   },
   "outputs": [],
   "source": []
  },
  {
   "cell_type": "markdown",
   "metadata": {
    "id": "aiDFaTt2iv8-"
   },
   "source": [
    "## Generate Predictions on test set"
   ]
  },
  {
   "cell_type": "code",
   "execution_count": 48,
   "metadata": {
    "id": "H1eIiZPcm-7M"
   },
   "outputs": [],
   "source": [
    "# Test the classifier on test_data.csv file\n",
    "def generate_predictions(classifier, output_df):\n",
    "\n",
    "    # Train the data using shared train_data.csv file\n",
    "    train_X = train_df.drop(['label'], axis='columns')\n",
    "    train_y = train_df['label']\n",
    "\n",
    "    fraud_data_X = train_X[train_y==1]\n",
    "    fraud_data_y = train_y[train_y==1]\n",
    "    benign_data_X = train_X[train_y==0]\n",
    "    benign_data_y = train_y[train_y==0]\n",
    "\n",
    "    smoted_fraud_dataX, smoted_fraud_datay = smote(fraud_data_X, fraud_data_y, 4000, 6, custom=True)\n",
    "\n",
    "    # Apply Undersampling on train data\n",
    "    benign_df = pd.concat([benign_data_X.reset_index(drop=True), benign_data_y.reset_index(drop=True)], axis=1)\n",
    "\n",
    "    undersample_frac = (len(smoted_fraud_dataX)/(1 - percentage_bening) * percentage_bening)/len(benign_df)\n",
    "    undersampled_benign_df = benign_df.sample(frac=undersample_frac)\n",
    "    undersampled_benignX = undersampled_benign_df.drop('label', axis=1)\n",
    "    undersampled_benigny = undersampled_benign_df['label']\n",
    "\n",
    "    smoted_undersampled_trainX = pd.concat([smoted_fraud_dataX, undersampled_benignX], ignore_index=True).reset_index(drop=True)\n",
    "    smoted_undersampled_trainy = pd.concat([smoted_fraud_datay, undersampled_benigny], ignore_index=True).reset_index(drop=True)\n",
    "\n",
    "    classifier.fit(smoted_undersampled_trainX, smoted_undersampled_trainy)\n",
    "\n",
    "    # Predict labels for test_data.csv\n",
    "    output_df['Predicted'] = classifier.predict(test_df)\n",
    "\n",
    "    return output_df"
   ]
  },
  {
   "cell_type": "code",
   "execution_count": 49,
   "metadata": {
    "id": "Q7q3H7azivk4"
   },
   "outputs": [],
   "source": [
    "predictions_df = test_df\n",
    "predictions_df = predictions_df[['Id']]"
   ]
  },
  {
   "cell_type": "code",
   "execution_count": 50,
   "metadata": {
    "id": "hvIWwS-ImkjX"
   },
   "outputs": [],
   "source": [
    "classifier_rf = RandomForestClassifier(max_depth=6, random_state=0)"
   ]
  },
  {
   "cell_type": "code",
   "execution_count": 51,
   "metadata": {
    "colab": {
     "base_uri": "https://localhost:8080/"
    },
    "id": "lWcOZEfapP9-",
    "outputId": "88e6b046-cc48-4c00-e862-7744f4bd6fad"
   },
   "outputs": [
    {
     "name": "stderr",
     "output_type": "stream",
     "text": [
      "C:\\Users\\Dell\\AppData\\Local\\Temp\\ipykernel_48512\\2730042377.py:29: SettingWithCopyWarning: \n",
      "A value is trying to be set on a copy of a slice from a DataFrame.\n",
      "Try using .loc[row_indexer,col_indexer] = value instead\n",
      "\n",
      "See the caveats in the documentation: https://pandas.pydata.org/pandas-docs/stable/user_guide/indexing.html#returning-a-view-versus-a-copy\n",
      "  output_df['Predicted'] = classifier.predict(test_df)\n"
     ]
    },
    {
     "data": {
      "text/html": [
       "<div>\n",
       "<style scoped>\n",
       "    .dataframe tbody tr th:only-of-type {\n",
       "        vertical-align: middle;\n",
       "    }\n",
       "\n",
       "    .dataframe tbody tr th {\n",
       "        vertical-align: top;\n",
       "    }\n",
       "\n",
       "    .dataframe thead th {\n",
       "        text-align: right;\n",
       "    }\n",
       "</style>\n",
       "<table border=\"1\" class=\"dataframe\">\n",
       "  <thead>\n",
       "    <tr style=\"text-align: right;\">\n",
       "      <th></th>\n",
       "      <th>Id</th>\n",
       "      <th>Predicted</th>\n",
       "    </tr>\n",
       "  </thead>\n",
       "  <tbody>\n",
       "    <tr>\n",
       "      <th>0</th>\n",
       "      <td>0</td>\n",
       "      <td>0</td>\n",
       "    </tr>\n",
       "    <tr>\n",
       "      <th>1</th>\n",
       "      <td>5</td>\n",
       "      <td>0</td>\n",
       "    </tr>\n",
       "    <tr>\n",
       "      <th>2</th>\n",
       "      <td>7</td>\n",
       "      <td>0</td>\n",
       "    </tr>\n",
       "    <tr>\n",
       "      <th>3</th>\n",
       "      <td>9</td>\n",
       "      <td>0</td>\n",
       "    </tr>\n",
       "    <tr>\n",
       "      <th>4</th>\n",
       "      <td>16</td>\n",
       "      <td>0</td>\n",
       "    </tr>\n",
       "  </tbody>\n",
       "</table>\n",
       "</div>"
      ],
      "text/plain": [
       "   Id  Predicted\n",
       "0   0          0\n",
       "1   5          0\n",
       "2   7          0\n",
       "3   9          0\n",
       "4  16          0"
      ]
     },
     "execution_count": 51,
     "metadata": {},
     "output_type": "execute_result"
    }
   ],
   "source": [
    "predictions_df = generate_predictions(classifier_rf, predictions_df)\n",
    "predictions_df.head()"
   ]
  },
  {
   "cell_type": "code",
   "execution_count": 52,
   "metadata": {
    "id": "A1sF8zo5pope"
   },
   "outputs": [],
   "source": [
    "predictions_df.to_csv('submissions_group10.csv', index=False)"
   ]
  }
 ],
 "metadata": {
  "colab": {
   "collapsed_sections": [],
   "name": "Lab1-2021.ipynb",
   "provenance": [],
   "toc_visible": true
  },
  "kernelspec": {
   "display_name": "Python 3 (ipykernel)",
   "language": "python",
   "name": "python3"
  },
  "language_info": {
   "codemirror_mode": {
    "name": "ipython",
    "version": 3
   },
   "file_extension": ".py",
   "mimetype": "text/x-python",
   "name": "python",
   "nbconvert_exporter": "python",
   "pygments_lexer": "ipython3",
   "version": "3.9.12"
  }
 },
 "nbformat": 4,
 "nbformat_minor": 1
}
